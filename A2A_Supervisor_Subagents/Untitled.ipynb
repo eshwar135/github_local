{
 "cells": [
  {
   "cell_type": "code",
   "execution_count": 1,
   "id": "cf53ff7d-7024-4f16-9776-2b435269a9f4",
   "metadata": {},
   "outputs": [],
   "source": [
    "# Imports and Setup\n",
    "import asyncio\n",
    "from typing import Dict\n"
   ]
  },
  {
   "cell_type": "code",
   "execution_count": 2,
   "id": "0a7aee1e-9077-4abf-be6a-ad1f5e6168cb",
   "metadata": {},
   "outputs": [],
   "source": [
    "# Define Subagent 1: Automation Handler\n",
    "class AutomationSubAgent:\n",
    "    def __init__(self):\n",
    "        self.name = \"AutomationSubAgent\"\n",
    "\n",
    "    async def handle(self, query: str) -> str:\n",
    "        if \"automate\" in query.lower():\n",
    "            return f\"{self.name} handled automation for query: {query}\"\n",
    "        return \"\"\n"
   ]
  },
  {
   "cell_type": "code",
   "execution_count": 3,
   "id": "849d8711-5732-4622-9f37-d283a7f5bef5",
   "metadata": {},
   "outputs": [],
   "source": [
    "# Define Subagent 2: Deep Analysis Handler\n",
    "class DeepAnalysisSubAgent:\n",
    "    def __init__(self):\n",
    "        self.name = \"DeepAnalysisSubAgent\"\n",
    "\n",
    "    async def handle(self, query: str) -> str:\n",
    "        if \"analysis\" in query.lower() or \"deep\" in query.lower():\n",
    "            return f\"{self.name} performed deep analysis for query: {query}\"\n",
    "        return \"\"\n"
   ]
  },
  {
   "cell_type": "code",
   "execution_count": 4,
   "id": "02206cf1-5e97-4e75-bb09-246316162b87",
   "metadata": {},
   "outputs": [],
   "source": [
    "# Define Supervisor Agent\n",
    "class SupervisorAgent:\n",
    "    def __init__(self, subagents: Dict[str, object]):\n",
    "        self.subagents = subagents\n",
    "\n",
    "    async def classify_and_route(self, query: str) -> str:\n",
    "        if \"automate\" in query.lower():\n",
    "            response = await self.subagents[\"automation\"].handle(query)\n",
    "            if response:\n",
    "                return response\n",
    "        if \"analysis\" in query.lower() or \"deep\" in query.lower():\n",
    "            response = await self.subagents[\"deep_analysis\"].handle(query)\n",
    "            if response:\n",
    "                return response\n",
    "        return \"Supervisor: No subagent could handle the query.\"\n"
   ]
  },
  {
   "cell_type": "code",
   "execution_count": 5,
   "id": "502915ad-efe6-4f5e-9091-96d3cbe9acd1",
   "metadata": {},
   "outputs": [
    {
     "name": "stdout",
     "output_type": "stream",
     "text": [
      "Query: Please automate the backup process.\n",
      "Response: AutomationSubAgent handled automation for query: Please automate the backup process.\n",
      "\n",
      "Query: Can you do a deep analysis on sales data?\n",
      "Response: DeepAnalysisSubAgent performed deep analysis for query: Can you do a deep analysis on sales data?\n",
      "\n",
      "Query: Tell me a joke.\n",
      "Response: Supervisor: No subagent could handle the query.\n",
      "\n"
     ]
    }
   ],
   "source": [
    "# Run the Supervisor with Example Queries\n",
    "async def main():\n",
    "    automation_agent = AutomationSubAgent()\n",
    "    deep_analysis_agent = DeepAnalysisSubAgent()\n",
    "\n",
    "    supervisor = SupervisorAgent({\n",
    "        \"automation\": automation_agent,\n",
    "        \"deep_analysis\": deep_analysis_agent\n",
    "    })\n",
    "\n",
    "    queries = [\n",
    "        \"Please automate the backup process.\",\n",
    "        \"Can you do a deep analysis on sales data?\",\n",
    "        \"Tell me a joke.\"\n",
    "    ]\n",
    "\n",
    "    for query in queries:\n",
    "        result = await supervisor.classify_and_route(query)\n",
    "        print(f\"Query: {query}\\nResponse: {result}\\n\")\n",
    "\n",
    "await main()\n"
   ]
  },
  {
   "cell_type": "code",
   "execution_count": null,
   "id": "687e7f80-ca98-4779-a159-92ce1688f0ba",
   "metadata": {},
   "outputs": [],
   "source": []
  }
 ],
 "metadata": {
  "kernelspec": {
   "display_name": "Python 3 (ipykernel)",
   "language": "python",
   "name": "python3"
  },
  "language_info": {
   "codemirror_mode": {
    "name": "ipython",
    "version": 3
   },
   "file_extension": ".py",
   "mimetype": "text/x-python",
   "name": "python",
   "nbconvert_exporter": "python",
   "pygments_lexer": "ipython3",
   "version": "3.11.0"
  }
 },
 "nbformat": 4,
 "nbformat_minor": 5
}
