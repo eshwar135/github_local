{
 "cells": [
  {
   "cell_type": "code",
   "execution_count": 1,
   "id": "2e4f328c-516b-4e5c-a13c-8c038ae4cb7a",
   "metadata": {},
   "outputs": [
    {
     "name": "stdout",
     "output_type": "stream",
     "text": [
      "✅ FastMCP server is running in background\n"
     ]
    },
    {
     "name": "stderr",
     "output_type": "stream",
     "text": [
      "\n",
      "\n",
      "\u001b[2m╭─\u001b[0m\u001b[2m FastMCP 2.0 \u001b[0m\u001b[2m─────────────────────────────────────────────────────────────\u001b[0m\u001b[2m─╮\u001b[0m\n",
      "\u001b[2m│\u001b[0m                                                                            \u001b[2m│\u001b[0m\n",
      "\u001b[2m│\u001b[0m    \u001b[1;32m    _ __ ___ ______           __  __  _____________    ____    ____ \u001b[0m    \u001b[2m│\u001b[0m\n",
      "\u001b[2m│\u001b[0m    \u001b[1;32m   _ __ ___ / ____/___ ______/ /_/  |/  / ____/ __ \\  |___ \\  / __ \\\u001b[0m    \u001b[2m│\u001b[0m\n",
      "\u001b[2m│\u001b[0m    \u001b[1;32m  _ __ ___ / /_  / __ `/ ___/ __/ /|_/ / /   / /_/ /  ___/ / / / / /\u001b[0m    \u001b[2m│\u001b[0m\n",
      "\u001b[2m│\u001b[0m    \u001b[1;32m _ __ ___ / __/ / /_/ (__  ) /_/ /  / / /___/ ____/  /  __/_/ /_/ / \u001b[0m    \u001b[2m│\u001b[0m\n",
      "\u001b[2m│\u001b[0m    \u001b[1;32m_ __ ___ /_/    \\__,_/____/\\__/_/  /_/\\____/_/      /_____(_)____/  \u001b[0m    \u001b[2m│\u001b[0m\n",
      "\u001b[2m│\u001b[0m                                                                            \u001b[2m│\u001b[0m\n",
      "\u001b[2m│\u001b[0m                                                                            \u001b[2m│\u001b[0m\n",
      "\u001b[2m│\u001b[0m                                                                            \u001b[2m│\u001b[0m\n",
      "\u001b[2m│\u001b[0m    \u001b[1m🖥️ \u001b[0m\u001b[1m \u001b[0m\u001b[1;36mServer name:    \u001b[0m\u001b[1;36m \u001b[0m\u001b[37mfastmcp-demo         \u001b[0m                               \u001b[2m│\u001b[0m\n",
      "\u001b[2m│\u001b[0m    \u001b[1m📦\u001b[0m\u001b[1m \u001b[0m\u001b[1;36mTransport:      \u001b[0m\u001b[1;36m \u001b[0m\u001b[37mSTDIO                \u001b[0m                               \u001b[2m│\u001b[0m\n",
      "\u001b[2m│\u001b[0m    \u001b[1m  \u001b[0m\u001b[1m \u001b[0m\u001b[1;36m                \u001b[0m\u001b[1;36m \u001b[0m\u001b[37m                     \u001b[0m                               \u001b[2m│\u001b[0m\n",
      "\u001b[2m│\u001b[0m    \u001b[1m📚\u001b[0m\u001b[1m \u001b[0m\u001b[1;36mDocs:           \u001b[0m\u001b[1;36m \u001b[0m\u001b[37mhttps://gofastmcp.com\u001b[0m                               \u001b[2m│\u001b[0m\n",
      "\u001b[2m│\u001b[0m    \u001b[1m🚀\u001b[0m\u001b[1m \u001b[0m\u001b[1;36mDeploy:         \u001b[0m\u001b[1;36m \u001b[0m\u001b[37mhttps://fastmcp.cloud\u001b[0m                               \u001b[2m│\u001b[0m\n",
      "\u001b[2m│\u001b[0m    \u001b[1m  \u001b[0m\u001b[1m \u001b[0m\u001b[1;36m                \u001b[0m\u001b[1;36m \u001b[0m\u001b[37m                     \u001b[0m                               \u001b[2m│\u001b[0m\n",
      "\u001b[2m│\u001b[0m    \u001b[1m🏎️ \u001b[0m\u001b[1m \u001b[0m\u001b[1;36mFastMCP version:\u001b[0m\u001b[1;36m \u001b[0m\u001b[2;37m2.11.3               \u001b[0m                               \u001b[2m│\u001b[0m\n",
      "\u001b[2m│\u001b[0m    \u001b[1m🤝\u001b[0m\u001b[1m \u001b[0m\u001b[1;36mMCP version:    \u001b[0m\u001b[1;36m \u001b[0m\u001b[2;37m1.12.4               \u001b[0m                               \u001b[2m│\u001b[0m\n",
      "\u001b[2m│\u001b[0m                                                                            \u001b[2m│\u001b[0m\n",
      "\u001b[2m╰────────────────────────────────────────────────────────────────────────────╯\u001b[0m\n",
      "\n",
      "\n"
     ]
    }
   ],
   "source": [
    "from fastmcp import FastMCP\n",
    "import asyncio\n",
    "from datetime import datetime\n",
    "import logging\n",
    "import nest_asyncio\n",
    "\n",
    "# logging setup\n",
    "logging.basicConfig(level=logging.INFO, format=\"%(asctime)s %(levelname)s %(message)s\")\n",
    "\n",
    "# create MCP app\n",
    "mcp = FastMCP(name=\"fastmcp-demo\", version=\"0.1.0\")\n",
    "\n",
    "# define tools\n",
    "@mcp.tool()\n",
    "def hello(name: str) -> str:\n",
    "    return f\"Hello, {name}!\"\n",
    "\n",
    "@mcp.tool()\n",
    "def add(a: float, b: float) -> float:\n",
    "    return a + b\n",
    "\n",
    "@mcp.tool()\n",
    "def reverse(text: str) -> str:\n",
    "    return text[::-1]\n",
    "\n",
    "# define resource\n",
    "@mcp.resource(\"time://now\")\n",
    "def current_time() -> str:\n",
    "    return datetime.now().isoformat()\n",
    "\n",
    "# define prompt\n",
    "@mcp.prompt(\"greet\")\n",
    "def greet_prompt():\n",
    "    return {\n",
    "        \"description\": \"A simple greeting prompt\",\n",
    "        \"messages\": [\n",
    "            {\"role\": \"system\", \"content\": \"You are a friendly greeter.\"},\n",
    "            {\"role\": \"user\", \"content\": \"Say hello in a nice way.\"}\n",
    "        ]\n",
    "    }\n",
    "\n",
    "# run MCP server in background (Jupyter-safe)\n",
    "nest_asyncio.apply()\n",
    "task = asyncio.create_task(mcp.run_async())\n",
    "print(\"✅ FastMCP server is running in background\")\n"
   ]
  },
  {
   "cell_type": "code",
   "execution_count": 3,
   "id": "655c85f6-f664-4a95-822f-950be4ab376f",
   "metadata": {},
   "outputs": [
    {
     "ename": "ModuleNotFoundError",
     "evalue": "No module named 'mcp.client.memory'",
     "output_type": "error",
     "traceback": [
      "\u001b[31m---------------------------------------------------------------------------\u001b[39m",
      "\u001b[31mModuleNotFoundError\u001b[39m                       Traceback (most recent call last)",
      "\u001b[36mCell\u001b[39m\u001b[36m \u001b[39m\u001b[32mIn[3]\u001b[39m\u001b[32m, line 1\u001b[39m\n\u001b[32m----> \u001b[39m\u001b[32m1\u001b[39m \u001b[38;5;28;01mfrom\u001b[39;00m\u001b[38;5;250m \u001b[39m\u001b[34;01mmcp\u001b[39;00m\u001b[34;01m.\u001b[39;00m\u001b[34;01mclient\u001b[39;00m\u001b[34;01m.\u001b[39;00m\u001b[34;01mmemory\u001b[39;00m\u001b[38;5;250m \u001b[39m\u001b[38;5;28;01mimport\u001b[39;00m MemorySession\n\u001b[32m      2\u001b[39m \u001b[38;5;28;01mimport\u001b[39;00m\u001b[38;5;250m \u001b[39m\u001b[34;01masyncio\u001b[39;00m,\u001b[38;5;250m \u001b[39m\u001b[34;01mnest_asyncio\u001b[39;00m\n\u001b[32m      4\u001b[39m nest_asyncio.apply()\n",
      "\u001b[31mModuleNotFoundError\u001b[39m: No module named 'mcp.client.memory'"
     ]
    }
   ],
   "source": [
    "from mcp.client.memory import MemorySession\n",
    "import asyncio, nest_asyncio\n",
    "\n",
    "nest_asyncio.apply()\n",
    "\n",
    "async def test_mcp():\n",
    "    async with MemorySession(mcp) as session:\n",
    "        res1 = await session.call_tool(\"hello\", {\"name\": \"Zayn\"})\n",
    "        print(\"MCP hello ->\", res1)\n",
    "\n",
    "        res2 = await session.call_tool(\"add\", {\"a\": 5, \"b\": 10})\n",
    "        print(\"MCP add ->\", res2)\n",
    "\n",
    "        res3 = await session.call_tool(\"reverse\", {\"text\": \"hello world\"})\n",
    "        print(\"MCP reverse ->\", res3)\n",
    "\n",
    "await test_mcp()\n"
   ]
  },
  {
   "cell_type": "code",
   "execution_count": 4,
   "id": "2b211559-fc3c-43b0-a3fb-ae2a4bac19d7",
   "metadata": {},
   "outputs": [
    {
     "ename": "ModuleNotFoundError",
     "evalue": "No module named 'mcp.memory'",
     "output_type": "error",
     "traceback": [
      "\u001b[31m---------------------------------------------------------------------------\u001b[39m",
      "\u001b[31mModuleNotFoundError\u001b[39m                       Traceback (most recent call last)",
      "\u001b[36mCell\u001b[39m\u001b[36m \u001b[39m\u001b[32mIn[4]\u001b[39m\u001b[32m, line 1\u001b[39m\n\u001b[32m----> \u001b[39m\u001b[32m1\u001b[39m \u001b[38;5;28;01mfrom\u001b[39;00m\u001b[38;5;250m \u001b[39m\u001b[34;01mmcp\u001b[39;00m\u001b[34;01m.\u001b[39;00m\u001b[34;01mmemory\u001b[39;00m\u001b[38;5;250m \u001b[39m\u001b[38;5;28;01mimport\u001b[39;00m MemorySession\n\u001b[32m      2\u001b[39m \u001b[38;5;28;01mimport\u001b[39;00m\u001b[38;5;250m \u001b[39m\u001b[34;01masyncio\u001b[39;00m,\u001b[38;5;250m \u001b[39m\u001b[34;01mnest_asyncio\u001b[39;00m\n\u001b[32m      4\u001b[39m nest_asyncio.apply()\n",
      "\u001b[31mModuleNotFoundError\u001b[39m: No module named 'mcp.memory'"
     ]
    }
   ],
   "source": [
    "from mcp.memory import MemorySession\n",
    "import asyncio, nest_asyncio\n",
    "\n",
    "nest_asyncio.apply()\n",
    "\n",
    "async def test_mcp():\n",
    "    async with MemorySession(mcp) as session:\n",
    "        res1 = await session.call_tool(\"hello\", {\"name\": \"Zayn\"})\n",
    "        print(\"MCP hello ->\", res1)\n",
    "\n",
    "        res2 = await session.call_tool(\"add\", {\"a\": 5, \"b\": 10})\n",
    "        print(\"MCP add ->\", res2)\n",
    "\n",
    "        res3 = await session.call_tool(\"reverse\", {\"text\": \"hello world\"})\n",
    "        print(\"MCP reverse ->\", res3)\n",
    "\n",
    "await test_mcp()\n",
    "\n"
   ]
  },
  {
   "cell_type": "code",
   "execution_count": 5,
   "id": "40a47e4a-98d1-4fc7-8ed5-b59e617419c3",
   "metadata": {},
   "outputs": [
    {
     "ename": "NameError",
     "evalue": "name 'mcp' is not defined",
     "output_type": "error",
     "traceback": [
      "\u001b[31m---------------------------------------------------------------------------\u001b[39m",
      "\u001b[31mNameError\u001b[39m                                 Traceback (most recent call last)",
      "\u001b[36mCell\u001b[39m\u001b[36m \u001b[39m\u001b[32mIn[5]\u001b[39m\u001b[32m, line 6\u001b[39m\n\u001b[32m      3\u001b[39m     \u001b[38;5;28;01mreturn\u001b[39;00m \u001b[33mf\u001b[39m\u001b[33m\"\u001b[39m\u001b[33mHello, \u001b[39m\u001b[38;5;132;01m{\u001b[39;00mname\u001b[38;5;132;01m}\u001b[39;00m\u001b[33m!\u001b[39m\u001b[33m\"\u001b[39m\n\u001b[32m      5\u001b[39m \u001b[38;5;66;03m# MCP tool wrapper\u001b[39;00m\n\u001b[32m----> \u001b[39m\u001b[32m6\u001b[39m \u001b[38;5;129m@mcp\u001b[39m.tool()\n\u001b[32m      7\u001b[39m \u001b[38;5;28;01mdef\u001b[39;00m\u001b[38;5;250m \u001b[39m\u001b[34mhello\u001b[39m(name: \u001b[38;5;28mstr\u001b[39m) -> \u001b[38;5;28mstr\u001b[39m:\n\u001b[32m      8\u001b[39m     \u001b[38;5;28;01mreturn\u001b[39;00m hello_fn(name)\n\u001b[32m     10\u001b[39m \u001b[38;5;66;03m# Direct test\u001b[39;00m\n",
      "\u001b[31mNameError\u001b[39m: name 'mcp' is not defined"
     ]
    }
   ],
   "source": [
    "# Plain Python functions\n",
    "def hello_fn(name: str) -> str:\n",
    "    return f\"Hello, {name}!\"\n",
    "\n",
    "# MCP tool wrapper\n",
    "@mcp.tool()\n",
    "def hello(name: str) -> str:\n",
    "    return hello_fn(name)\n",
    "\n",
    "# Direct test\n",
    "print(hello_fn(\"Zayn\"))\n"
   ]
  },
  {
   "cell_type": "code",
   "execution_count": null,
   "id": "ad1de9e3-9c3b-4501-b137-2becbd773b8c",
   "metadata": {},
   "outputs": [],
   "source": []
  }
 ],
 "metadata": {
  "kernelspec": {
   "display_name": "Python 3 (ipykernel)",
   "language": "python",
   "name": "python3"
  },
  "language_info": {
   "codemirror_mode": {
    "name": "ipython",
    "version": 3
   },
   "file_extension": ".py",
   "mimetype": "text/x-python",
   "name": "python",
   "nbconvert_exporter": "python",
   "pygments_lexer": "ipython3",
   "version": "3.13.2"
  }
 },
 "nbformat": 4,
 "nbformat_minor": 5
}
