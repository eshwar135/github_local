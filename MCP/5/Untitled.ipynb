{
 "cells": [
  {
   "cell_type": "code",
   "execution_count": 1,
   "id": "2b77080b-7d9e-41ef-8ac1-04c84df1c151",
   "metadata": {},
   "outputs": [
    {
     "name": "stdout",
     "output_type": "stream",
     "text": [
      "Defaulting to user installation because normal site-packages is not writeable\n",
      "Collecting fastmcp\n",
      "  Using cached fastmcp-2.11.3-py3-none-any.whl.metadata (17 kB)\n",
      "Requirement already satisfied: mcp in c:\\users\\18esh\\appdata\\roaming\\python\\python313\\site-packages (1.12.4)\n",
      "Collecting authlib>=1.5.2 (from fastmcp)\n",
      "  Using cached authlib-1.6.1-py2.py3-none-any.whl.metadata (1.6 kB)\n",
      "Collecting cyclopts>=3.0.0 (from fastmcp)\n",
      "  Using cached cyclopts-3.22.5-py3-none-any.whl.metadata (11 kB)\n",
      "Collecting exceptiongroup>=1.2.2 (from fastmcp)\n",
      "  Using cached exceptiongroup-1.3.0-py3-none-any.whl.metadata (6.7 kB)\n",
      "Requirement already satisfied: httpx>=0.28.1 in c:\\users\\18esh\\appdata\\roaming\\python\\python313\\site-packages (from fastmcp) (0.28.1)\n",
      "Collecting openapi-core>=0.19.5 (from fastmcp)\n",
      "  Using cached openapi_core-0.19.5-py3-none-any.whl.metadata (6.6 kB)\n",
      "Collecting openapi-pydantic>=0.5.1 (from fastmcp)\n",
      "  Using cached openapi_pydantic-0.5.1-py3-none-any.whl.metadata (10 kB)\n",
      "Requirement already satisfied: pydantic>=2.11.7 in c:\\users\\18esh\\appdata\\roaming\\python\\python313\\site-packages (from pydantic[email]>=2.11.7->fastmcp) (2.11.7)\n",
      "Collecting pyperclip>=1.9.0 (from fastmcp)\n",
      "  Using cached pyperclip-1.9.0-py3-none-any.whl\n",
      "Requirement already satisfied: python-dotenv>=1.1.0 in c:\\users\\18esh\\appdata\\roaming\\python\\python313\\site-packages (from fastmcp) (1.1.0)\n",
      "Requirement already satisfied: rich>=13.9.4 in c:\\users\\18esh\\appdata\\roaming\\python\\python313\\site-packages (from fastmcp) (14.1.0)\n",
      "Requirement already satisfied: anyio>=4.5 in c:\\users\\18esh\\appdata\\roaming\\python\\python313\\site-packages (from mcp) (4.9.0)\n",
      "Requirement already satisfied: httpx-sse>=0.4 in c:\\users\\18esh\\appdata\\roaming\\python\\python313\\site-packages (from mcp) (0.4.0)\n",
      "Requirement already satisfied: jsonschema>=4.20.0 in c:\\program files\\python313\\lib\\site-packages (from mcp) (4.23.0)\n",
      "Requirement already satisfied: pydantic-settings>=2.5.2 in c:\\users\\18esh\\appdata\\roaming\\python\\python313\\site-packages (from mcp) (2.8.1)\n",
      "Requirement already satisfied: python-multipart>=0.0.9 in c:\\users\\18esh\\appdata\\roaming\\python\\python313\\site-packages (from mcp) (0.0.20)\n",
      "Requirement already satisfied: pywin32>=310 in c:\\users\\18esh\\appdata\\roaming\\python\\python313\\site-packages (from mcp) (311)\n",
      "Requirement already satisfied: sse-starlette>=1.6.1 in c:\\users\\18esh\\appdata\\roaming\\python\\python313\\site-packages (from mcp) (3.0.2)\n",
      "Requirement already satisfied: starlette>=0.27 in c:\\users\\18esh\\appdata\\roaming\\python\\python313\\site-packages (from mcp) (0.45.3)\n",
      "Requirement already satisfied: uvicorn>=0.23.1 in c:\\users\\18esh\\appdata\\roaming\\python\\python313\\site-packages (from mcp) (0.34.0)\n",
      "Requirement already satisfied: annotated-types>=0.6.0 in c:\\users\\18esh\\appdata\\roaming\\python\\python313\\site-packages (from pydantic>=2.11.7->pydantic[email]>=2.11.7->fastmcp) (0.7.0)\n",
      "Requirement already satisfied: pydantic-core==2.33.2 in c:\\users\\18esh\\appdata\\roaming\\python\\python313\\site-packages (from pydantic>=2.11.7->pydantic[email]>=2.11.7->fastmcp) (2.33.2)\n",
      "Requirement already satisfied: typing-extensions>=4.12.2 in c:\\users\\18esh\\appdata\\roaming\\python\\python313\\site-packages (from pydantic>=2.11.7->pydantic[email]>=2.11.7->fastmcp) (4.14.1)\n",
      "Requirement already satisfied: typing-inspection>=0.4.0 in c:\\users\\18esh\\appdata\\roaming\\python\\python313\\site-packages (from pydantic>=2.11.7->pydantic[email]>=2.11.7->fastmcp) (0.4.1)\n",
      "Requirement already satisfied: idna>=2.8 in c:\\users\\18esh\\appdata\\roaming\\python\\python313\\site-packages (from anyio>=4.5->mcp) (3.10)\n",
      "Requirement already satisfied: sniffio>=1.1 in c:\\users\\18esh\\appdata\\roaming\\python\\python313\\site-packages (from anyio>=4.5->mcp) (1.3.1)\n",
      "Requirement already satisfied: cryptography in c:\\users\\18esh\\appdata\\roaming\\python\\python313\\site-packages (from authlib>=1.5.2->fastmcp) (45.0.6)\n",
      "Requirement already satisfied: attrs>=23.1.0 in c:\\users\\18esh\\appdata\\roaming\\python\\python313\\site-packages (from cyclopts>=3.0.0->fastmcp) (23.2.0)\n",
      "Collecting docstring-parser>=0.15 (from cyclopts>=3.0.0->fastmcp)\n",
      "  Using cached docstring_parser-0.17.0-py3-none-any.whl.metadata (3.5 kB)\n",
      "Collecting rich-rst<2.0.0,>=1.3.1 (from cyclopts>=3.0.0->fastmcp)\n",
      "  Using cached rich_rst-1.3.1-py3-none-any.whl.metadata (6.0 kB)\n",
      "Collecting docutils (from rich-rst<2.0.0,>=1.3.1->cyclopts>=3.0.0->fastmcp)\n",
      "  Using cached docutils-0.22-py3-none-any.whl.metadata (15 kB)\n",
      "Requirement already satisfied: certifi in c:\\users\\18esh\\appdata\\roaming\\python\\python313\\site-packages (from httpx>=0.28.1->fastmcp) (2025.7.14)\n",
      "Requirement already satisfied: httpcore==1.* in c:\\users\\18esh\\appdata\\roaming\\python\\python313\\site-packages (from httpx>=0.28.1->fastmcp) (1.0.9)\n",
      "Requirement already satisfied: h11>=0.16 in c:\\users\\18esh\\appdata\\roaming\\python\\python313\\site-packages (from httpcore==1.*->httpx>=0.28.1->fastmcp) (0.16.0)\n",
      "Requirement already satisfied: jsonschema-specifications>=2023.03.6 in c:\\program files\\python313\\lib\\site-packages (from jsonschema>=4.20.0->mcp) (2024.10.1)\n",
      "Requirement already satisfied: referencing>=0.28.4 in c:\\program files\\python313\\lib\\site-packages (from jsonschema>=4.20.0->mcp) (0.36.2)\n",
      "Requirement already satisfied: rpds-py>=0.7.1 in c:\\program files\\python313\\lib\\site-packages (from jsonschema>=4.20.0->mcp) (0.23.1)\n",
      "Collecting isodate (from openapi-core>=0.19.5->fastmcp)\n",
      "  Using cached isodate-0.7.2-py3-none-any.whl.metadata (11 kB)\n",
      "Collecting jsonschema-path<0.4.0,>=0.3.1 (from openapi-core>=0.19.5->fastmcp)\n",
      "  Using cached jsonschema_path-0.3.4-py3-none-any.whl.metadata (4.3 kB)\n",
      "Collecting more-itertools (from openapi-core>=0.19.5->fastmcp)\n",
      "  Using cached more_itertools-10.7.0-py3-none-any.whl.metadata (37 kB)\n",
      "Collecting openapi-schema-validator<0.7.0,>=0.6.0 (from openapi-core>=0.19.5->fastmcp)\n",
      "  Using cached openapi_schema_validator-0.6.3-py3-none-any.whl.metadata (5.4 kB)\n",
      "Collecting openapi-spec-validator<0.8.0,>=0.7.1 (from openapi-core>=0.19.5->fastmcp)\n",
      "  Using cached openapi_spec_validator-0.7.2-py3-none-any.whl.metadata (5.7 kB)\n",
      "Collecting parse (from openapi-core>=0.19.5->fastmcp)\n",
      "  Using cached parse-1.20.2-py2.py3-none-any.whl.metadata (22 kB)\n",
      "Collecting werkzeug<3.1.2 (from openapi-core>=0.19.5->fastmcp)\n",
      "  Using cached werkzeug-3.1.1-py3-none-any.whl.metadata (3.7 kB)\n",
      "Requirement already satisfied: PyYAML>=5.1 in c:\\users\\18esh\\appdata\\roaming\\python\\python313\\site-packages (from jsonschema-path<0.4.0,>=0.3.1->openapi-core>=0.19.5->fastmcp) (6.0.2)\n",
      "Collecting pathable<0.5.0,>=0.4.1 (from jsonschema-path<0.4.0,>=0.3.1->openapi-core>=0.19.5->fastmcp)\n",
      "  Using cached pathable-0.4.4-py3-none-any.whl.metadata (1.8 kB)\n",
      "Requirement already satisfied: requests<3.0.0,>=2.31.0 in c:\\users\\18esh\\appdata\\roaming\\python\\python313\\site-packages (from jsonschema-path<0.4.0,>=0.3.1->openapi-core>=0.19.5->fastmcp) (2.32.4)\n",
      "Requirement already satisfied: rfc3339-validator in c:\\program files\\python313\\lib\\site-packages (from openapi-schema-validator<0.7.0,>=0.6.0->openapi-core>=0.19.5->fastmcp) (0.1.4)\n",
      "Collecting lazy-object-proxy<2.0.0,>=1.7.1 (from openapi-spec-validator<0.8.0,>=0.7.1->openapi-core>=0.19.5->fastmcp)\n",
      "  Using cached lazy_object_proxy-1.11.0-cp313-cp313-win_amd64.whl.metadata (8.7 kB)\n",
      "Requirement already satisfied: charset_normalizer<4,>=2 in c:\\users\\18esh\\appdata\\roaming\\python\\python313\\site-packages (from requests<3.0.0,>=2.31.0->jsonschema-path<0.4.0,>=0.3.1->openapi-core>=0.19.5->fastmcp) (3.4.2)\n",
      "Requirement already satisfied: urllib3<3,>=1.21.1 in c:\\users\\18esh\\appdata\\roaming\\python\\python313\\site-packages (from requests<3.0.0,>=2.31.0->jsonschema-path<0.4.0,>=0.3.1->openapi-core>=0.19.5->fastmcp) (2.5.0)\n",
      "Requirement already satisfied: MarkupSafe>=2.1.1 in c:\\program files\\python313\\lib\\site-packages (from werkzeug<3.1.2->openapi-core>=0.19.5->fastmcp) (3.0.2)\n",
      "Collecting email-validator>=2.0.0 (from pydantic[email]>=2.11.7->fastmcp)\n",
      "  Using cached email_validator-2.2.0-py3-none-any.whl.metadata (25 kB)\n",
      "Collecting dnspython>=2.0.0 (from email-validator>=2.0.0->pydantic[email]>=2.11.7->fastmcp)\n",
      "  Using cached dnspython-2.7.0-py3-none-any.whl.metadata (5.8 kB)\n",
      "Requirement already satisfied: markdown-it-py>=2.2.0 in c:\\users\\18esh\\appdata\\roaming\\python\\python313\\site-packages (from rich>=13.9.4->fastmcp) (4.0.0)\n",
      "Requirement already satisfied: pygments<3.0.0,>=2.13.0 in c:\\users\\18esh\\appdata\\roaming\\python\\python313\\site-packages (from rich>=13.9.4->fastmcp) (2.19.2)\n",
      "Requirement already satisfied: mdurl~=0.1 in c:\\users\\18esh\\appdata\\roaming\\python\\python313\\site-packages (from markdown-it-py>=2.2.0->rich>=13.9.4->fastmcp) (0.1.2)\n",
      "Requirement already satisfied: click>=7.0 in c:\\users\\18esh\\appdata\\roaming\\python\\python313\\site-packages (from uvicorn>=0.23.1->mcp) (8.1.8)\n",
      "Requirement already satisfied: colorama in c:\\program files\\python313\\lib\\site-packages (from click>=7.0->uvicorn>=0.23.1->mcp) (0.4.6)\n",
      "Requirement already satisfied: cffi>=1.14 in c:\\program files\\python313\\lib\\site-packages (from cryptography->authlib>=1.5.2->fastmcp) (1.17.1)\n",
      "Requirement already satisfied: pycparser in c:\\program files\\python313\\lib\\site-packages (from cffi>=1.14->cryptography->authlib>=1.5.2->fastmcp) (2.22)\n",
      "Requirement already satisfied: six in c:\\program files\\python313\\lib\\site-packages (from rfc3339-validator->openapi-schema-validator<0.7.0,>=0.6.0->openapi-core>=0.19.5->fastmcp) (1.17.0)\n",
      "Using cached fastmcp-2.11.3-py3-none-any.whl (260 kB)\n",
      "Using cached authlib-1.6.1-py2.py3-none-any.whl (239 kB)\n",
      "Using cached cyclopts-3.22.5-py3-none-any.whl (84 kB)\n",
      "Using cached rich_rst-1.3.1-py3-none-any.whl (11 kB)\n",
      "Using cached docstring_parser-0.17.0-py3-none-any.whl (36 kB)\n",
      "Using cached exceptiongroup-1.3.0-py3-none-any.whl (16 kB)\n",
      "Using cached openapi_core-0.19.5-py3-none-any.whl (106 kB)\n",
      "Using cached jsonschema_path-0.3.4-py3-none-any.whl (14 kB)\n",
      "Using cached openapi_schema_validator-0.6.3-py3-none-any.whl (8.8 kB)\n",
      "Using cached openapi_spec_validator-0.7.2-py3-none-any.whl (39 kB)\n",
      "Using cached lazy_object_proxy-1.11.0-cp313-cp313-win_amd64.whl (28 kB)\n",
      "Using cached pathable-0.4.4-py3-none-any.whl (9.6 kB)\n",
      "Using cached werkzeug-3.1.1-py3-none-any.whl (224 kB)\n",
      "Using cached openapi_pydantic-0.5.1-py3-none-any.whl (96 kB)\n",
      "Using cached email_validator-2.2.0-py3-none-any.whl (33 kB)\n",
      "Using cached dnspython-2.7.0-py3-none-any.whl (313 kB)\n",
      "Using cached docutils-0.22-py3-none-any.whl (630 kB)\n",
      "Using cached isodate-0.7.2-py3-none-any.whl (22 kB)\n",
      "Using cached more_itertools-10.7.0-py3-none-any.whl (65 kB)\n",
      "Using cached parse-1.20.2-py2.py3-none-any.whl (20 kB)\n",
      "Installing collected packages: pyperclip, parse, werkzeug, pathable, more-itertools, lazy-object-proxy, isodate, exceptiongroup, docutils, docstring-parser, dnspython, jsonschema-path, email-validator, rich-rst, openapi-pydantic, authlib, openapi-schema-validator, cyclopts, openapi-spec-validator, openapi-core, fastmcp\n",
      "\n",
      "  Attempting uninstall: werkzeug\n",
      "\n",
      "    Found existing installation: Werkzeug 3.1.3\n",
      "\n",
      "    Uninstalling Werkzeug-3.1.3:\n",
      "\n",
      "      Successfully uninstalled Werkzeug-3.1.3\n",
      "\n",
      "   --- ------------------------------------  2/21 [werkzeug]\n",
      "   --------- ------------------------------  5/21 [lazy-object-proxy]\n",
      "   --------------- ------------------------  8/21 [docutils]\n",
      "   --------------- ------------------------  8/21 [docutils]\n",
      "   --------------- ------------------------  8/21 [docutils]\n",
      "   ------------------- -------------------- 10/21 [dnspython]\n",
      "   ------------------- -------------------- 10/21 [dnspython]\n",
      "   ---------------------- ----------------- 12/21 [email-validator]\n",
      "   ---------------------------- ----------- 15/21 [authlib]\n",
      "   ---------------------------- ----------- 15/21 [authlib]\n",
      "   ---------------------------- ----------- 15/21 [authlib]\n",
      "   ---------------------------------- ----- 18/21 [openapi-spec-validator]\n",
      "   ------------------------------------ --- 19/21 [openapi-core]\n",
      "   -------------------------------------- - 20/21 [fastmcp]\n",
      "   -------------------------------------- - 20/21 [fastmcp]\n",
      "   ---------------------------------------- 21/21 [fastmcp]\n",
      "\n",
      "Successfully installed authlib-1.6.1 cyclopts-3.22.5 dnspython-2.7.0 docstring-parser-0.17.0 docutils-0.22 email-validator-2.2.0 exceptiongroup-1.3.0 fastmcp-2.11.3 isodate-0.7.2 jsonschema-path-0.3.4 lazy-object-proxy-1.11.0 more-itertools-10.7.0 openapi-core-0.19.5 openapi-pydantic-0.5.1 openapi-schema-validator-0.6.3 openapi-spec-validator-0.7.2 parse-1.20.2 pathable-0.4.4 pyperclip-1.9.0 rich-rst-1.3.1 werkzeug-3.1.1\n"
     ]
    },
    {
     "name": "stderr",
     "output_type": "stream",
     "text": [
      "  WARNING: The scripts docutils.exe, rst2html.exe, rst2html4.exe, rst2html5.exe, rst2latex.exe, rst2man.exe, rst2odt.exe, rst2pseudoxml.exe, rst2s5.exe, rst2xetex.exe and rst2xml.exe are installed in 'C:\\Users\\18esh\\AppData\\Roaming\\Python\\Python313\\Scripts' which is not on PATH.\n",
      "  Consider adding this directory to PATH or, if you prefer to suppress this warning, use --no-warn-script-location.\n",
      "  WARNING: The script email_validator.exe is installed in 'C:\\Users\\18esh\\AppData\\Roaming\\Python\\Python313\\Scripts' which is not on PATH.\n",
      "  Consider adding this directory to PATH or, if you prefer to suppress this warning, use --no-warn-script-location.\n",
      "  WARNING: The script openapi-spec-validator.exe is installed in 'C:\\Users\\18esh\\AppData\\Roaming\\Python\\Python313\\Scripts' which is not on PATH.\n",
      "  Consider adding this directory to PATH or, if you prefer to suppress this warning, use --no-warn-script-location.\n",
      "  WARNING: The script fastmcp.exe is installed in 'C:\\Users\\18esh\\AppData\\Roaming\\Python\\Python313\\Scripts' which is not on PATH.\n",
      "  Consider adding this directory to PATH or, if you prefer to suppress this warning, use --no-warn-script-location.\n"
     ]
    }
   ],
   "source": [
    "!pip install fastmcp mcp\n"
   ]
  },
  {
   "cell_type": "code",
   "execution_count": 3,
   "id": "f4a349ce-1154-45cd-9058-926865fa97f6",
   "metadata": {},
   "outputs": [
    {
     "ename": "ImportError",
     "evalue": "cannot import name 'tool' from 'fastmcp' (C:\\Users\\18esh\\AppData\\Roaming\\Python\\Python313\\site-packages\\fastmcp\\__init__.py)",
     "output_type": "error",
     "traceback": [
      "\u001b[31m---------------------------------------------------------------------------\u001b[39m",
      "\u001b[31mImportError\u001b[39m                               Traceback (most recent call last)",
      "\u001b[36mCell\u001b[39m\u001b[36m \u001b[39m\u001b[32mIn[3]\u001b[39m\u001b[32m, line 1\u001b[39m\n\u001b[32m----> \u001b[39m\u001b[32m1\u001b[39m \u001b[38;5;28;01mfrom\u001b[39;00m\u001b[38;5;250m \u001b[39m\u001b[34;01mfastmcp\u001b[39;00m\u001b[38;5;250m \u001b[39m\u001b[38;5;28;01mimport\u001b[39;00m FastMCP, tool\n\u001b[32m      2\u001b[39m \u001b[38;5;28;01mimport\u001b[39;00m\u001b[38;5;250m \u001b[39m\u001b[34;01masyncio\u001b[39;00m\n\u001b[32m      3\u001b[39m \u001b[38;5;28;01mfrom\u001b[39;00m\u001b[38;5;250m \u001b[39m\u001b[34;01mdatetime\u001b[39;00m\u001b[38;5;250m \u001b[39m\u001b[38;5;28;01mimport\u001b[39;00m datetime\n",
      "\u001b[31mImportError\u001b[39m: cannot import name 'tool' from 'fastmcp' (C:\\Users\\18esh\\AppData\\Roaming\\Python\\Python313\\site-packages\\fastmcp\\__init__.py)"
     ]
    }
   ],
   "source": [
    "from fastmcp import FastMCP, tool\n",
    "import asyncio\n",
    "from datetime import datetime\n",
    "import logging\n",
    "\n",
    "logging.basicConfig(level=logging.INFO, format=\"%(asctime)s %(levelname)s %(message)s\")\n",
    "\n",
    "app = FastMCP(\n",
    "    name=\"fastmcp-demo\",\n",
    "    version=\"0.1.0\",\n",
    "    description=\"A minimal MCP server with a few tools.\"\n",
    ")\n",
    "\n",
    "@tool\n",
    "def hello(name: str) -> str:\n",
    "    logging.info(\"hello() called with name=%s\", name)\n",
    "    return f\"Hello, {name}!\"\n",
    "\n",
    "@tool\n",
    "def add(a: float, b: float) -> float:\n",
    "    logging.info(\"add() called with a=%s b=%s\", a, b)\n",
    "    return a + b\n",
    "\n",
    "@tool\n",
    "def reverse(text: str) -> str:\n",
    "    logging.info(\"reverse() called\")\n",
    "    return text[::-1]\n",
    "\n",
    "@app.resource(\"time://now\")\n",
    "def current_time() -> str:\n",
    "    return datetime.now().isoformat()\n",
    "\n",
    "@app.prompt(\"greet\")\n",
    "def greet_prompt():\n",
    "    return {\n",
    "        \"description\": \"A simple greeting prompt\",\n",
    "        \"messages\": [\n",
    "            {\"role\": \"system\", \"content\": \"You are a friendly greeter.\"},\n",
    "            {\"role\": \"user\", \"content\": \"Say hello in a nice way.\"}\n",
    "        ]\n",
    "    }\n"
   ]
  },
  {
   "cell_type": "code",
   "execution_count": 4,
   "id": "0995440c-61b8-4f09-b942-014bb6952b62",
   "metadata": {},
   "outputs": [
    {
     "ename": "NameError",
     "evalue": "name 'app' is not defined",
     "output_type": "error",
     "traceback": [
      "\u001b[31m---------------------------------------------------------------------------\u001b[39m",
      "\u001b[31mNameError\u001b[39m                                 Traceback (most recent call last)",
      "\u001b[36mCell\u001b[39m\u001b[36m \u001b[39m\u001b[32mIn[4]\u001b[39m\u001b[32m, line 6\u001b[39m\n\u001b[32m      2\u001b[39m \u001b[38;5;28;01mimport\u001b[39;00m\u001b[38;5;250m \u001b[39m\u001b[34;01masyncio\u001b[39;00m\n\u001b[32m      4\u001b[39m nest_asyncio.apply()  \u001b[38;5;66;03m# allows nested event loops in Jupyter\u001b[39;00m\n\u001b[32m----> \u001b[39m\u001b[32m6\u001b[39m server_task = asyncio.create_task(\u001b[43mapp\u001b[49m.run())\n",
      "\u001b[31mNameError\u001b[39m: name 'app' is not defined"
     ]
    }
   ],
   "source": [
    "import nest_asyncio\n",
    "import asyncio\n",
    "\n",
    "nest_asyncio.apply()  # allows nested event loops in Jupyter\n",
    "\n",
    "server_task = asyncio.create_task(app.run())\n"
   ]
  },
  {
   "cell_type": "code",
   "execution_count": 5,
   "id": "d6ad95d3-0976-4933-8108-1a379d88274b",
   "metadata": {},
   "outputs": [
    {
     "name": "stdout",
     "output_type": "stream",
     "text": [
      "Defaulting to user installation because normal site-packages is not writeable\n",
      "Requirement already satisfied: fastmcp in c:\\users\\18esh\\appdata\\roaming\\python\\python313\\site-packages (2.11.3)\n",
      "Requirement already satisfied: authlib>=1.5.2 in c:\\users\\18esh\\appdata\\roaming\\python\\python313\\site-packages (from fastmcp) (1.6.1)\n",
      "Requirement already satisfied: cyclopts>=3.0.0 in c:\\users\\18esh\\appdata\\roaming\\python\\python313\\site-packages (from fastmcp) (3.22.5)\n",
      "Requirement already satisfied: exceptiongroup>=1.2.2 in c:\\users\\18esh\\appdata\\roaming\\python\\python313\\site-packages (from fastmcp) (1.3.0)\n",
      "Requirement already satisfied: httpx>=0.28.1 in c:\\users\\18esh\\appdata\\roaming\\python\\python313\\site-packages (from fastmcp) (0.28.1)\n",
      "Requirement already satisfied: mcp<2.0.0,>=1.12.4 in c:\\users\\18esh\\appdata\\roaming\\python\\python313\\site-packages (from fastmcp) (1.12.4)\n",
      "Requirement already satisfied: openapi-core>=0.19.5 in c:\\users\\18esh\\appdata\\roaming\\python\\python313\\site-packages (from fastmcp) (0.19.5)\n",
      "Requirement already satisfied: openapi-pydantic>=0.5.1 in c:\\users\\18esh\\appdata\\roaming\\python\\python313\\site-packages (from fastmcp) (0.5.1)\n",
      "Requirement already satisfied: pydantic>=2.11.7 in c:\\users\\18esh\\appdata\\roaming\\python\\python313\\site-packages (from pydantic[email]>=2.11.7->fastmcp) (2.11.7)\n",
      "Requirement already satisfied: pyperclip>=1.9.0 in c:\\users\\18esh\\appdata\\roaming\\python\\python313\\site-packages (from fastmcp) (1.9.0)\n",
      "Requirement already satisfied: python-dotenv>=1.1.0 in c:\\users\\18esh\\appdata\\roaming\\python\\python313\\site-packages (from fastmcp) (1.1.0)\n",
      "Requirement already satisfied: rich>=13.9.4 in c:\\users\\18esh\\appdata\\roaming\\python\\python313\\site-packages (from fastmcp) (14.1.0)\n",
      "Requirement already satisfied: anyio>=4.5 in c:\\users\\18esh\\appdata\\roaming\\python\\python313\\site-packages (from mcp<2.0.0,>=1.12.4->fastmcp) (4.9.0)\n",
      "Requirement already satisfied: httpx-sse>=0.4 in c:\\users\\18esh\\appdata\\roaming\\python\\python313\\site-packages (from mcp<2.0.0,>=1.12.4->fastmcp) (0.4.0)\n",
      "Requirement already satisfied: jsonschema>=4.20.0 in c:\\program files\\python313\\lib\\site-packages (from mcp<2.0.0,>=1.12.4->fastmcp) (4.23.0)\n",
      "Requirement already satisfied: pydantic-settings>=2.5.2 in c:\\users\\18esh\\appdata\\roaming\\python\\python313\\site-packages (from mcp<2.0.0,>=1.12.4->fastmcp) (2.8.1)\n",
      "Requirement already satisfied: python-multipart>=0.0.9 in c:\\users\\18esh\\appdata\\roaming\\python\\python313\\site-packages (from mcp<2.0.0,>=1.12.4->fastmcp) (0.0.20)\n",
      "Requirement already satisfied: pywin32>=310 in c:\\users\\18esh\\appdata\\roaming\\python\\python313\\site-packages (from mcp<2.0.0,>=1.12.4->fastmcp) (311)\n",
      "Requirement already satisfied: sse-starlette>=1.6.1 in c:\\users\\18esh\\appdata\\roaming\\python\\python313\\site-packages (from mcp<2.0.0,>=1.12.4->fastmcp) (3.0.2)\n",
      "Requirement already satisfied: starlette>=0.27 in c:\\users\\18esh\\appdata\\roaming\\python\\python313\\site-packages (from mcp<2.0.0,>=1.12.4->fastmcp) (0.45.3)\n",
      "Requirement already satisfied: uvicorn>=0.23.1 in c:\\users\\18esh\\appdata\\roaming\\python\\python313\\site-packages (from mcp<2.0.0,>=1.12.4->fastmcp) (0.34.0)\n",
      "Requirement already satisfied: annotated-types>=0.6.0 in c:\\users\\18esh\\appdata\\roaming\\python\\python313\\site-packages (from pydantic>=2.11.7->pydantic[email]>=2.11.7->fastmcp) (0.7.0)\n",
      "Requirement already satisfied: pydantic-core==2.33.2 in c:\\users\\18esh\\appdata\\roaming\\python\\python313\\site-packages (from pydantic>=2.11.7->pydantic[email]>=2.11.7->fastmcp) (2.33.2)\n",
      "Requirement already satisfied: typing-extensions>=4.12.2 in c:\\users\\18esh\\appdata\\roaming\\python\\python313\\site-packages (from pydantic>=2.11.7->pydantic[email]>=2.11.7->fastmcp) (4.14.1)\n",
      "Requirement already satisfied: typing-inspection>=0.4.0 in c:\\users\\18esh\\appdata\\roaming\\python\\python313\\site-packages (from pydantic>=2.11.7->pydantic[email]>=2.11.7->fastmcp) (0.4.1)\n",
      "Requirement already satisfied: idna>=2.8 in c:\\users\\18esh\\appdata\\roaming\\python\\python313\\site-packages (from anyio>=4.5->mcp<2.0.0,>=1.12.4->fastmcp) (3.10)\n",
      "Requirement already satisfied: sniffio>=1.1 in c:\\users\\18esh\\appdata\\roaming\\python\\python313\\site-packages (from anyio>=4.5->mcp<2.0.0,>=1.12.4->fastmcp) (1.3.1)\n",
      "Requirement already satisfied: cryptography in c:\\users\\18esh\\appdata\\roaming\\python\\python313\\site-packages (from authlib>=1.5.2->fastmcp) (45.0.6)\n",
      "Requirement already satisfied: attrs>=23.1.0 in c:\\users\\18esh\\appdata\\roaming\\python\\python313\\site-packages (from cyclopts>=3.0.0->fastmcp) (23.2.0)\n",
      "Requirement already satisfied: docstring-parser>=0.15 in c:\\users\\18esh\\appdata\\roaming\\python\\python313\\site-packages (from cyclopts>=3.0.0->fastmcp) (0.17.0)\n",
      "Requirement already satisfied: rich-rst<2.0.0,>=1.3.1 in c:\\users\\18esh\\appdata\\roaming\\python\\python313\\site-packages (from cyclopts>=3.0.0->fastmcp) (1.3.1)\n",
      "Requirement already satisfied: docutils in c:\\users\\18esh\\appdata\\roaming\\python\\python313\\site-packages (from rich-rst<2.0.0,>=1.3.1->cyclopts>=3.0.0->fastmcp) (0.22)\n",
      "Requirement already satisfied: certifi in c:\\users\\18esh\\appdata\\roaming\\python\\python313\\site-packages (from httpx>=0.28.1->fastmcp) (2025.7.14)\n",
      "Requirement already satisfied: httpcore==1.* in c:\\users\\18esh\\appdata\\roaming\\python\\python313\\site-packages (from httpx>=0.28.1->fastmcp) (1.0.9)\n",
      "Requirement already satisfied: h11>=0.16 in c:\\users\\18esh\\appdata\\roaming\\python\\python313\\site-packages (from httpcore==1.*->httpx>=0.28.1->fastmcp) (0.16.0)\n",
      "Requirement already satisfied: jsonschema-specifications>=2023.03.6 in c:\\program files\\python313\\lib\\site-packages (from jsonschema>=4.20.0->mcp<2.0.0,>=1.12.4->fastmcp) (2024.10.1)\n",
      "Requirement already satisfied: referencing>=0.28.4 in c:\\program files\\python313\\lib\\site-packages (from jsonschema>=4.20.0->mcp<2.0.0,>=1.12.4->fastmcp) (0.36.2)\n",
      "Requirement already satisfied: rpds-py>=0.7.1 in c:\\program files\\python313\\lib\\site-packages (from jsonschema>=4.20.0->mcp<2.0.0,>=1.12.4->fastmcp) (0.23.1)\n",
      "Requirement already satisfied: isodate in c:\\users\\18esh\\appdata\\roaming\\python\\python313\\site-packages (from openapi-core>=0.19.5->fastmcp) (0.7.2)\n",
      "Requirement already satisfied: jsonschema-path<0.4.0,>=0.3.1 in c:\\users\\18esh\\appdata\\roaming\\python\\python313\\site-packages (from openapi-core>=0.19.5->fastmcp) (0.3.4)\n",
      "Requirement already satisfied: more-itertools in c:\\users\\18esh\\appdata\\roaming\\python\\python313\\site-packages (from openapi-core>=0.19.5->fastmcp) (10.7.0)\n",
      "Requirement already satisfied: openapi-schema-validator<0.7.0,>=0.6.0 in c:\\users\\18esh\\appdata\\roaming\\python\\python313\\site-packages (from openapi-core>=0.19.5->fastmcp) (0.6.3)\n",
      "Requirement already satisfied: openapi-spec-validator<0.8.0,>=0.7.1 in c:\\users\\18esh\\appdata\\roaming\\python\\python313\\site-packages (from openapi-core>=0.19.5->fastmcp) (0.7.2)\n",
      "Requirement already satisfied: parse in c:\\users\\18esh\\appdata\\roaming\\python\\python313\\site-packages (from openapi-core>=0.19.5->fastmcp) (1.20.2)\n",
      "Requirement already satisfied: werkzeug<3.1.2 in c:\\users\\18esh\\appdata\\roaming\\python\\python313\\site-packages (from openapi-core>=0.19.5->fastmcp) (3.1.1)\n",
      "Requirement already satisfied: PyYAML>=5.1 in c:\\users\\18esh\\appdata\\roaming\\python\\python313\\site-packages (from jsonschema-path<0.4.0,>=0.3.1->openapi-core>=0.19.5->fastmcp) (6.0.2)\n",
      "Requirement already satisfied: pathable<0.5.0,>=0.4.1 in c:\\users\\18esh\\appdata\\roaming\\python\\python313\\site-packages (from jsonschema-path<0.4.0,>=0.3.1->openapi-core>=0.19.5->fastmcp) (0.4.4)\n",
      "Requirement already satisfied: requests<3.0.0,>=2.31.0 in c:\\users\\18esh\\appdata\\roaming\\python\\python313\\site-packages (from jsonschema-path<0.4.0,>=0.3.1->openapi-core>=0.19.5->fastmcp) (2.32.4)\n",
      "Requirement already satisfied: rfc3339-validator in c:\\program files\\python313\\lib\\site-packages (from openapi-schema-validator<0.7.0,>=0.6.0->openapi-core>=0.19.5->fastmcp) (0.1.4)\n",
      "Requirement already satisfied: lazy-object-proxy<2.0.0,>=1.7.1 in c:\\users\\18esh\\appdata\\roaming\\python\\python313\\site-packages (from openapi-spec-validator<0.8.0,>=0.7.1->openapi-core>=0.19.5->fastmcp) (1.11.0)\n",
      "Requirement already satisfied: charset_normalizer<4,>=2 in c:\\users\\18esh\\appdata\\roaming\\python\\python313\\site-packages (from requests<3.0.0,>=2.31.0->jsonschema-path<0.4.0,>=0.3.1->openapi-core>=0.19.5->fastmcp) (3.4.2)\n",
      "Requirement already satisfied: urllib3<3,>=1.21.1 in c:\\users\\18esh\\appdata\\roaming\\python\\python313\\site-packages (from requests<3.0.0,>=2.31.0->jsonschema-path<0.4.0,>=0.3.1->openapi-core>=0.19.5->fastmcp) (2.5.0)\n",
      "Requirement already satisfied: MarkupSafe>=2.1.1 in c:\\program files\\python313\\lib\\site-packages (from werkzeug<3.1.2->openapi-core>=0.19.5->fastmcp) (3.0.2)\n",
      "Requirement already satisfied: email-validator>=2.0.0 in c:\\users\\18esh\\appdata\\roaming\\python\\python313\\site-packages (from pydantic[email]>=2.11.7->fastmcp) (2.2.0)\n",
      "Requirement already satisfied: dnspython>=2.0.0 in c:\\users\\18esh\\appdata\\roaming\\python\\python313\\site-packages (from email-validator>=2.0.0->pydantic[email]>=2.11.7->fastmcp) (2.7.0)\n",
      "Requirement already satisfied: markdown-it-py>=2.2.0 in c:\\users\\18esh\\appdata\\roaming\\python\\python313\\site-packages (from rich>=13.9.4->fastmcp) (4.0.0)\n",
      "Requirement already satisfied: pygments<3.0.0,>=2.13.0 in c:\\users\\18esh\\appdata\\roaming\\python\\python313\\site-packages (from rich>=13.9.4->fastmcp) (2.19.2)\n",
      "Requirement already satisfied: mdurl~=0.1 in c:\\users\\18esh\\appdata\\roaming\\python\\python313\\site-packages (from markdown-it-py>=2.2.0->rich>=13.9.4->fastmcp) (0.1.2)\n",
      "Requirement already satisfied: click>=7.0 in c:\\users\\18esh\\appdata\\roaming\\python\\python313\\site-packages (from uvicorn>=0.23.1->mcp<2.0.0,>=1.12.4->fastmcp) (8.1.8)\n",
      "Requirement already satisfied: colorama in c:\\program files\\python313\\lib\\site-packages (from click>=7.0->uvicorn>=0.23.1->mcp<2.0.0,>=1.12.4->fastmcp) (0.4.6)\n",
      "Requirement already satisfied: cffi>=1.14 in c:\\program files\\python313\\lib\\site-packages (from cryptography->authlib>=1.5.2->fastmcp) (1.17.1)\n",
      "Requirement already satisfied: pycparser in c:\\program files\\python313\\lib\\site-packages (from cffi>=1.14->cryptography->authlib>=1.5.2->fastmcp) (2.22)\n",
      "Requirement already satisfied: six in c:\\program files\\python313\\lib\\site-packages (from rfc3339-validator->openapi-schema-validator<0.7.0,>=0.6.0->openapi-core>=0.19.5->fastmcp) (1.17.0)\n"
     ]
    }
   ],
   "source": [
    "!pip install --upgrade fastmcp\n"
   ]
  },
  {
   "cell_type": "code",
   "execution_count": 1,
   "id": "092fddac-5302-434f-be37-958f39c447eb",
   "metadata": {},
   "outputs": [
    {
     "ename": "ModuleNotFoundError",
     "evalue": "No module named 'fastmcp.decorator'",
     "output_type": "error",
     "traceback": [
      "\u001b[31m---------------------------------------------------------------------------\u001b[39m",
      "\u001b[31mModuleNotFoundError\u001b[39m                       Traceback (most recent call last)",
      "\u001b[36mCell\u001b[39m\u001b[36m \u001b[39m\u001b[32mIn[1]\u001b[39m\u001b[32m, line 1\u001b[39m\n\u001b[32m----> \u001b[39m\u001b[32m1\u001b[39m \u001b[38;5;28;01mfrom\u001b[39;00m\u001b[38;5;250m \u001b[39m\u001b[34;01mfastmcp\u001b[39;00m\u001b[34;01m.\u001b[39;00m\u001b[34;01mdecorator\u001b[39;00m\u001b[38;5;250m \u001b[39m\u001b[38;5;28;01mimport\u001b[39;00m tool\n\u001b[32m      2\u001b[39m \u001b[38;5;28;01mfrom\u001b[39;00m\u001b[38;5;250m \u001b[39m\u001b[34;01mfastmcp\u001b[39;00m\u001b[38;5;250m \u001b[39m\u001b[38;5;28;01mimport\u001b[39;00m FastMCP\n",
      "\u001b[31mModuleNotFoundError\u001b[39m: No module named 'fastmcp.decorator'"
     ]
    }
   ],
   "source": [
    "from fastmcp.decorator import tool\n",
    "from fastmcp import FastMCP\n"
   ]
  },
  {
   "cell_type": "code",
   "execution_count": 1,
   "id": "b8436384-a819-43a1-aa93-5a4ba05bd290",
   "metadata": {},
   "outputs": [
    {
     "name": "stderr",
     "output_type": "stream",
     "text": [
      "2025-08-16 11:30:03,354 INFO Starting FastMCP server on stdio… waiting for client\n"
     ]
    },
    {
     "ename": "RuntimeError",
     "evalue": "Already running asyncio in this thread",
     "output_type": "error",
     "traceback": [
      "\u001b[31m---------------------------------------------------------------------------\u001b[39m",
      "\u001b[31mRuntimeError\u001b[39m                              Traceback (most recent call last)",
      "\u001b[36mCell\u001b[39m\u001b[36m \u001b[39m\u001b[32mIn[1]\u001b[39m\u001b[32m, line 44\u001b[39m\n\u001b[32m     42\u001b[39m \u001b[38;5;28;01mif\u001b[39;00m \u001b[34m__name__\u001b[39m == \u001b[33m\"\u001b[39m\u001b[33m__main__\u001b[39m\u001b[33m\"\u001b[39m:\n\u001b[32m     43\u001b[39m     logging.info(\u001b[33m\"\u001b[39m\u001b[33mStarting FastMCP server on stdio… waiting for client\u001b[39m\u001b[33m\"\u001b[39m)\n\u001b[32m---> \u001b[39m\u001b[32m44\u001b[39m     asyncio.run(\u001b[43mmcp\u001b[49m\u001b[43m.\u001b[49m\u001b[43mrun\u001b[49m\u001b[43m(\u001b[49m\u001b[43m)\u001b[49m)\n",
      "\u001b[36mFile \u001b[39m\u001b[32m~\\AppData\\Roaming\\Python\\Python313\\site-packages\\fastmcp\\server\\server.py:352\u001b[39m, in \u001b[36mFastMCP.run\u001b[39m\u001b[34m(self, transport, show_banner, **transport_kwargs)\u001b[39m\n\u001b[32m    340\u001b[39m \u001b[38;5;28;01mdef\u001b[39;00m\u001b[38;5;250m \u001b[39m\u001b[34mrun\u001b[39m(\n\u001b[32m    341\u001b[39m     \u001b[38;5;28mself\u001b[39m,\n\u001b[32m    342\u001b[39m     transport: Transport | \u001b[38;5;28;01mNone\u001b[39;00m = \u001b[38;5;28;01mNone\u001b[39;00m,\n\u001b[32m    343\u001b[39m     show_banner: \u001b[38;5;28mbool\u001b[39m = \u001b[38;5;28;01mTrue\u001b[39;00m,\n\u001b[32m    344\u001b[39m     **transport_kwargs: Any,\n\u001b[32m    345\u001b[39m ) -> \u001b[38;5;28;01mNone\u001b[39;00m:\n\u001b[32m    346\u001b[39m \u001b[38;5;250m    \u001b[39m\u001b[33;03m\"\"\"Run the FastMCP server. Note this is a synchronous function.\u001b[39;00m\n\u001b[32m    347\u001b[39m \n\u001b[32m    348\u001b[39m \u001b[33;03m    Args:\u001b[39;00m\n\u001b[32m    349\u001b[39m \u001b[33;03m        transport: Transport protocol to use (\"stdio\", \"sse\", or \"streamable-http\")\u001b[39;00m\n\u001b[32m    350\u001b[39m \u001b[33;03m    \"\"\"\u001b[39;00m\n\u001b[32m--> \u001b[39m\u001b[32m352\u001b[39m     \u001b[43manyio\u001b[49m\u001b[43m.\u001b[49m\u001b[43mrun\u001b[49m\u001b[43m(\u001b[49m\n\u001b[32m    353\u001b[39m \u001b[43m        \u001b[49m\u001b[43mpartial\u001b[49m\u001b[43m(\u001b[49m\n\u001b[32m    354\u001b[39m \u001b[43m            \u001b[49m\u001b[38;5;28;43mself\u001b[39;49m\u001b[43m.\u001b[49m\u001b[43mrun_async\u001b[49m\u001b[43m,\u001b[49m\n\u001b[32m    355\u001b[39m \u001b[43m            \u001b[49m\u001b[43mtransport\u001b[49m\u001b[43m,\u001b[49m\n\u001b[32m    356\u001b[39m \u001b[43m            \u001b[49m\u001b[43mshow_banner\u001b[49m\u001b[43m=\u001b[49m\u001b[43mshow_banner\u001b[49m\u001b[43m,\u001b[49m\n\u001b[32m    357\u001b[39m \u001b[43m            \u001b[49m\u001b[43m*\u001b[49m\u001b[43m*\u001b[49m\u001b[43mtransport_kwargs\u001b[49m\u001b[43m,\u001b[49m\n\u001b[32m    358\u001b[39m \u001b[43m        \u001b[49m\u001b[43m)\u001b[49m\n\u001b[32m    359\u001b[39m \u001b[43m    \u001b[49m\u001b[43m)\u001b[49m\n",
      "\u001b[36mFile \u001b[39m\u001b[32m~\\AppData\\Roaming\\Python\\Python313\\site-packages\\anyio\\_core\\_eventloop.py:59\u001b[39m, in \u001b[36mrun\u001b[39m\u001b[34m(func, backend, backend_options, *args)\u001b[39m\n\u001b[32m     57\u001b[39m     \u001b[38;5;28;01mpass\u001b[39;00m\n\u001b[32m     58\u001b[39m \u001b[38;5;28;01melse\u001b[39;00m:\n\u001b[32m---> \u001b[39m\u001b[32m59\u001b[39m     \u001b[38;5;28;01mraise\u001b[39;00m \u001b[38;5;167;01mRuntimeError\u001b[39;00m(\u001b[33mf\u001b[39m\u001b[33m\"\u001b[39m\u001b[33mAlready running \u001b[39m\u001b[38;5;132;01m{\u001b[39;00masynclib_name\u001b[38;5;132;01m}\u001b[39;00m\u001b[33m in this thread\u001b[39m\u001b[33m\"\u001b[39m)\n\u001b[32m     61\u001b[39m \u001b[38;5;28;01mtry\u001b[39;00m:\n\u001b[32m     62\u001b[39m     async_backend = get_async_backend(backend)\n",
      "\u001b[31mRuntimeError\u001b[39m: Already running asyncio in this thread"
     ]
    }
   ],
   "source": [
    "from fastmcp import FastMCP\n",
    "import asyncio\n",
    "from datetime import datetime\n",
    "import logging\n",
    "\n",
    "logging.basicConfig(level=logging.INFO, format=\"%(asctime)s %(levelname)s %(message)s\")\n",
    "\n",
    "# Create the MCP server instance\n",
    "mcp = FastMCP(name=\"fastmcp-demo\")\n",
    "\n",
    "# Define tools, resources, and prompts using decorators on the mcp instance\n",
    "\n",
    "@mcp.tool()\n",
    "def hello(name: str) -> str:\n",
    "    logging.info(\"hello() called with name=%s\", name)\n",
    "    return f\"Hello, {name}!\"\n",
    "\n",
    "@mcp.tool()\n",
    "def add(a: float, b: float) -> float:\n",
    "    logging.info(\"add() called with a=%s b=%s\", a, b)\n",
    "    return a + b\n",
    "\n",
    "@mcp.tool()\n",
    "def reverse(text: str) -> str:\n",
    "    logging.info(\"reverse() called\")\n",
    "    return text[::-1]\n",
    "\n",
    "@mcp.resource(\"time://now\")\n",
    "def current_time() -> str:\n",
    "    return datetime.now().isoformat()\n",
    "\n",
    "@mcp.prompt(\"greet\")\n",
    "def greet_prompt():\n",
    "    return {\n",
    "        \"description\": \"A simple greeting prompt\",\n",
    "        \"messages\": [\n",
    "            {\"role\": \"system\", \"content\": \"You are a friendly greeter.\"},\n",
    "            {\"role\": \"user\", \"content\": \"Say hello in a nice way.\"}\n",
    "        ]\n",
    "    }\n",
    "\n",
    "if __name__ == \"__main__\":\n",
    "    logging.info(\"Starting FastMCP server on stdio… waiting for client\")\n",
    "    asyncio.run(mcp.run())\n"
   ]
  },
  {
   "cell_type": "code",
   "execution_count": 2,
   "id": "b493ccd0-2e48-46ea-aa69-1b9bd34a06e6",
   "metadata": {},
   "outputs": [
    {
     "name": "stdout",
     "output_type": "stream",
     "text": [
      "✅ FastMCP server is running in background\n"
     ]
    },
    {
     "name": "stderr",
     "output_type": "stream",
     "text": [
      "\n",
      "\n",
      "\u001b[2m╭─\u001b[0m\u001b[2m FastMCP 2.0 \u001b[0m\u001b[2m─────────────────────────────────────────────────────────────\u001b[0m\u001b[2m─╮\u001b[0m\n",
      "\u001b[2m│\u001b[0m                                                                            \u001b[2m│\u001b[0m\n",
      "\u001b[2m│\u001b[0m    \u001b[1;32m    _ __ ___ ______           __  __  _____________    ____    ____ \u001b[0m    \u001b[2m│\u001b[0m\n",
      "\u001b[2m│\u001b[0m    \u001b[1;32m   _ __ ___ / ____/___ ______/ /_/  |/  / ____/ __ \\  |___ \\  / __ \\\u001b[0m    \u001b[2m│\u001b[0m\n",
      "\u001b[2m│\u001b[0m    \u001b[1;32m  _ __ ___ / /_  / __ `/ ___/ __/ /|_/ / /   / /_/ /  ___/ / / / / /\u001b[0m    \u001b[2m│\u001b[0m\n",
      "\u001b[2m│\u001b[0m    \u001b[1;32m _ __ ___ / __/ / /_/ (__  ) /_/ /  / / /___/ ____/  /  __/_/ /_/ / \u001b[0m    \u001b[2m│\u001b[0m\n",
      "\u001b[2m│\u001b[0m    \u001b[1;32m_ __ ___ /_/    \\__,_/____/\\__/_/  /_/\\____/_/      /_____(_)____/  \u001b[0m    \u001b[2m│\u001b[0m\n",
      "\u001b[2m│\u001b[0m                                                                            \u001b[2m│\u001b[0m\n",
      "\u001b[2m│\u001b[0m                                                                            \u001b[2m│\u001b[0m\n",
      "\u001b[2m│\u001b[0m                                                                            \u001b[2m│\u001b[0m\n",
      "\u001b[2m│\u001b[0m    \u001b[1m🖥️ \u001b[0m\u001b[1m \u001b[0m\u001b[1;36mServer name:    \u001b[0m\u001b[1;36m \u001b[0m\u001b[37mfastmcp-demo         \u001b[0m                               \u001b[2m│\u001b[0m\n",
      "\u001b[2m│\u001b[0m    \u001b[1m📦\u001b[0m\u001b[1m \u001b[0m\u001b[1;36mTransport:      \u001b[0m\u001b[1;36m \u001b[0m\u001b[37mSTDIO                \u001b[0m                               \u001b[2m│\u001b[0m\n",
      "\u001b[2m│\u001b[0m    \u001b[1m  \u001b[0m\u001b[1m \u001b[0m\u001b[1;36m                \u001b[0m\u001b[1;36m \u001b[0m\u001b[37m                     \u001b[0m                               \u001b[2m│\u001b[0m\n",
      "\u001b[2m│\u001b[0m    \u001b[1m📚\u001b[0m\u001b[1m \u001b[0m\u001b[1;36mDocs:           \u001b[0m\u001b[1;36m \u001b[0m\u001b[37mhttps://gofastmcp.com\u001b[0m                               \u001b[2m│\u001b[0m\n",
      "\u001b[2m│\u001b[0m    \u001b[1m🚀\u001b[0m\u001b[1m \u001b[0m\u001b[1;36mDeploy:         \u001b[0m\u001b[1;36m \u001b[0m\u001b[37mhttps://fastmcp.cloud\u001b[0m                               \u001b[2m│\u001b[0m\n",
      "\u001b[2m│\u001b[0m    \u001b[1m  \u001b[0m\u001b[1m \u001b[0m\u001b[1;36m                \u001b[0m\u001b[1;36m \u001b[0m\u001b[37m                     \u001b[0m                               \u001b[2m│\u001b[0m\n",
      "\u001b[2m│\u001b[0m    \u001b[1m🏎️ \u001b[0m\u001b[1m \u001b[0m\u001b[1;36mFastMCP version:\u001b[0m\u001b[1;36m \u001b[0m\u001b[2;37m2.11.3               \u001b[0m                               \u001b[2m│\u001b[0m\n",
      "\u001b[2m│\u001b[0m    \u001b[1m🤝\u001b[0m\u001b[1m \u001b[0m\u001b[1;36mMCP version:    \u001b[0m\u001b[1;36m \u001b[0m\u001b[2;37m1.12.4               \u001b[0m                               \u001b[2m│\u001b[0m\n",
      "\u001b[2m│\u001b[0m                                                                            \u001b[2m│\u001b[0m\n",
      "\u001b[2m╰────────────────────────────────────────────────────────────────────────────╯\u001b[0m\n",
      "\n",
      "\n"
     ]
    }
   ],
   "source": [
    "from fastmcp import FastMCP\n",
    "import asyncio\n",
    "from datetime import datetime\n",
    "import logging\n",
    "import nest_asyncio\n",
    "\n",
    "# logging setup\n",
    "logging.basicConfig(level=logging.INFO, format=\"%(asctime)s %(levelname)s %(message)s\")\n",
    "\n",
    "# create MCP app\n",
    "mcp = FastMCP(name=\"fastmcp-demo\", version=\"0.1.0\")\n",
    "\n",
    "# define tools\n",
    "@mcp.tool()\n",
    "def hello(name: str) -> str:\n",
    "    logging.info(\"hello() called with name=%s\", name)\n",
    "    return f\"Hello, {name}!\"\n",
    "\n",
    "@mcp.tool()\n",
    "def add(a: float, b: float) -> float:\n",
    "    logging.info(\"add() called with a=%s b=%s\", a, b)\n",
    "    return a + b\n",
    "\n",
    "@mcp.tool()\n",
    "def reverse(text: str) -> str:\n",
    "    logging.info(\"reverse() called\")\n",
    "    return text[::-1]\n",
    "\n",
    "# define resource\n",
    "@mcp.resource(\"time://now\")\n",
    "def current_time() -> str:\n",
    "    return datetime.now().isoformat()\n",
    "\n",
    "# define prompt\n",
    "@mcp.prompt(\"greet\")\n",
    "def greet_prompt():\n",
    "    return {\n",
    "        \"description\": \"A simple greeting prompt\",\n",
    "        \"messages\": [\n",
    "            {\"role\": \"system\", \"content\": \"You are a friendly greeter.\"},\n",
    "            {\"role\": \"user\", \"content\": \"Say hello in a nice way.\"}\n",
    "        ]\n",
    "    }\n",
    "\n",
    "# --- run MCP server in background inside Jupyter ---\n",
    "nest_asyncio.apply()\n",
    "task = asyncio.create_task(mcp.run_async())\n",
    "print(\"✅ FastMCP server is running in background\")\n"
   ]
  },
  {
   "cell_type": "code",
   "execution_count": 4,
   "id": "cc6e87d3-5bbd-4eb8-b268-3d8c38fc1284",
   "metadata": {},
   "outputs": [
    {
     "ename": "AttributeError",
     "evalue": "'FunctionTool' object has no attribute 'func'",
     "output_type": "error",
     "traceback": [
      "\u001b[31m---------------------------------------------------------------------------\u001b[39m",
      "\u001b[31mAttributeError\u001b[39m                            Traceback (most recent call last)",
      "\u001b[36mCell\u001b[39m\u001b[36m \u001b[39m\u001b[32mIn[4]\u001b[39m\u001b[32m, line 1\u001b[39m\n\u001b[32m----> \u001b[39m\u001b[32m1\u001b[39m \u001b[38;5;28mprint\u001b[39m(\u001b[43mhello\u001b[49m\u001b[43m.\u001b[49m\u001b[43mfunc\u001b[49m(\u001b[33m\"\u001b[39m\u001b[33mZayn\u001b[39m\u001b[33m\"\u001b[39m))\n\u001b[32m      2\u001b[39m \u001b[38;5;28mprint\u001b[39m(add.func(\u001b[32m5\u001b[39m, \u001b[32m10\u001b[39m))\n\u001b[32m      3\u001b[39m \u001b[38;5;28mprint\u001b[39m(reverse.func(\u001b[33m\"\u001b[39m\u001b[33mhello world\u001b[39m\u001b[33m\"\u001b[39m))\n",
      "\u001b[36mFile \u001b[39m\u001b[32m~\\AppData\\Roaming\\Python\\Python313\\site-packages\\pydantic\\main.py:991\u001b[39m, in \u001b[36mBaseModel.__getattr__\u001b[39m\u001b[34m(self, item)\u001b[39m\n\u001b[32m    988\u001b[39m     \u001b[38;5;28;01mreturn\u001b[39;00m \u001b[38;5;28msuper\u001b[39m().\u001b[34m__getattribute__\u001b[39m(item)  \u001b[38;5;66;03m# Raises AttributeError if appropriate\u001b[39;00m\n\u001b[32m    989\u001b[39m \u001b[38;5;28;01melse\u001b[39;00m:\n\u001b[32m    990\u001b[39m     \u001b[38;5;66;03m# this is the current error\u001b[39;00m\n\u001b[32m--> \u001b[39m\u001b[32m991\u001b[39m     \u001b[38;5;28;01mraise\u001b[39;00m \u001b[38;5;167;01mAttributeError\u001b[39;00m(\u001b[33mf\u001b[39m\u001b[33m'\u001b[39m\u001b[38;5;132;01m{\u001b[39;00m\u001b[38;5;28mtype\u001b[39m(\u001b[38;5;28mself\u001b[39m).\u001b[34m__name__\u001b[39m\u001b[38;5;132;01m!r}\u001b[39;00m\u001b[33m object has no attribute \u001b[39m\u001b[38;5;132;01m{\u001b[39;00mitem\u001b[38;5;132;01m!r}\u001b[39;00m\u001b[33m'\u001b[39m)\n",
      "\u001b[31mAttributeError\u001b[39m: 'FunctionTool' object has no attribute 'func'"
     ]
    }
   ],
   "source": [
    "print(hello.func(\"Zayn\"))\n",
    "print(add.func(5, 10))\n",
    "print(reverse.func(\"hello world\"))\n",
    "print(current_time.func())\n",
    "print(greet_prompt.func())\n"
   ]
  },
  {
   "cell_type": "code",
   "execution_count": 5,
   "id": "5ec3d0ac-1b81-41b9-9a77-f46838765a48",
   "metadata": {},
   "outputs": [
    {
     "ename": "AttributeError",
     "evalue": "'FastMCP' object has no attribute 'call_tool'",
     "output_type": "error",
     "traceback": [
      "\u001b[31m---------------------------------------------------------------------------\u001b[39m",
      "\u001b[31mAttributeError\u001b[39m                            Traceback (most recent call last)",
      "\u001b[36mCell\u001b[39m\u001b[36m \u001b[39m\u001b[32mIn[5]\u001b[39m\u001b[32m, line 3\u001b[39m\n\u001b[32m      1\u001b[39m \u001b[38;5;66;03m# test your MCP tools/resources/prompts via the MCP API\u001b[39;00m\n\u001b[32m----> \u001b[39m\u001b[32m3\u001b[39m result = \u001b[38;5;28;01mawait\u001b[39;00m \u001b[43mmcp\u001b[49m\u001b[43m.\u001b[49m\u001b[43mcall_tool\u001b[49m(\u001b[33m\"\u001b[39m\u001b[33mhello\u001b[39m\u001b[33m\"\u001b[39m, {\u001b[33m\"\u001b[39m\u001b[33mname\u001b[39m\u001b[33m\"\u001b[39m: \u001b[33m\"\u001b[39m\u001b[33mZayn\u001b[39m\u001b[33m\"\u001b[39m})\n\u001b[32m      4\u001b[39m \u001b[38;5;28mprint\u001b[39m(\u001b[33m\"\u001b[39m\u001b[33mhello ->\u001b[39m\u001b[33m\"\u001b[39m, result)\n\u001b[32m      6\u001b[39m result = \u001b[38;5;28;01mawait\u001b[39;00m mcp.call_tool(\u001b[33m\"\u001b[39m\u001b[33madd\u001b[39m\u001b[33m\"\u001b[39m, {\u001b[33m\"\u001b[39m\u001b[33ma\u001b[39m\u001b[33m\"\u001b[39m: \u001b[32m5\u001b[39m, \u001b[33m\"\u001b[39m\u001b[33mb\u001b[39m\u001b[33m\"\u001b[39m: \u001b[32m10\u001b[39m})\n",
      "\u001b[31mAttributeError\u001b[39m: 'FastMCP' object has no attribute 'call_tool'"
     ]
    }
   ],
   "source": [
    "# test your MCP tools/resources/prompts via the MCP API\n",
    "\n",
    "result = await mcp.call_tool(\"hello\", {\"name\": \"Zayn\"})\n",
    "print(\"hello ->\", result)\n",
    "\n",
    "result = await mcp.call_tool(\"add\", {\"a\": 5, \"b\": 10})\n",
    "print(\"add ->\", result)\n",
    "\n",
    "result = await mcp.call_tool(\"reverse\", {\"text\": \"hello world\"})\n",
    "print(\"reverse ->\", result)\n",
    "\n",
    "resource = await mcp.get_resource(\"time://now\")\n",
    "print(\"resource ->\", resource)\n",
    "\n",
    "prompt = await mcp.get_prompt(\"greet\")\n",
    "print(\"prompt ->\", prompt)\n"
   ]
  },
  {
   "cell_type": "code",
   "execution_count": 6,
   "id": "ec80eed3-ad3b-45ef-8f94-0acb7badcce3",
   "metadata": {},
   "outputs": [
    {
     "ename": "TypeError",
     "evalue": "'FunctionTool' object is not callable",
     "output_type": "error",
     "traceback": [
      "\u001b[31m---------------------------------------------------------------------------\u001b[39m",
      "\u001b[31mTypeError\u001b[39m                                 Traceback (most recent call last)",
      "\u001b[36mCell\u001b[39m\u001b[36m \u001b[39m\u001b[32mIn[6]\u001b[39m\u001b[32m, line 1\u001b[39m\n\u001b[32m----> \u001b[39m\u001b[32m1\u001b[39m \u001b[38;5;28mprint\u001b[39m(\u001b[43mhello\u001b[49m\u001b[43m(\u001b[49m\u001b[33;43m\"\u001b[39;49m\u001b[33;43mZayn\u001b[39;49m\u001b[33;43m\"\u001b[39;49m\u001b[43m)\u001b[49m)\n\u001b[32m      2\u001b[39m \u001b[38;5;28mprint\u001b[39m(add(\u001b[32m5\u001b[39m, \u001b[32m10\u001b[39m))\n\u001b[32m      3\u001b[39m \u001b[38;5;28mprint\u001b[39m(reverse(\u001b[33m\"\u001b[39m\u001b[33mhello world\u001b[39m\u001b[33m\"\u001b[39m))\n",
      "\u001b[31mTypeError\u001b[39m: 'FunctionTool' object is not callable"
     ]
    }
   ],
   "source": [
    "print(hello(\"Zayn\"))\n",
    "print(add(5, 10))\n",
    "print(reverse(\"hello world\"))\n"
   ]
  },
  {
   "cell_type": "code",
   "execution_count": 8,
   "id": "9de5680b-0392-4eec-91e0-fb0c890504cd",
   "metadata": {},
   "outputs": [
    {
     "ename": "ModuleNotFoundError",
     "evalue": "No module named 'mcp.client.memory'",
     "output_type": "error",
     "traceback": [
      "\u001b[31m---------------------------------------------------------------------------\u001b[39m",
      "\u001b[31mModuleNotFoundError\u001b[39m                       Traceback (most recent call last)",
      "\u001b[36mCell\u001b[39m\u001b[36m \u001b[39m\u001b[32mIn[8]\u001b[39m\u001b[32m, line 1\u001b[39m\n\u001b[32m----> \u001b[39m\u001b[32m1\u001b[39m \u001b[38;5;28;01mfrom\u001b[39;00m\u001b[38;5;250m \u001b[39m\u001b[34;01mmcp\u001b[39;00m\u001b[34;01m.\u001b[39;00m\u001b[34;01mclient\u001b[39;00m\u001b[34;01m.\u001b[39;00m\u001b[34;01mmemory\u001b[39;00m\u001b[38;5;250m \u001b[39m\u001b[38;5;28;01mimport\u001b[39;00m MemoryClient\n\u001b[32m      2\u001b[39m \u001b[38;5;28;01mimport\u001b[39;00m\u001b[38;5;250m \u001b[39m\u001b[34;01mnest_asyncio\u001b[39;00m,\u001b[38;5;250m \u001b[39m\u001b[34;01masyncio\u001b[39;00m\n\u001b[32m      4\u001b[39m nest_asyncio.apply()  \u001b[38;5;66;03m# allow nested event loops in Jupyter\u001b[39;00m\n",
      "\u001b[31mModuleNotFoundError\u001b[39m: No module named 'mcp.client.memory'"
     ]
    }
   ],
   "source": [
    "from mcp.client.memory import MemoryClient\n",
    "import nest_asyncio, asyncio\n",
    "\n",
    "nest_asyncio.apply()  # allow nested event loops in Jupyter\n",
    "\n",
    "async def test_mcp():\n",
    "    client = MemoryClient(mcp)\n",
    "\n",
    "    res1 = await client.call_tool(\"hello\", {\"name\": \"Zayn\"})\n",
    "    print(\"MCP hello ->\", res1)\n",
    "\n",
    "    res2 = await client.call_tool(\"add\", {\"a\": 5, \"b\": 10})\n",
    "    print(\"MCP add ->\", res2)\n",
    "\n",
    "    res3 = await client.call_tool(\"reverse\", {\"text\": \"hello world\"})\n",
    "    print(\"MCP reverse ->\", res3)\n",
    "\n",
    "await test_mcp()\n"
   ]
  },
  {
   "cell_type": "code",
   "execution_count": 9,
   "id": "c5371f08-0ada-498a-960b-1974bdbf80b8",
   "metadata": {},
   "outputs": [
    {
     "ename": "ModuleNotFoundError",
     "evalue": "No module named 'mcp.client.memory'",
     "output_type": "error",
     "traceback": [
      "\u001b[31m---------------------------------------------------------------------------\u001b[39m",
      "\u001b[31mModuleNotFoundError\u001b[39m                       Traceback (most recent call last)",
      "\u001b[36mCell\u001b[39m\u001b[36m \u001b[39m\u001b[32mIn[9]\u001b[39m\u001b[32m, line 1\u001b[39m\n\u001b[32m----> \u001b[39m\u001b[32m1\u001b[39m \u001b[38;5;28;01mfrom\u001b[39;00m\u001b[38;5;250m \u001b[39m\u001b[34;01mmcp\u001b[39;00m\u001b[34;01m.\u001b[39;00m\u001b[34;01mclient\u001b[39;00m\u001b[34;01m.\u001b[39;00m\u001b[34;01mmemory\u001b[39;00m\u001b[38;5;250m \u001b[39m\u001b[38;5;28;01mimport\u001b[39;00m MemoryClient\n",
      "\u001b[31mModuleNotFoundError\u001b[39m: No module named 'mcp.client.memory'"
     ]
    }
   ],
   "source": [
    "from mcp.client.memory import MemoryClient\n"
   ]
  },
  {
   "cell_type": "code",
   "execution_count": 10,
   "id": "19090b8d-0f6f-43eb-b5f2-83c2c662fdda",
   "metadata": {},
   "outputs": [
    {
     "name": "stdout",
     "output_type": "stream",
     "text": [
      "Defaulting to user installation because normal site-packages is not writeable\n",
      "Requirement already satisfied: mcp in c:\\users\\18esh\\appdata\\roaming\\python\\python313\\site-packages (1.12.4)\n",
      "Requirement already satisfied: anyio>=4.5 in c:\\users\\18esh\\appdata\\roaming\\python\\python313\\site-packages (from mcp) (4.9.0)\n",
      "Requirement already satisfied: httpx-sse>=0.4 in c:\\users\\18esh\\appdata\\roaming\\python\\python313\\site-packages (from mcp) (0.4.0)\n",
      "Requirement already satisfied: httpx>=0.27 in c:\\users\\18esh\\appdata\\roaming\\python\\python313\\site-packages (from mcp) (0.28.1)\n",
      "Requirement already satisfied: jsonschema>=4.20.0 in c:\\program files\\python313\\lib\\site-packages (from mcp) (4.23.0)\n",
      "Requirement already satisfied: pydantic-settings>=2.5.2 in c:\\users\\18esh\\appdata\\roaming\\python\\python313\\site-packages (from mcp) (2.8.1)\n",
      "Requirement already satisfied: pydantic<3.0.0,>=2.8.0 in c:\\users\\18esh\\appdata\\roaming\\python\\python313\\site-packages (from mcp) (2.11.7)\n",
      "Requirement already satisfied: python-multipart>=0.0.9 in c:\\users\\18esh\\appdata\\roaming\\python\\python313\\site-packages (from mcp) (0.0.20)\n",
      "Requirement already satisfied: pywin32>=310 in c:\\users\\18esh\\appdata\\roaming\\python\\python313\\site-packages (from mcp) (311)\n",
      "Requirement already satisfied: sse-starlette>=1.6.1 in c:\\users\\18esh\\appdata\\roaming\\python\\python313\\site-packages (from mcp) (3.0.2)\n",
      "Requirement already satisfied: starlette>=0.27 in c:\\users\\18esh\\appdata\\roaming\\python\\python313\\site-packages (from mcp) (0.45.3)\n",
      "Requirement already satisfied: uvicorn>=0.23.1 in c:\\users\\18esh\\appdata\\roaming\\python\\python313\\site-packages (from mcp) (0.34.0)\n",
      "Requirement already satisfied: annotated-types>=0.6.0 in c:\\users\\18esh\\appdata\\roaming\\python\\python313\\site-packages (from pydantic<3.0.0,>=2.8.0->mcp) (0.7.0)\n",
      "Requirement already satisfied: pydantic-core==2.33.2 in c:\\users\\18esh\\appdata\\roaming\\python\\python313\\site-packages (from pydantic<3.0.0,>=2.8.0->mcp) (2.33.2)\n",
      "Requirement already satisfied: typing-extensions>=4.12.2 in c:\\users\\18esh\\appdata\\roaming\\python\\python313\\site-packages (from pydantic<3.0.0,>=2.8.0->mcp) (4.14.1)\n",
      "Requirement already satisfied: typing-inspection>=0.4.0 in c:\\users\\18esh\\appdata\\roaming\\python\\python313\\site-packages (from pydantic<3.0.0,>=2.8.0->mcp) (0.4.1)\n",
      "Requirement already satisfied: idna>=2.8 in c:\\users\\18esh\\appdata\\roaming\\python\\python313\\site-packages (from anyio>=4.5->mcp) (3.10)\n",
      "Requirement already satisfied: sniffio>=1.1 in c:\\users\\18esh\\appdata\\roaming\\python\\python313\\site-packages (from anyio>=4.5->mcp) (1.3.1)\n",
      "Requirement already satisfied: certifi in c:\\users\\18esh\\appdata\\roaming\\python\\python313\\site-packages (from httpx>=0.27->mcp) (2025.7.14)\n",
      "Requirement already satisfied: httpcore==1.* in c:\\users\\18esh\\appdata\\roaming\\python\\python313\\site-packages (from httpx>=0.27->mcp) (1.0.9)\n",
      "Requirement already satisfied: h11>=0.16 in c:\\users\\18esh\\appdata\\roaming\\python\\python313\\site-packages (from httpcore==1.*->httpx>=0.27->mcp) (0.16.0)\n",
      "Requirement already satisfied: attrs>=22.2.0 in c:\\users\\18esh\\appdata\\roaming\\python\\python313\\site-packages (from jsonschema>=4.20.0->mcp) (23.2.0)\n",
      "Requirement already satisfied: jsonschema-specifications>=2023.03.6 in c:\\program files\\python313\\lib\\site-packages (from jsonschema>=4.20.0->mcp) (2024.10.1)\n",
      "Requirement already satisfied: referencing>=0.28.4 in c:\\program files\\python313\\lib\\site-packages (from jsonschema>=4.20.0->mcp) (0.36.2)\n",
      "Requirement already satisfied: rpds-py>=0.7.1 in c:\\program files\\python313\\lib\\site-packages (from jsonschema>=4.20.0->mcp) (0.23.1)\n",
      "Requirement already satisfied: python-dotenv>=0.21.0 in c:\\users\\18esh\\appdata\\roaming\\python\\python313\\site-packages (from pydantic-settings>=2.5.2->mcp) (1.1.0)\n",
      "Requirement already satisfied: click>=7.0 in c:\\users\\18esh\\appdata\\roaming\\python\\python313\\site-packages (from uvicorn>=0.23.1->mcp) (8.1.8)\n",
      "Requirement already satisfied: colorama in c:\\program files\\python313\\lib\\site-packages (from click>=7.0->uvicorn>=0.23.1->mcp) (0.4.6)\n",
      "Note: you may need to restart the kernel to use updated packages.\n"
     ]
    }
   ],
   "source": [
    "pip install mcp\n"
   ]
  },
  {
   "cell_type": "code",
   "execution_count": 1,
   "id": "d02704b7-0640-4c30-994a-bffe971738b5",
   "metadata": {},
   "outputs": [
    {
     "ename": "ModuleNotFoundError",
     "evalue": "No module named 'mcp.client.memory'",
     "output_type": "error",
     "traceback": [
      "\u001b[31m---------------------------------------------------------------------------\u001b[39m",
      "\u001b[31mModuleNotFoundError\u001b[39m                       Traceback (most recent call last)",
      "\u001b[36mCell\u001b[39m\u001b[36m \u001b[39m\u001b[32mIn[1]\u001b[39m\u001b[32m, line 1\u001b[39m\n\u001b[32m----> \u001b[39m\u001b[32m1\u001b[39m \u001b[38;5;28;01mfrom\u001b[39;00m\u001b[38;5;250m \u001b[39m\u001b[34;01mmcp\u001b[39;00m\u001b[34;01m.\u001b[39;00m\u001b[34;01mclient\u001b[39;00m\u001b[34;01m.\u001b[39;00m\u001b[34;01mmemory\u001b[39;00m\u001b[38;5;250m \u001b[39m\u001b[38;5;28;01mimport\u001b[39;00m MemoryClient\n",
      "\u001b[31mModuleNotFoundError\u001b[39m: No module named 'mcp.client.memory'"
     ]
    }
   ],
   "source": [
    "from mcp.client.memory import MemoryClient\n"
   ]
  },
  {
   "cell_type": "code",
   "execution_count": 2,
   "id": "ff0e2943-4a36-456c-8be3-aadc97582d73",
   "metadata": {},
   "outputs": [
    {
     "ename": "ModuleNotFoundError",
     "evalue": "No module named 'mcp.client.memory'",
     "output_type": "error",
     "traceback": [
      "\u001b[31m---------------------------------------------------------------------------\u001b[39m",
      "\u001b[31mModuleNotFoundError\u001b[39m                       Traceback (most recent call last)",
      "\u001b[36mCell\u001b[39m\u001b[36m \u001b[39m\u001b[32mIn[2]\u001b[39m\u001b[32m, line 1\u001b[39m\n\u001b[32m----> \u001b[39m\u001b[32m1\u001b[39m \u001b[38;5;28;01mfrom\u001b[39;00m\u001b[38;5;250m \u001b[39m\u001b[34;01mmcp\u001b[39;00m\u001b[34;01m.\u001b[39;00m\u001b[34;01mclient\u001b[39;00m\u001b[34;01m.\u001b[39;00m\u001b[34;01mmemory\u001b[39;00m\u001b[38;5;250m \u001b[39m\u001b[38;5;28;01mimport\u001b[39;00m MemoryClient\n\u001b[32m      2\u001b[39m \u001b[38;5;28;01mimport\u001b[39;00m\u001b[38;5;250m \u001b[39m\u001b[34;01mnest_asyncio\u001b[39;00m,\u001b[38;5;250m \u001b[39m\u001b[34;01masyncio\u001b[39;00m\n\u001b[32m      4\u001b[39m nest_asyncio.apply()  \u001b[38;5;66;03m# allow nested event loops in Jupyter\u001b[39;00m\n",
      "\u001b[31mModuleNotFoundError\u001b[39m: No module named 'mcp.client.memory'"
     ]
    }
   ],
   "source": [
    "from mcp.client.memory import MemoryClient\n",
    "import nest_asyncio, asyncio\n",
    "\n",
    "nest_asyncio.apply()  # allow nested event loops in Jupyter\n",
    "\n",
    "async def test_mcp():\n",
    "    client = MemoryClient(mcp)\n",
    "\n",
    "    res1 = await client.call_tool(\"hello\", {\"name\": \"Zayn\"})\n",
    "    print(\"MCP hello ->\", res1)\n",
    "\n",
    "    res2 = await client.call_tool(\"add\", {\"a\": 5, \"b\": 10})\n",
    "    print(\"MCP add ->\", res2)\n",
    "\n",
    "    res3 = await client.call_tool(\"reverse\", {\"text\": \"hello world\"})\n",
    "    print(\"MCP reverse ->\", res3)\n",
    "\n",
    "await test_mcp()\n"
   ]
  },
  {
   "cell_type": "code",
   "execution_count": 3,
   "id": "10929f51-afb6-434a-be1e-c6f669cc8124",
   "metadata": {},
   "outputs": [
    {
     "name": "stdout",
     "output_type": "stream",
     "text": [
      "Defaulting to user installation because normal site-packages is not writeable\n",
      "Requirement already satisfied: modelcontextprotocol in c:\\users\\18esh\\appdata\\roaming\\python\\python313\\site-packages (0.1.0)\n",
      "Requirement already satisfied: airtrain>=0.1.58 in c:\\users\\18esh\\appdata\\roaming\\python\\python313\\site-packages (from modelcontextprotocol) (0.1.68)\n",
      "Requirement already satisfied: rich>=12.0.0 in c:\\users\\18esh\\appdata\\roaming\\python\\python313\\site-packages (from modelcontextprotocol) (14.1.0)\n",
      "Requirement already satisfied: typer>=0.7.0 in c:\\users\\18esh\\appdata\\roaming\\python\\python313\\site-packages (from modelcontextprotocol) (0.16.0)\n",
      "Requirement already satisfied: python-dotenv>=0.20.0 in c:\\users\\18esh\\appdata\\roaming\\python\\python313\\site-packages (from modelcontextprotocol) (1.1.0)\n",
      "Requirement already satisfied: requests>=2.25.0 in c:\\users\\18esh\\appdata\\roaming\\python\\python313\\site-packages (from modelcontextprotocol) (2.32.4)\n",
      "Requirement already satisfied: packaging>=21.3 in c:\\users\\18esh\\appdata\\roaming\\python\\python313\\site-packages (from modelcontextprotocol) (24.2)\n",
      "Requirement already satisfied: pydantic>=2.10.6 in c:\\users\\18esh\\appdata\\roaming\\python\\python313\\site-packages (from airtrain>=0.1.58->modelcontextprotocol) (2.11.7)\n",
      "Requirement already satisfied: openai>=1.60.1 in c:\\users\\18esh\\appdata\\roaming\\python\\python313\\site-packages (from airtrain>=0.1.58->modelcontextprotocol) (1.78.1)\n",
      "Requirement already satisfied: PyYAML>=6.0.2 in c:\\users\\18esh\\appdata\\roaming\\python\\python313\\site-packages (from airtrain>=0.1.58->modelcontextprotocol) (6.0.2)\n",
      "Requirement already satisfied: firebase-admin>=6.6.0 in c:\\users\\18esh\\appdata\\roaming\\python\\python313\\site-packages (from airtrain>=0.1.58->modelcontextprotocol) (7.1.0)\n",
      "Requirement already satisfied: loguru>=0.7.3 in c:\\users\\18esh\\appdata\\roaming\\python\\python313\\site-packages (from airtrain>=0.1.58->modelcontextprotocol) (0.7.3)\n",
      "Requirement already satisfied: boto3>=1.36.6 in c:\\users\\18esh\\appdata\\roaming\\python\\python313\\site-packages (from airtrain>=0.1.58->modelcontextprotocol) (1.40.9)\n",
      "Requirement already satisfied: together>=1.3.13 in c:\\users\\18esh\\appdata\\roaming\\python\\python313\\site-packages (from airtrain>=0.1.58->modelcontextprotocol) (1.5.24)\n",
      "Requirement already satisfied: anthropic>=0.45.0 in c:\\users\\18esh\\appdata\\roaming\\python\\python313\\site-packages (from airtrain>=0.1.58->modelcontextprotocol) (0.64.0)\n",
      "Requirement already satisfied: groq>=0.15.0 in c:\\users\\18esh\\appdata\\roaming\\python\\python313\\site-packages (from airtrain>=0.1.58->modelcontextprotocol) (0.31.0)\n",
      "Requirement already satisfied: cerebras-cloud-sdk>=1.19.0 in c:\\users\\18esh\\appdata\\roaming\\python\\python313\\site-packages (from airtrain>=0.1.58->modelcontextprotocol) (1.46.0)\n",
      "Requirement already satisfied: google-genai>=1.0.0 in c:\\users\\18esh\\appdata\\roaming\\python\\python313\\site-packages (from airtrain>=0.1.58->modelcontextprotocol) (1.30.0)\n",
      "Requirement already satisfied: fireworks-ai>=0.15.12 in c:\\users\\18esh\\appdata\\roaming\\python\\python313\\site-packages (from airtrain>=0.1.58->modelcontextprotocol) (0.19.18)\n",
      "Requirement already satisfied: google-generativeai>=0.8.4 in c:\\users\\18esh\\appdata\\roaming\\python\\python313\\site-packages (from airtrain>=0.1.58->modelcontextprotocol) (0.8.5)\n",
      "Requirement already satisfied: click>=8.0.0 in c:\\users\\18esh\\appdata\\roaming\\python\\python313\\site-packages (from airtrain>=0.1.58->modelcontextprotocol) (8.1.8)\n",
      "Requirement already satisfied: prompt-toolkit>=3.0.36 in c:\\program files\\python313\\lib\\site-packages (from airtrain>=0.1.58->modelcontextprotocol) (3.0.50)\n",
      "Requirement already satisfied: colorama>=0.4.6 in c:\\program files\\python313\\lib\\site-packages (from airtrain>=0.1.58->modelcontextprotocol) (0.4.6)\n",
      "Requirement already satisfied: posthog>=3.7.0 in c:\\users\\18esh\\appdata\\roaming\\python\\python313\\site-packages (from airtrain>=0.1.58->modelcontextprotocol) (3.23.0)\n",
      "Requirement already satisfied: anyio<5,>=3.5.0 in c:\\users\\18esh\\appdata\\roaming\\python\\python313\\site-packages (from anthropic>=0.45.0->airtrain>=0.1.58->modelcontextprotocol) (4.9.0)\n",
      "Requirement already satisfied: distro<2,>=1.7.0 in c:\\users\\18esh\\appdata\\roaming\\python\\python313\\site-packages (from anthropic>=0.45.0->airtrain>=0.1.58->modelcontextprotocol) (1.9.0)\n",
      "Requirement already satisfied: httpx<1,>=0.25.0 in c:\\users\\18esh\\appdata\\roaming\\python\\python313\\site-packages (from anthropic>=0.45.0->airtrain>=0.1.58->modelcontextprotocol) (0.28.1)\n",
      "Requirement already satisfied: jiter<1,>=0.4.0 in c:\\users\\18esh\\appdata\\roaming\\python\\python313\\site-packages (from anthropic>=0.45.0->airtrain>=0.1.58->modelcontextprotocol) (0.9.0)\n",
      "Requirement already satisfied: sniffio in c:\\users\\18esh\\appdata\\roaming\\python\\python313\\site-packages (from anthropic>=0.45.0->airtrain>=0.1.58->modelcontextprotocol) (1.3.1)\n",
      "Requirement already satisfied: typing-extensions<5,>=4.10 in c:\\users\\18esh\\appdata\\roaming\\python\\python313\\site-packages (from anthropic>=0.45.0->airtrain>=0.1.58->modelcontextprotocol) (4.14.1)\n",
      "Requirement already satisfied: idna>=2.8 in c:\\users\\18esh\\appdata\\roaming\\python\\python313\\site-packages (from anyio<5,>=3.5.0->anthropic>=0.45.0->airtrain>=0.1.58->modelcontextprotocol) (3.10)\n",
      "Requirement already satisfied: certifi in c:\\users\\18esh\\appdata\\roaming\\python\\python313\\site-packages (from httpx<1,>=0.25.0->anthropic>=0.45.0->airtrain>=0.1.58->modelcontextprotocol) (2025.7.14)\n",
      "Requirement already satisfied: httpcore==1.* in c:\\users\\18esh\\appdata\\roaming\\python\\python313\\site-packages (from httpx<1,>=0.25.0->anthropic>=0.45.0->airtrain>=0.1.58->modelcontextprotocol) (1.0.9)\n",
      "Requirement already satisfied: h11>=0.16 in c:\\users\\18esh\\appdata\\roaming\\python\\python313\\site-packages (from httpcore==1.*->httpx<1,>=0.25.0->anthropic>=0.45.0->airtrain>=0.1.58->modelcontextprotocol) (0.16.0)\n",
      "Requirement already satisfied: annotated-types>=0.6.0 in c:\\users\\18esh\\appdata\\roaming\\python\\python313\\site-packages (from pydantic>=2.10.6->airtrain>=0.1.58->modelcontextprotocol) (0.7.0)\n",
      "Requirement already satisfied: pydantic-core==2.33.2 in c:\\users\\18esh\\appdata\\roaming\\python\\python313\\site-packages (from pydantic>=2.10.6->airtrain>=0.1.58->modelcontextprotocol) (2.33.2)\n",
      "Requirement already satisfied: typing-inspection>=0.4.0 in c:\\users\\18esh\\appdata\\roaming\\python\\python313\\site-packages (from pydantic>=2.10.6->airtrain>=0.1.58->modelcontextprotocol) (0.4.1)\n",
      "Requirement already satisfied: botocore<1.41.0,>=1.40.9 in c:\\users\\18esh\\appdata\\roaming\\python\\python313\\site-packages (from boto3>=1.36.6->airtrain>=0.1.58->modelcontextprotocol) (1.40.9)\n",
      "Requirement already satisfied: jmespath<2.0.0,>=0.7.1 in c:\\users\\18esh\\appdata\\roaming\\python\\python313\\site-packages (from boto3>=1.36.6->airtrain>=0.1.58->modelcontextprotocol) (1.0.1)\n",
      "Requirement already satisfied: s3transfer<0.14.0,>=0.13.0 in c:\\users\\18esh\\appdata\\roaming\\python\\python313\\site-packages (from boto3>=1.36.6->airtrain>=0.1.58->modelcontextprotocol) (0.13.1)\n",
      "Requirement already satisfied: python-dateutil<3.0.0,>=2.1 in c:\\program files\\python313\\lib\\site-packages (from botocore<1.41.0,>=1.40.9->boto3>=1.36.6->airtrain>=0.1.58->modelcontextprotocol) (2.9.0.post0)\n",
      "Requirement already satisfied: urllib3!=2.2.0,<3,>=1.25.4 in c:\\users\\18esh\\appdata\\roaming\\python\\python313\\site-packages (from botocore<1.41.0,>=1.40.9->boto3>=1.36.6->airtrain>=0.1.58->modelcontextprotocol) (2.5.0)\n",
      "Requirement already satisfied: six>=1.5 in c:\\program files\\python313\\lib\\site-packages (from python-dateutil<3.0.0,>=2.1->botocore<1.41.0,>=1.40.9->boto3>=1.36.6->airtrain>=0.1.58->modelcontextprotocol) (1.17.0)\n",
      "Requirement already satisfied: cachecontrol>=0.14.3 in c:\\users\\18esh\\appdata\\roaming\\python\\python313\\site-packages (from firebase-admin>=6.6.0->airtrain>=0.1.58->modelcontextprotocol) (0.14.3)\n",
      "Requirement already satisfied: google-api-core<3.0.0dev,>=2.25.1 in c:\\users\\18esh\\appdata\\roaming\\python\\python313\\site-packages (from google-api-core[grpc]<3.0.0dev,>=2.25.1; platform_python_implementation != \"PyPy\"->firebase-admin>=6.6.0->airtrain>=0.1.58->modelcontextprotocol) (2.25.1)\n",
      "Requirement already satisfied: google-cloud-firestore>=2.21.0 in c:\\users\\18esh\\appdata\\roaming\\python\\python313\\site-packages (from firebase-admin>=6.6.0->airtrain>=0.1.58->modelcontextprotocol) (2.21.0)\n",
      "Requirement already satisfied: google-cloud-storage>=3.1.1 in c:\\users\\18esh\\appdata\\roaming\\python\\python313\\site-packages (from firebase-admin>=6.6.0->airtrain>=0.1.58->modelcontextprotocol) (3.3.0)\n",
      "Requirement already satisfied: pyjwt>=2.10.1 in c:\\users\\18esh\\appdata\\roaming\\python\\python313\\site-packages (from pyjwt[crypto]>=2.10.1->firebase-admin>=6.6.0->airtrain>=0.1.58->modelcontextprotocol) (2.10.1)\n",
      "Requirement already satisfied: h2<5,>=3 in c:\\users\\18esh\\appdata\\roaming\\python\\python313\\site-packages (from httpx[http2]==0.28.1->firebase-admin>=6.6.0->airtrain>=0.1.58->modelcontextprotocol) (4.2.0)\n",
      "Requirement already satisfied: googleapis-common-protos<2.0.0,>=1.56.2 in c:\\users\\18esh\\appdata\\roaming\\python\\python313\\site-packages (from google-api-core<3.0.0dev,>=2.25.1->google-api-core[grpc]<3.0.0dev,>=2.25.1; platform_python_implementation != \"PyPy\"->firebase-admin>=6.6.0->airtrain>=0.1.58->modelcontextprotocol) (1.69.2)\n",
      "Requirement already satisfied: protobuf!=3.20.0,!=3.20.1,!=4.21.0,!=4.21.1,!=4.21.2,!=4.21.3,!=4.21.4,!=4.21.5,<7.0.0,>=3.19.5 in c:\\users\\18esh\\appdata\\roaming\\python\\python313\\site-packages (from google-api-core<3.0.0dev,>=2.25.1->google-api-core[grpc]<3.0.0dev,>=2.25.1; platform_python_implementation != \"PyPy\"->firebase-admin>=6.6.0->airtrain>=0.1.58->modelcontextprotocol) (5.29.3)\n",
      "Requirement already satisfied: proto-plus<2.0.0,>=1.22.3 in c:\\users\\18esh\\appdata\\roaming\\python\\python313\\site-packages (from google-api-core<3.0.0dev,>=2.25.1->google-api-core[grpc]<3.0.0dev,>=2.25.1; platform_python_implementation != \"PyPy\"->firebase-admin>=6.6.0->airtrain>=0.1.58->modelcontextprotocol) (1.26.1)\n",
      "Requirement already satisfied: google-auth<3.0.0,>=2.14.1 in c:\\users\\18esh\\appdata\\roaming\\python\\python313\\site-packages (from google-api-core<3.0.0dev,>=2.25.1->google-api-core[grpc]<3.0.0dev,>=2.25.1; platform_python_implementation != \"PyPy\"->firebase-admin>=6.6.0->airtrain>=0.1.58->modelcontextprotocol) (2.38.0)\n",
      "Requirement already satisfied: grpcio<2.0.0,>=1.33.2 in c:\\users\\18esh\\appdata\\roaming\\python\\python313\\site-packages (from google-api-core[grpc]<3.0.0dev,>=2.25.1; platform_python_implementation != \"PyPy\"->firebase-admin>=6.6.0->airtrain>=0.1.58->modelcontextprotocol) (1.73.1)\n",
      "Requirement already satisfied: grpcio-status<2.0.0,>=1.33.2 in c:\\users\\18esh\\appdata\\roaming\\python\\python313\\site-packages (from google-api-core[grpc]<3.0.0dev,>=2.25.1; platform_python_implementation != \"PyPy\"->firebase-admin>=6.6.0->airtrain>=0.1.58->modelcontextprotocol) (1.71.2)\n",
      "Requirement already satisfied: cachetools<6.0,>=2.0.0 in c:\\users\\18esh\\appdata\\roaming\\python\\python313\\site-packages (from google-auth<3.0.0,>=2.14.1->google-api-core<3.0.0dev,>=2.25.1->google-api-core[grpc]<3.0.0dev,>=2.25.1; platform_python_implementation != \"PyPy\"->firebase-admin>=6.6.0->airtrain>=0.1.58->modelcontextprotocol) (5.5.2)\n",
      "Requirement already satisfied: pyasn1-modules>=0.2.1 in c:\\users\\18esh\\appdata\\roaming\\python\\python313\\site-packages (from google-auth<3.0.0,>=2.14.1->google-api-core<3.0.0dev,>=2.25.1->google-api-core[grpc]<3.0.0dev,>=2.25.1; platform_python_implementation != \"PyPy\"->firebase-admin>=6.6.0->airtrain>=0.1.58->modelcontextprotocol) (0.4.2)\n",
      "Requirement already satisfied: rsa<5,>=3.1.4 in c:\\users\\18esh\\appdata\\roaming\\python\\python313\\site-packages (from google-auth<3.0.0,>=2.14.1->google-api-core<3.0.0dev,>=2.25.1->google-api-core[grpc]<3.0.0dev,>=2.25.1; platform_python_implementation != \"PyPy\"->firebase-admin>=6.6.0->airtrain>=0.1.58->modelcontextprotocol) (4.9)\n",
      "Requirement already satisfied: hyperframe<7,>=6.1 in c:\\users\\18esh\\appdata\\roaming\\python\\python313\\site-packages (from h2<5,>=3->httpx[http2]==0.28.1->firebase-admin>=6.6.0->airtrain>=0.1.58->modelcontextprotocol) (6.1.0)\n",
      "Requirement already satisfied: hpack<5,>=4.1 in c:\\users\\18esh\\appdata\\roaming\\python\\python313\\site-packages (from h2<5,>=3->httpx[http2]==0.28.1->firebase-admin>=6.6.0->airtrain>=0.1.58->modelcontextprotocol) (4.1.0)\n",
      "Requirement already satisfied: charset_normalizer<4,>=2 in c:\\users\\18esh\\appdata\\roaming\\python\\python313\\site-packages (from requests>=2.25.0->modelcontextprotocol) (3.4.2)\n",
      "Requirement already satisfied: pyasn1>=0.1.3 in c:\\users\\18esh\\appdata\\roaming\\python\\python313\\site-packages (from rsa<5,>=3.1.4->google-auth<3.0.0,>=2.14.1->google-api-core<3.0.0dev,>=2.25.1->google-api-core[grpc]<3.0.0dev,>=2.25.1; platform_python_implementation != \"PyPy\"->firebase-admin>=6.6.0->airtrain>=0.1.58->modelcontextprotocol) (0.6.1)\n",
      "Requirement already satisfied: msgpack<2.0.0,>=0.5.2 in c:\\users\\18esh\\appdata\\roaming\\python\\python313\\site-packages (from cachecontrol>=0.14.3->firebase-admin>=6.6.0->airtrain>=0.1.58->modelcontextprotocol) (1.1.1)\n",
      "Requirement already satisfied: httpx-ws in c:\\users\\18esh\\appdata\\roaming\\python\\python313\\site-packages (from fireworks-ai>=0.15.12->airtrain>=0.1.58->modelcontextprotocol) (0.7.2)\n",
      "Requirement already satisfied: httpx-sse in c:\\users\\18esh\\appdata\\roaming\\python\\python313\\site-packages (from fireworks-ai>=0.15.12->airtrain>=0.1.58->modelcontextprotocol) (0.4.0)\n",
      "Requirement already satisfied: Pillow in c:\\users\\18esh\\appdata\\roaming\\python\\python313\\site-packages (from fireworks-ai>=0.15.12->airtrain>=0.1.58->modelcontextprotocol) (11.1.0)\n",
      "Requirement already satisfied: mmh3>=4.1.0 in c:\\users\\18esh\\appdata\\roaming\\python\\python313\\site-packages (from fireworks-ai>=0.15.12->airtrain>=0.1.58->modelcontextprotocol) (5.1.0)\n",
      "Requirement already satisfied: betterproto-fw>=2.0.3 in c:\\users\\18esh\\appdata\\roaming\\python\\python313\\site-packages (from betterproto-fw[compiler]>=2.0.3->fireworks-ai>=0.15.12->airtrain>=0.1.58->modelcontextprotocol) (2.0.3)\n",
      "Requirement already satisfied: asyncstdlib-fw>=3.13.2 in c:\\users\\18esh\\appdata\\roaming\\python\\python313\\site-packages (from fireworks-ai>=0.15.12->airtrain>=0.1.58->modelcontextprotocol) (3.13.2)\n",
      "Requirement already satisfied: reward-kit>=0.3.1 in c:\\users\\18esh\\appdata\\roaming\\python\\python313\\site-packages (from fireworks-ai>=0.15.12->airtrain>=0.1.58->modelcontextprotocol) (0.4.1)\n",
      "Requirement already satisfied: toml>=0.10.2 in c:\\users\\18esh\\appdata\\roaming\\python\\python313\\site-packages (from fireworks-ai>=0.15.12->airtrain>=0.1.58->modelcontextprotocol) (0.10.2)\n",
      "Requirement already satisfied: aiohttp>=3.12.11 in c:\\users\\18esh\\appdata\\roaming\\python\\python313\\site-packages (from aiohttp[speedups]>=3.12.11->fireworks-ai>=0.15.12->airtrain>=0.1.58->modelcontextprotocol) (3.12.15)\n",
      "Requirement already satisfied: attrs==23.2.0 in c:\\users\\18esh\\appdata\\roaming\\python\\python313\\site-packages (from fireworks-ai>=0.15.12->airtrain>=0.1.58->modelcontextprotocol) (23.2.0)\n",
      "Requirement already satisfied: aiohappyeyeballs>=2.5.0 in c:\\users\\18esh\\appdata\\roaming\\python\\python313\\site-packages (from aiohttp>=3.12.11->aiohttp[speedups]>=3.12.11->fireworks-ai>=0.15.12->airtrain>=0.1.58->modelcontextprotocol) (2.6.1)\n",
      "Requirement already satisfied: aiosignal>=1.4.0 in c:\\users\\18esh\\appdata\\roaming\\python\\python313\\site-packages (from aiohttp>=3.12.11->aiohttp[speedups]>=3.12.11->fireworks-ai>=0.15.12->airtrain>=0.1.58->modelcontextprotocol) (1.4.0)\n",
      "Requirement already satisfied: frozenlist>=1.1.1 in c:\\users\\18esh\\appdata\\roaming\\python\\python313\\site-packages (from aiohttp>=3.12.11->aiohttp[speedups]>=3.12.11->fireworks-ai>=0.15.12->airtrain>=0.1.58->modelcontextprotocol) (1.5.0)\n",
      "Requirement already satisfied: multidict<7.0,>=4.5 in c:\\users\\18esh\\appdata\\roaming\\python\\python313\\site-packages (from aiohttp>=3.12.11->aiohttp[speedups]>=3.12.11->fireworks-ai>=0.15.12->airtrain>=0.1.58->modelcontextprotocol) (6.2.0)\n",
      "Requirement already satisfied: propcache>=0.2.0 in c:\\users\\18esh\\appdata\\roaming\\python\\python313\\site-packages (from aiohttp>=3.12.11->aiohttp[speedups]>=3.12.11->fireworks-ai>=0.15.12->airtrain>=0.1.58->modelcontextprotocol) (0.3.0)\n",
      "Requirement already satisfied: yarl<2.0,>=1.17.0 in c:\\users\\18esh\\appdata\\roaming\\python\\python313\\site-packages (from aiohttp>=3.12.11->aiohttp[speedups]>=3.12.11->fireworks-ai>=0.15.12->airtrain>=0.1.58->modelcontextprotocol) (1.18.3)\n",
      "Requirement already satisfied: aiodns>=3.3.0 in c:\\users\\18esh\\appdata\\roaming\\python\\python313\\site-packages (from aiohttp[speedups]>=3.12.11->fireworks-ai>=0.15.12->airtrain>=0.1.58->modelcontextprotocol) (3.5.0)\n",
      "Requirement already satisfied: Brotli in c:\\users\\18esh\\appdata\\roaming\\python\\python313\\site-packages (from aiohttp[speedups]>=3.12.11->fireworks-ai>=0.15.12->airtrain>=0.1.58->modelcontextprotocol) (1.1.0)\n",
      "Requirement already satisfied: pycares>=4.9.0 in c:\\users\\18esh\\appdata\\roaming\\python\\python313\\site-packages (from aiodns>=3.3.0->aiohttp[speedups]>=3.12.11->fireworks-ai>=0.15.12->airtrain>=0.1.58->modelcontextprotocol) (4.10.0)\n",
      "Requirement already satisfied: grpclib<0.5.0,>=0.4.1 in c:\\users\\18esh\\appdata\\roaming\\python\\python313\\site-packages (from betterproto-fw>=2.0.3->betterproto-fw[compiler]>=2.0.3->fireworks-ai>=0.15.12->airtrain>=0.1.58->modelcontextprotocol) (0.4.8)\n",
      "Requirement already satisfied: ruff~=0.9.1 in c:\\users\\18esh\\appdata\\roaming\\python\\python313\\site-packages (from betterproto-fw[compiler]>=2.0.3->fireworks-ai>=0.15.12->airtrain>=0.1.58->modelcontextprotocol) (0.9.10)\n",
      "Requirement already satisfied: jinja2>=3.0.3 in c:\\program files\\python313\\lib\\site-packages (from betterproto-fw[compiler]>=2.0.3->fireworks-ai>=0.15.12->airtrain>=0.1.58->modelcontextprotocol) (3.1.5)\n",
      "Requirement already satisfied: google-cloud-core<3.0.0,>=1.4.1 in c:\\users\\18esh\\appdata\\roaming\\python\\python313\\site-packages (from google-cloud-firestore>=2.21.0->firebase-admin>=6.6.0->airtrain>=0.1.58->modelcontextprotocol) (2.4.3)\n",
      "Requirement already satisfied: google-resumable-media<3.0.0,>=2.7.2 in c:\\users\\18esh\\appdata\\roaming\\python\\python313\\site-packages (from google-cloud-storage>=3.1.1->firebase-admin>=6.6.0->airtrain>=0.1.58->modelcontextprotocol) (2.7.2)\n",
      "Requirement already satisfied: google-crc32c<2.0.0,>=1.1.3 in c:\\users\\18esh\\appdata\\roaming\\python\\python313\\site-packages (from google-cloud-storage>=3.1.1->firebase-admin>=6.6.0->airtrain>=0.1.58->modelcontextprotocol) (1.7.1)\n",
      "Requirement already satisfied: tenacity<9.2.0,>=8.2.3 in c:\\users\\18esh\\appdata\\roaming\\python\\python313\\site-packages (from google-genai>=1.0.0->airtrain>=0.1.58->modelcontextprotocol) (9.1.2)\n",
      "Requirement already satisfied: websockets<15.1.0,>=13.0.0 in c:\\users\\18esh\\appdata\\roaming\\python\\python313\\site-packages (from google-genai>=1.0.0->airtrain>=0.1.58->modelcontextprotocol) (15.0.1)\n",
      "Requirement already satisfied: google-ai-generativelanguage==0.6.15 in c:\\users\\18esh\\appdata\\roaming\\python\\python313\\site-packages (from google-generativeai>=0.8.4->airtrain>=0.1.58->modelcontextprotocol) (0.6.15)\n",
      "Requirement already satisfied: google-api-python-client in c:\\users\\18esh\\appdata\\roaming\\python\\python313\\site-packages (from google-generativeai>=0.8.4->airtrain>=0.1.58->modelcontextprotocol) (2.176.0)\n",
      "Requirement already satisfied: tqdm in c:\\users\\18esh\\appdata\\roaming\\python\\python313\\site-packages (from google-generativeai>=0.8.4->airtrain>=0.1.58->modelcontextprotocol) (4.67.1)\n",
      "Requirement already satisfied: MarkupSafe>=2.0 in c:\\program files\\python313\\lib\\site-packages (from jinja2>=3.0.3->betterproto-fw[compiler]>=2.0.3->fireworks-ai>=0.15.12->airtrain>=0.1.58->modelcontextprotocol) (3.0.2)\n",
      "Requirement already satisfied: win32-setctime>=1.0.0 in c:\\users\\18esh\\appdata\\roaming\\python\\python313\\site-packages (from loguru>=0.7.3->airtrain>=0.1.58->modelcontextprotocol) (1.2.0)\n",
      "Requirement already satisfied: monotonic>=1.5 in c:\\users\\18esh\\appdata\\roaming\\python\\python313\\site-packages (from posthog>=3.7.0->airtrain>=0.1.58->modelcontextprotocol) (1.6)\n",
      "Requirement already satisfied: backoff>=1.10.0 in c:\\users\\18esh\\appdata\\roaming\\python\\python313\\site-packages (from posthog>=3.7.0->airtrain>=0.1.58->modelcontextprotocol) (2.2.1)\n",
      "Requirement already satisfied: wcwidth in c:\\program files\\python313\\lib\\site-packages (from prompt-toolkit>=3.0.36->airtrain>=0.1.58->modelcontextprotocol) (0.2.13)\n",
      "Requirement already satisfied: cffi>=1.5.0 in c:\\program files\\python313\\lib\\site-packages (from pycares>=4.9.0->aiodns>=3.3.0->aiohttp[speedups]>=3.12.11->fireworks-ai>=0.15.12->airtrain>=0.1.58->modelcontextprotocol) (1.17.1)\n",
      "Requirement already satisfied: pycparser in c:\\program files\\python313\\lib\\site-packages (from cffi>=1.5.0->pycares>=4.9.0->aiodns>=3.3.0->aiohttp[speedups]>=3.12.11->fireworks-ai>=0.15.12->airtrain>=0.1.58->modelcontextprotocol) (2.22)\n",
      "Requirement already satisfied: cryptography>=3.4.0 in c:\\users\\18esh\\appdata\\roaming\\python\\python313\\site-packages (from pyjwt[crypto]>=2.10.1->firebase-admin>=6.6.0->airtrain>=0.1.58->modelcontextprotocol) (45.0.6)\n",
      "Requirement already satisfied: dataclasses-json>=0.5.7 in c:\\users\\18esh\\appdata\\roaming\\python\\python313\\site-packages (from reward-kit>=0.3.1->fireworks-ai>=0.15.12->airtrain>=0.1.58->modelcontextprotocol) (0.6.7)\n",
      "Requirement already satisfied: fastapi>=0.68.0 in c:\\users\\18esh\\appdata\\roaming\\python\\python313\\site-packages (from reward-kit>=0.3.1->fireworks-ai>=0.15.12->airtrain>=0.1.58->modelcontextprotocol) (0.115.9)\n",
      "Requirement already satisfied: uvicorn>=0.15.0 in c:\\users\\18esh\\appdata\\roaming\\python\\python313\\site-packages (from reward-kit>=0.3.1->fireworks-ai>=0.15.12->airtrain>=0.1.58->modelcontextprotocol) (0.34.0)\n",
      "Requirement already satisfied: aiosqlite in c:\\users\\18esh\\appdata\\roaming\\python\\python313\\site-packages (from reward-kit>=0.3.1->fireworks-ai>=0.15.12->airtrain>=0.1.58->modelcontextprotocol) (0.21.0)\n",
      "Requirement already satisfied: mcp>=1.9.2 in c:\\users\\18esh\\appdata\\roaming\\python\\python313\\site-packages (from reward-kit>=0.3.1->fireworks-ai>=0.15.12->airtrain>=0.1.58->modelcontextprotocol) (1.12.4)\n",
      "Requirement already satisfied: datasets==3.6.0 in c:\\users\\18esh\\appdata\\roaming\\python\\python313\\site-packages (from reward-kit>=0.3.1->fireworks-ai>=0.15.12->airtrain>=0.1.58->modelcontextprotocol) (3.6.0)\n",
      "Requirement already satisfied: fsspec==2025.3.0 in c:\\users\\18esh\\appdata\\roaming\\python\\python313\\site-packages (from reward-kit>=0.3.1->fireworks-ai>=0.15.12->airtrain>=0.1.58->modelcontextprotocol) (2025.3.0)\n",
      "Requirement already satisfied: hydra-core>=1.3.2 in c:\\users\\18esh\\appdata\\roaming\\python\\python313\\site-packages (from reward-kit>=0.3.1->fireworks-ai>=0.15.12->airtrain>=0.1.58->modelcontextprotocol) (1.3.2)\n",
      "Requirement already satisfied: omegaconf>=2.3.0 in c:\\users\\18esh\\appdata\\roaming\\python\\python313\\site-packages (from reward-kit>=0.3.1->fireworks-ai>=0.15.12->airtrain>=0.1.58->modelcontextprotocol) (2.3.0)\n",
      "Requirement already satisfied: gymnasium>=0.29.0 in c:\\users\\18esh\\appdata\\roaming\\python\\python313\\site-packages (from reward-kit>=0.3.1->fireworks-ai>=0.15.12->airtrain>=0.1.58->modelcontextprotocol) (1.2.0)\n",
      "Requirement already satisfied: filelock in c:\\users\\18esh\\appdata\\roaming\\python\\python313\\site-packages (from datasets==3.6.0->reward-kit>=0.3.1->fireworks-ai>=0.15.12->airtrain>=0.1.58->modelcontextprotocol) (3.13.1)\n",
      "Requirement already satisfied: numpy>=1.17 in c:\\users\\18esh\\appdata\\roaming\\python\\python313\\site-packages (from datasets==3.6.0->reward-kit>=0.3.1->fireworks-ai>=0.15.12->airtrain>=0.1.58->modelcontextprotocol) (2.2.4)\n",
      "Requirement already satisfied: pyarrow>=15.0.0 in c:\\users\\18esh\\appdata\\roaming\\python\\python313\\site-packages (from datasets==3.6.0->reward-kit>=0.3.1->fireworks-ai>=0.15.12->airtrain>=0.1.58->modelcontextprotocol) (19.0.1)\n",
      "Requirement already satisfied: dill<0.3.9,>=0.3.0 in c:\\users\\18esh\\appdata\\roaming\\python\\python313\\site-packages (from datasets==3.6.0->reward-kit>=0.3.1->fireworks-ai>=0.15.12->airtrain>=0.1.58->modelcontextprotocol) (0.3.8)\n",
      "Requirement already satisfied: pandas in c:\\users\\18esh\\appdata\\roaming\\python\\python313\\site-packages (from datasets==3.6.0->reward-kit>=0.3.1->fireworks-ai>=0.15.12->airtrain>=0.1.58->modelcontextprotocol) (2.2.3)\n",
      "Requirement already satisfied: xxhash in c:\\users\\18esh\\appdata\\roaming\\python\\python313\\site-packages (from datasets==3.6.0->reward-kit>=0.3.1->fireworks-ai>=0.15.12->airtrain>=0.1.58->modelcontextprotocol) (3.5.0)\n",
      "Requirement already satisfied: multiprocess<0.70.17 in c:\\users\\18esh\\appdata\\roaming\\python\\python313\\site-packages (from datasets==3.6.0->reward-kit>=0.3.1->fireworks-ai>=0.15.12->airtrain>=0.1.58->modelcontextprotocol) (0.70.16)\n",
      "Requirement already satisfied: huggingface-hub>=0.24.0 in c:\\users\\18esh\\appdata\\roaming\\python\\python313\\site-packages (from datasets==3.6.0->reward-kit>=0.3.1->fireworks-ai>=0.15.12->airtrain>=0.1.58->modelcontextprotocol) (0.29.3)\n",
      "Requirement already satisfied: marshmallow<4.0.0,>=3.18.0 in c:\\users\\18esh\\appdata\\roaming\\python\\python313\\site-packages (from dataclasses-json>=0.5.7->reward-kit>=0.3.1->fireworks-ai>=0.15.12->airtrain>=0.1.58->modelcontextprotocol) (3.26.1)\n",
      "Requirement already satisfied: typing-inspect<1,>=0.4.0 in c:\\users\\18esh\\appdata\\roaming\\python\\python313\\site-packages (from dataclasses-json>=0.5.7->reward-kit>=0.3.1->fireworks-ai>=0.15.12->airtrain>=0.1.58->modelcontextprotocol) (0.9.0)\n",
      "Requirement already satisfied: mypy-extensions>=0.3.0 in c:\\users\\18esh\\appdata\\roaming\\python\\python313\\site-packages (from typing-inspect<1,>=0.4.0->dataclasses-json>=0.5.7->reward-kit>=0.3.1->fireworks-ai>=0.15.12->airtrain>=0.1.58->modelcontextprotocol) (1.0.0)\n",
      "Requirement already satisfied: starlette<0.46.0,>=0.40.0 in c:\\users\\18esh\\appdata\\roaming\\python\\python313\\site-packages (from fastapi>=0.68.0->reward-kit>=0.3.1->fireworks-ai>=0.15.12->airtrain>=0.1.58->modelcontextprotocol) (0.45.3)\n",
      "Requirement already satisfied: cloudpickle>=1.2.0 in c:\\users\\18esh\\appdata\\roaming\\python\\python313\\site-packages (from gymnasium>=0.29.0->reward-kit>=0.3.1->fireworks-ai>=0.15.12->airtrain>=0.1.58->modelcontextprotocol) (3.1.1)\n",
      "Requirement already satisfied: farama-notifications>=0.0.1 in c:\\users\\18esh\\appdata\\roaming\\python\\python313\\site-packages (from gymnasium>=0.29.0->reward-kit>=0.3.1->fireworks-ai>=0.15.12->airtrain>=0.1.58->modelcontextprotocol) (0.0.4)\n",
      "Requirement already satisfied: antlr4-python3-runtime==4.9.* in c:\\users\\18esh\\appdata\\roaming\\python\\python313\\site-packages (from hydra-core>=1.3.2->reward-kit>=0.3.1->fireworks-ai>=0.15.12->airtrain>=0.1.58->modelcontextprotocol) (4.9.3)\n",
      "Requirement already satisfied: jsonschema>=4.20.0 in c:\\program files\\python313\\lib\\site-packages (from mcp>=1.9.2->reward-kit>=0.3.1->fireworks-ai>=0.15.12->airtrain>=0.1.58->modelcontextprotocol) (4.23.0)\n",
      "Requirement already satisfied: pydantic-settings>=2.5.2 in c:\\users\\18esh\\appdata\\roaming\\python\\python313\\site-packages (from mcp>=1.9.2->reward-kit>=0.3.1->fireworks-ai>=0.15.12->airtrain>=0.1.58->modelcontextprotocol) (2.8.1)\n",
      "Requirement already satisfied: python-multipart>=0.0.9 in c:\\users\\18esh\\appdata\\roaming\\python\\python313\\site-packages (from mcp>=1.9.2->reward-kit>=0.3.1->fireworks-ai>=0.15.12->airtrain>=0.1.58->modelcontextprotocol) (0.0.20)\n",
      "Requirement already satisfied: pywin32>=310 in c:\\users\\18esh\\appdata\\roaming\\python\\python313\\site-packages (from mcp>=1.9.2->reward-kit>=0.3.1->fireworks-ai>=0.15.12->airtrain>=0.1.58->modelcontextprotocol) (311)\n",
      "Requirement already satisfied: sse-starlette>=1.6.1 in c:\\users\\18esh\\appdata\\roaming\\python\\python313\\site-packages (from mcp>=1.9.2->reward-kit>=0.3.1->fireworks-ai>=0.15.12->airtrain>=0.1.58->modelcontextprotocol) (3.0.2)\n",
      "Requirement already satisfied: jsonschema-specifications>=2023.03.6 in c:\\program files\\python313\\lib\\site-packages (from jsonschema>=4.20.0->mcp>=1.9.2->reward-kit>=0.3.1->fireworks-ai>=0.15.12->airtrain>=0.1.58->modelcontextprotocol) (2024.10.1)\n",
      "Requirement already satisfied: referencing>=0.28.4 in c:\\program files\\python313\\lib\\site-packages (from jsonschema>=4.20.0->mcp>=1.9.2->reward-kit>=0.3.1->fireworks-ai>=0.15.12->airtrain>=0.1.58->modelcontextprotocol) (0.36.2)\n",
      "Requirement already satisfied: rpds-py>=0.7.1 in c:\\program files\\python313\\lib\\site-packages (from jsonschema>=4.20.0->mcp>=1.9.2->reward-kit>=0.3.1->fireworks-ai>=0.15.12->airtrain>=0.1.58->modelcontextprotocol) (0.23.1)\n",
      "Requirement already satisfied: markdown-it-py>=2.2.0 in c:\\users\\18esh\\appdata\\roaming\\python\\python313\\site-packages (from rich>=12.0.0->modelcontextprotocol) (4.0.0)\n",
      "Requirement already satisfied: pygments<3.0.0,>=2.13.0 in c:\\users\\18esh\\appdata\\roaming\\python\\python313\\site-packages (from rich>=12.0.0->modelcontextprotocol) (2.19.2)\n",
      "Requirement already satisfied: mdurl~=0.1 in c:\\users\\18esh\\appdata\\roaming\\python\\python313\\site-packages (from markdown-it-py>=2.2.0->rich>=12.0.0->modelcontextprotocol) (0.1.2)\n",
      "Requirement already satisfied: eval-type-backport<0.3.0,>=0.1.3 in c:\\users\\18esh\\appdata\\roaming\\python\\python313\\site-packages (from together>=1.3.13->airtrain>=0.1.58->modelcontextprotocol) (0.2.2)\n",
      "Requirement already satisfied: tabulate<0.10.0,>=0.9.0 in c:\\users\\18esh\\appdata\\roaming\\python\\python313\\site-packages (from together>=1.3.13->airtrain>=0.1.58->modelcontextprotocol) (0.9.0)\n",
      "Collecting typer>=0.7.0 (from modelcontextprotocol)\n",
      "  Using cached typer-0.15.4-py3-none-any.whl.metadata (15 kB)\n",
      "Requirement already satisfied: shellingham>=1.3.0 in c:\\users\\18esh\\appdata\\roaming\\python\\python313\\site-packages (from typer>=0.7.0->modelcontextprotocol) (1.5.4)\n",
      "Requirement already satisfied: httplib2<1.0.0,>=0.19.0 in c:\\users\\18esh\\appdata\\roaming\\python\\python313\\site-packages (from google-api-python-client->google-generativeai>=0.8.4->airtrain>=0.1.58->modelcontextprotocol) (0.22.0)\n",
      "Requirement already satisfied: google-auth-httplib2<1.0.0,>=0.2.0 in c:\\users\\18esh\\appdata\\roaming\\python\\python313\\site-packages (from google-api-python-client->google-generativeai>=0.8.4->airtrain>=0.1.58->modelcontextprotocol) (0.2.0)\n",
      "Requirement already satisfied: uritemplate<5,>=3.0.1 in c:\\users\\18esh\\appdata\\roaming\\python\\python313\\site-packages (from google-api-python-client->google-generativeai>=0.8.4->airtrain>=0.1.58->modelcontextprotocol) (4.2.0)\n",
      "Requirement already satisfied: pyparsing!=3.0.0,!=3.0.1,!=3.0.2,!=3.0.3,<4,>=2.4.2 in c:\\users\\18esh\\appdata\\roaming\\python\\python313\\site-packages (from httplib2<1.0.0,>=0.19.0->google-api-python-client->google-generativeai>=0.8.4->airtrain>=0.1.58->modelcontextprotocol) (3.2.3)\n",
      "Requirement already satisfied: wsproto in c:\\users\\18esh\\appdata\\roaming\\python\\python313\\site-packages (from httpx-ws->fireworks-ai>=0.15.12->airtrain>=0.1.58->modelcontextprotocol) (1.2.0)\n",
      "Requirement already satisfied: pytz>=2020.1 in c:\\users\\18esh\\appdata\\roaming\\python\\python313\\site-packages (from pandas->datasets==3.6.0->reward-kit>=0.3.1->fireworks-ai>=0.15.12->airtrain>=0.1.58->modelcontextprotocol) (2025.1)\n",
      "Requirement already satisfied: tzdata>=2022.7 in c:\\users\\18esh\\appdata\\roaming\\python\\python313\\site-packages (from pandas->datasets==3.6.0->reward-kit>=0.3.1->fireworks-ai>=0.15.12->airtrain>=0.1.58->modelcontextprotocol) (2025.1)\n",
      "Using cached typer-0.15.4-py3-none-any.whl (45 kB)\n",
      "Installing collected packages: typer\n",
      "  Attempting uninstall: typer\n",
      "    Found existing installation: typer 0.16.0\n",
      "    Uninstalling typer-0.16.0:\n",
      "      Successfully uninstalled typer-0.16.0\n",
      "Successfully installed typer-0.15.4\n"
     ]
    },
    {
     "name": "stderr",
     "output_type": "stream",
     "text": [
      "  WARNING: The script typer.exe is installed in 'C:\\Users\\18esh\\AppData\\Roaming\\Python\\Python313\\Scripts' which is not on PATH.\n",
      "  Consider adding this directory to PATH or, if you prefer to suppress this warning, use --no-warn-script-location.\n",
      "ERROR: pip's dependency resolver does not currently take into account all the packages that are installed. This behaviour is the source of the following dependency conflicts.\n",
      "docling 2.28.4 requires typer<0.13.0,>=0.12.5, but you have typer 0.15.4 which is incompatible.\n",
      "docling-core 2.25.0 requires typer<0.13.0,>=0.12.5, but you have typer 0.15.4 which is incompatible.\n"
     ]
    }
   ],
   "source": [
    "!pip install modelcontextprotocol\n"
   ]
  },
  {
   "cell_type": "code",
   "execution_count": 4,
   "id": "7b0ce44f-9484-4f90-8a1f-5ccb176fff4c",
   "metadata": {},
   "outputs": [
    {
     "ename": "AttributeError",
     "evalue": "module 'mcp' has no attribute '__version__'",
     "output_type": "error",
     "traceback": [
      "\u001b[31m---------------------------------------------------------------------------\u001b[39m",
      "\u001b[31mAttributeError\u001b[39m                            Traceback (most recent call last)",
      "\u001b[36mCell\u001b[39m\u001b[36m \u001b[39m\u001b[32mIn[4]\u001b[39m\u001b[32m, line 2\u001b[39m\n\u001b[32m      1\u001b[39m \u001b[38;5;28;01mimport\u001b[39;00m\u001b[38;5;250m \u001b[39m\u001b[34;01mmcp\u001b[39;00m\n\u001b[32m----> \u001b[39m\u001b[32m2\u001b[39m \u001b[38;5;28mprint\u001b[39m(\u001b[43mmcp\u001b[49m\u001b[43m.\u001b[49m\u001b[43m__version__\u001b[49m)\n",
      "\u001b[31mAttributeError\u001b[39m: module 'mcp' has no attribute '__version__'"
     ]
    }
   ],
   "source": [
    "import mcp\n",
    "print(mcp.__version__)\n"
   ]
  },
  {
   "cell_type": "code",
   "execution_count": 5,
   "id": "690092c5-62dc-41f6-b6dd-47728a44b4cb",
   "metadata": {},
   "outputs": [
    {
     "ename": "ModuleNotFoundError",
     "evalue": "No module named 'mcp.client.memory'",
     "output_type": "error",
     "traceback": [
      "\u001b[31m---------------------------------------------------------------------------\u001b[39m",
      "\u001b[31mModuleNotFoundError\u001b[39m                       Traceback (most recent call last)",
      "\u001b[36mCell\u001b[39m\u001b[36m \u001b[39m\u001b[32mIn[5]\u001b[39m\u001b[32m, line 1\u001b[39m\n\u001b[32m----> \u001b[39m\u001b[32m1\u001b[39m \u001b[38;5;28;01mfrom\u001b[39;00m\u001b[38;5;250m \u001b[39m\u001b[34;01mmcp\u001b[39;00m\u001b[34;01m.\u001b[39;00m\u001b[34;01mclient\u001b[39;00m\u001b[34;01m.\u001b[39;00m\u001b[34;01mmemory\u001b[39;00m\u001b[38;5;250m \u001b[39m\u001b[38;5;28;01mimport\u001b[39;00m MemoryClient\n",
      "\u001b[31mModuleNotFoundError\u001b[39m: No module named 'mcp.client.memory'"
     ]
    }
   ],
   "source": [
    "from mcp.client.memory import MemoryClient\n",
    "\n"
   ]
  },
  {
   "cell_type": "code",
   "execution_count": 6,
   "id": "e0f0f62c-2abb-4035-828e-9150ab71d7bf",
   "metadata": {},
   "outputs": [
    {
     "name": "stdout",
     "output_type": "stream",
     "text": [
      "Name: modelcontextprotocol\n",
      "Version: 0.1.0\n",
      "Summary: A powerful terminal chat interface for multiple AI models with local session storage\n",
      "Home-page: https://github.com/yourusername/airtrain\n",
      "Author: AirTrain Team\n",
      "Author-email: \n",
      "License: MIT\n",
      "Location: C:\\Users\\18esh\\AppData\\Roaming\\Python\\Python313\\site-packages\n",
      "Requires: airtrain, packaging, python-dotenv, requests, rich, typer\n",
      "Required-by: \n"
     ]
    }
   ],
   "source": [
    "!pip show modelcontextprotocol\n"
   ]
  },
  {
   "cell_type": "code",
   "execution_count": null,
   "id": "b070f6b3-5f8a-477c-b124-e7a2a4b8d07d",
   "metadata": {},
   "outputs": [],
   "source": [
    "pip uninstall -y modelcontextprotocol\n",
    "pip install mcp\n"
   ]
  }
 ],
 "metadata": {
  "kernelspec": {
   "display_name": "Python 3 (ipykernel)",
   "language": "python",
   "name": "python3"
  },
  "language_info": {
   "codemirror_mode": {
    "name": "ipython",
    "version": 3
   },
   "file_extension": ".py",
   "mimetype": "text/x-python",
   "name": "python",
   "nbconvert_exporter": "python",
   "pygments_lexer": "ipython3",
   "version": "3.13.2"
  }
 },
 "nbformat": 4,
 "nbformat_minor": 5
}
