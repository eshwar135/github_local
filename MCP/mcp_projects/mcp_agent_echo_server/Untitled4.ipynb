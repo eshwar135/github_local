{
 "cells": [
  {
   "cell_type": "code",
   "execution_count": null,
   "id": "3e87c923-3dc1-402f-8e5c-6ff2a8de7c59",
   "metadata": {},
   "outputs": [],
   "source": [
    "import subprocess\n",
    "proc.terminate()\n",
    "try:\n",
    "    proc.wait(timeout=5)\n",
    "    print(\"Flask server terminated.\")\n",
    "except subprocess.TimeoutExpired:\n",
    "    proc.kill()\n",
    "    proc.wait(timeout=5)\n",
    "    print(\"Flask server killed.\")\n"
   ]
  },
  {
   "cell_type": "code",
   "execution_count": null,
   "id": "3da5aafd-cf0b-4b17-b4cc-0bd4bef3c3f8",
   "metadata": {},
   "outputs": [],
   "source": []
  }
 ],
 "metadata": {
  "kernelspec": {
   "display_name": "Python (MCP)",
   "language": "python",
   "name": "mcp_env"
  },
  "language_info": {
   "name": ""
  }
 },
 "nbformat": 4,
 "nbformat_minor": 5
}
