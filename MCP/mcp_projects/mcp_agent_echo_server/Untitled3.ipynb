{
 "cells": [
  {
   "cell_type": "code",
   "execution_count": null,
   "id": "c2f1238b-4677-45f7-a8e8-ce9e3cf533d3",
   "metadata": {},
   "outputs": [],
   "source": [
    "import requests\n",
    "r = requests.post(\"http://127.0.0.1:8080/ask\", json={\"input\": \"echo via Flask on D\"}, timeout=10)\n",
    "r.raise_for_status()\n",
    "print(r.json())\n"
   ]
  },
  {
   "cell_type": "code",
   "execution_count": null,
   "id": "9fb6a2f9-fd48-47e3-9df3-15037a19c9dc",
   "metadata": {},
   "outputs": [],
   "source": []
  }
 ],
 "metadata": {
  "kernelspec": {
   "display_name": "Python (MCP)",
   "language": "python",
   "name": "mcp_env"
  },
  "language_info": {
   "name": ""
  }
 },
 "nbformat": 4,
 "nbformat_minor": 5
}
