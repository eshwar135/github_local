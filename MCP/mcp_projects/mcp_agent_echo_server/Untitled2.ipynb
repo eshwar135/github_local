{
 "cells": [
  {
   "cell_type": "code",
   "execution_count": null,
   "id": "0160e0e9-f8a3-4aa0-93c9-81300a597eb9",
   "metadata": {},
   "outputs": [],
   "source": [
    "import os, subprocess, sys, time, requests\n",
    "\n",
    "project_dir = r\"D:\\mcp_projects\\mcp_agent_echo_server\"\n",
    "server_script = os.path.join(project_dir, \"server_flask.py\")\n",
    "\n",
    "assert os.path.isdir(project_dir), f\"Missing dir: {project_dir}\"\n",
    "assert os.path.isfile(server_script), f\"Missing script: {server_script}\"\n",
    "\n",
    "proc = subprocess.Popen([sys.executable, server_script], cwd=project_dir)\n",
    "time.sleep(2)\n",
    "\n",
    "print(\"Health:\", requests.get(\"http://127.0.0.1:8080/health\", timeout=5).json())\n"
   ]
  },
  {
   "cell_type": "code",
   "execution_count": null,
   "id": "4749b139-c681-4cad-b47e-51f9ba5ee9dd",
   "metadata": {},
   "outputs": [],
   "source": []
  }
 ],
 "metadata": {
  "kernelspec": {
   "display_name": "Python (MCP)",
   "language": "python",
   "name": "mcp_env"
  },
  "language_info": {
   "name": ""
  }
 },
 "nbformat": 4,
 "nbformat_minor": 5
}
