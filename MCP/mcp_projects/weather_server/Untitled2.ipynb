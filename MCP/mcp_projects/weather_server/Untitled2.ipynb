{
 "cells": [
  {
   "cell_type": "code",
   "execution_count": null,
   "id": "03be8f87-c4ba-4044-a638-98f89c13f3cd",
   "metadata": {},
   "outputs": [],
   "source": [
    "out = subprocess.run([sys.executable, \"simulate_local.py\"], capture_output=True, text=True, cwd=str(project_dir))\n",
    "print(out.stdout)\n",
    "print(out.stderr)\n"
   ]
  },
  {
   "cell_type": "code",
   "execution_count": null,
   "id": "729da02d-2841-4917-a6e5-867cb3f87fc4",
   "metadata": {},
   "outputs": [],
   "source": []
  }
 ],
 "metadata": {
  "kernelspec": {
   "display_name": "Python (MCP)",
   "language": "python",
   "name": "mcp_env"
  },
  "language_info": {
   "name": ""
  }
 },
 "nbformat": 4,
 "nbformat_minor": 5
}
