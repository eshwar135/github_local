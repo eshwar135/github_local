{
 "cells": [
  {
   "cell_type": "code",
   "execution_count": null,
   "id": "503dd871-7ca3-4f2b-bda1-2694767dfb6d",
   "metadata": {},
   "outputs": [],
   "source": [
    "import sys, json, time, subprocess, pathlib\n",
    "project_dir = pathlib.Path.cwd() / \"mcp-weather-server\"\n",
    "project_dir.mkdir(exist_ok=True)\n",
    "print(\"Project dir:\", project_dir)\n",
    "\n"
   ]
  },
  {
   "cell_type": "code",
   "execution_count": null,
   "id": "cdd4a9a7-4ab9-4685-962d-5a9bd5f2af50",
   "metadata": {},
   "outputs": [],
   "source": []
  }
 ],
 "metadata": {
  "kernelspec": {
   "display_name": "Python (MCP)",
   "language": "python",
   "name": "mcp_env"
  },
  "language_info": {
   "name": ""
  }
 },
 "nbformat": 4,
 "nbformat_minor": 5
}
