{
 "cells": [
  {
   "cell_type": "code",
   "execution_count": null,
   "id": "dd531146-5406-4ef8-8c29-9eba49ddfafc",
   "metadata": {},
   "outputs": [],
   "source": [
    "# Launch the MCP server so Inspector can connect to it.\n",
    "server_proc = subprocess.Popen(\n",
    "    [sys.executable, \"mcp_weather_server.py\"],\n",
    "    cwd=str(project_dir),\n",
    "    stdout=subprocess.PIPE,\n",
    "    stderr=subprocess.STDOUT,\n",
    "    text=True,\n",
    "    bufsize=1\n",
    ")\n",
    "\n",
    "print(\"✅ MCP Weather Server starting... cwd =\", project_dir)\n",
    "time.sleep(1.5)\n",
    "\n",
    "# Read a few startup lines if available\n",
    "for _ in range(10):\n",
    "    line = server_proc.stdout.readline()\n",
    "    if not line:\n",
    "        break\n",
    "    print(line.rstrip())\n"
   ]
  },
  {
   "cell_type": "code",
   "execution_count": null,
   "id": "33882853-7144-42a4-ac45-1948b28f0cb2",
   "metadata": {},
   "outputs": [],
   "source": [
    "try:\n",
    "    server_proc.terminate()\n",
    "    server_proc.wait(timeout=5)\n",
    "    print(\"🛑 MCP Weather Server terminated.\")\n",
    "except Exception as e:\n",
    "    print(\"Force killing process...\", e)\n",
    "    server_proc.kill()\n"
   ]
  },
  {
   "cell_type": "code",
   "execution_count": null,
   "id": "e3e1438e-daa1-4d4e-9db7-77452d87a7d7",
   "metadata": {},
   "outputs": [],
   "source": []
  }
 ],
 "metadata": {
  "kernelspec": {
   "display_name": "Python (MCP)",
   "language": "python",
   "name": "mcp_env"
  },
  "language_info": {
   "name": ""
  }
 },
 "nbformat": 4,
 "nbformat_minor": 5
}
