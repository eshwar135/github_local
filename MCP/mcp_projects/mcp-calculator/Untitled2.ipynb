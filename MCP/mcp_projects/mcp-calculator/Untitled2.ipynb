{
 "cells": [
  {
   "cell_type": "code",
   "execution_count": null,
   "id": "97f968a1-675c-4bbd-a455-6876d9721d6c",
   "metadata": {},
   "outputs": [],
   "source": [
    "# Cell 3: Client connects and calls tools\n",
    "import asyncio\n",
    "from fastmcp import MCPClient\n",
    "from rich import print as rprint\n",
    "\n",
    "CLIENT_HOST = \"127.0.0.1\"\n",
    "CLIENT_PORT = 8765\n",
    "\n",
    "async def demo_calls():\n",
    "    client = MCPClient()\n",
    "    await client.connect_tcp(CLIENT_HOST, CLIENT_PORT)\n",
    "\n",
    "    tools = await client.list_tools()\n",
    "    rprint(\"[bold]Tools available:[/]\", [t[\"name\"] for t in tools])\n",
    "\n",
    "    assert any(t[\"name\"] == \"add\" for t in tools), \"Tool 'add' not found on server\"\n",
    "    assert any(t[\"name\"] == \"multiply\" for t in tools), \"Tool 'multiply' not found on server\"\n",
    "\n",
    "    add_result = await client.call_tool(\"add\", {\"a\": 3, \"b\": 4})\n",
    "    rprint(\"add(3,4) ->\", add_result)\n",
    "\n",
    "    mul_result = await client.call_tool(\"multiply\", {\"a\": 6, \"b\": 7})\n",
    "    rprint(\"multiply(6,7) ->\", mul_result)\n",
    "\n",
    "    await client.close()\n",
    "\n",
    "asyncio.get_event_loop().run_until_complete(demo_calls())\n"
   ]
  },
  {
   "cell_type": "code",
   "execution_count": null,
   "id": "cd324f5c-a8d1-4b31-808c-96fba2cf0540",
   "metadata": {},
   "outputs": [],
   "source": []
  }
 ],
 "metadata": {
  "kernelspec": {
   "display_name": "Python (MCP)",
   "language": "python",
   "name": "mcp_env"
  },
  "language_info": {
   "name": ""
  }
 },
 "nbformat": 4,
 "nbformat_minor": 5
}
