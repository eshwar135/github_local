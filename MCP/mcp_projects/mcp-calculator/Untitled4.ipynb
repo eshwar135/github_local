{
 "cells": [
  {
   "cell_type": "code",
   "execution_count": null,
   "id": "7c25d837-0184-4bf5-aec0-cdcae3978aa4",
   "metadata": {},
   "outputs": [],
   "source": [
    "# Cell 5: Stop the server task\n",
    "import asyncio\n",
    "\n",
    "if 'server_task' in globals() and server_task:\n",
    "    server_task.cancel()\n",
    "    try:\n",
    "        asyncio.get_event_loop().run_until_complete(server_task)\n",
    "    except Exception:\n",
    "        pass\n",
    "    server_task = None\n",
    "    print(\"Server stopped\")\n",
    "else:\n",
    "    print(\"No running server task found\")\n"
   ]
  },
  {
   "cell_type": "code",
   "execution_count": null,
   "id": "b1288fc0-ad99-4405-9b70-88cc7241b928",
   "metadata": {},
   "outputs": [],
   "source": []
  }
 ],
 "metadata": {
  "kernelspec": {
   "display_name": "Python (MCP)",
   "language": "python",
   "name": "mcp_env"
  },
  "language_info": {
   "name": ""
  }
 },
 "nbformat": 4,
 "nbformat_minor": 5
}
