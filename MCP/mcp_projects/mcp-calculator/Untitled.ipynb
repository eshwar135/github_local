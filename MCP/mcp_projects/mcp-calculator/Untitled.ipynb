{
 "cells": [
  {
   "cell_type": "code",
   "execution_count": null,
   "id": "0167c53a-fbbf-4e81-ae82-2ba30971c7a7",
   "metadata": {},
   "outputs": [],
   "source": [
    "# Cell 1: Install required packages\n",
    "import sys, subprocess\n",
    "\n",
    "def pip_install(pkg):\n",
    "    print(f\"Installing {pkg} ...\")\n",
    "    out = subprocess.check_output([sys.executable, \"-m\", \"pip\", \"install\", \"-q\", pkg], text=True)\n",
    "    print(out or f\"{pkg} installed.\")\n",
    "\n",
    "# Pin reasonable versions; adjust if you have resolver issues.\n",
    "for p in [\n",
    "    \"fastmcp>=0.3.0\",\n",
    "    \"anyio>=4.3.0\",\n",
    "    \"rich>=13.7.0\",\n",
    "    \"nest_asyncio>=1.6.0\",\n",
    "]:\n",
    "    try:\n",
    "        pip_install(p)\n",
    "    except subprocess.CalledProcessError as e:\n",
    "        print(e.output or e)\n"
   ]
  },
  {
   "cell_type": "code",
   "execution_count": null,
   "id": "1e99763e-ee43-41aa-adcd-7c3a6abd2da5",
   "metadata": {},
   "outputs": [],
   "source": []
  }
 ],
 "metadata": {
  "kernelspec": {
   "display_name": "Python (MCP)",
   "language": "python",
   "name": "mcp_env"
  },
  "language_info": {
   "name": ""
  }
 },
 "nbformat": 4,
 "nbformat_minor": 5
}
