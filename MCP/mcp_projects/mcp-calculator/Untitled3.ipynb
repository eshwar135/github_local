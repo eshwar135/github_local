{
 "cells": [
  {
   "cell_type": "code",
   "execution_count": null,
   "id": "80d4cb94-38dd-4d8b-bd52-ebce9c345c8c",
   "metadata": {},
   "outputs": [],
   "source": [
    "# Cell 4: Call with invalid params to see error handling\n",
    "import asyncio\n",
    "from fastmcp import MCPClient\n",
    "\n",
    "async def invalid_call():\n",
    "    client = MCPClient()\n",
    "    await client.connect_tcp(\"127.0.0.1\", 8765)\n",
    "    res = await client.call_tool(\"add\", {\"a\": \"3\", \"b\": 1})  # wrong type for a\n",
    "    print(\"add('3',1) ->\", res)\n",
    "    await client.close()\n",
    "\n",
    "asyncio.get_event_loop().run_until_complete(invalid_call())\n"
   ]
  },
  {
   "cell_type": "code",
   "execution_count": null,
   "id": "aee67937-880b-4db2-8eab-85defee3b410",
   "metadata": {},
   "outputs": [],
   "source": []
  }
 ],
 "metadata": {
  "kernelspec": {
   "display_name": "Python (MCP)",
   "language": "python",
   "name": "mcp_env"
  },
  "language_info": {
   "name": ""
  }
 },
 "nbformat": 4,
 "nbformat_minor": 5
}
