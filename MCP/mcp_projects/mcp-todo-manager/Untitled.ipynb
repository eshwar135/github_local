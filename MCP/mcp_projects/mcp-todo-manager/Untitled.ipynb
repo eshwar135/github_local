{
 "cells": [
  {
   "cell_type": "code",
   "execution_count": null,
   "id": "1440e80e-2d31-4770-a8a4-e7b4614fe11b",
   "metadata": {},
   "outputs": [],
   "source": [
    "python3.11 -m venv .venv\n",
    "source .venv/bin/activate  # Windows: .venv\\Scripts\\activate\n",
    "python -m pip install --upgrade pip\n",
    "\n",
    "# Core packages:\n",
    "pip install fastmcp uvicorn\n",
    "\n",
    "# Optional: rich logging in terminal\n",
    "pip install rich\n"
   ]
  },
  {
   "cell_type": "code",
   "execution_count": null,
   "id": "8ee5e904-6d7d-490a-995f-743b98a1df30",
   "metadata": {},
   "outputs": [],
   "source": [
    "from tasks import TaskStore\n",
    "s = TaskStore()\n",
    "a = s.add_task(\"Write docs\")\n",
    "b = s.add_task(\"Implement remove\")\n",
    "assert a.id == 1 and b.id == 2\n",
    "assert len(s.list_tasks()) == 2\n",
    "assert s.remove_task(1) is True\n",
    "assert s.remove_task(999) is False\n",
    "assert len(s.list_tasks()) == 1\n",
    "print(\"TaskStore OK\")\n"
   ]
  },
  {
   "cell_type": "code",
   "execution_count": null,
   "id": "500a3b43-5cda-4be1-9ff9-138fe94fd938",
   "metadata": {},
   "outputs": [],
   "source": [
    "import os, subprocess, sys, time\n",
    "\n",
    "env = os.environ.copy()\n",
    "env[\"PYTHONUNBUFFERED\"] = \"1\"\n",
    "env[\"MCP_VERBOSE\"] = \"1\"\n",
    "\n",
    "proc = subprocess.Popen(\n",
    "    [sys.executable, \"server.py\"],\n",
    "    env=env,\n",
    "    cwd=str(project_dir),\n",
    "    stdin=subprocess.PIPE,\n",
    "    stdout=subprocess.PIPE,\n",
    "    stderr=subprocess.STDOUT,\n",
    "    text=True,\n",
    "    bufsize=1,\n",
    ")\n",
    "time.sleep(0.8)\n",
    "\n",
    "# Read a few lines (non-blocking-ish demo)\n",
    "for _ in range(3):\n",
    "    line = proc.stdout.readline()\n",
    "    if not line:\n",
    "        break\n",
    "    print(line.rstrip())\n",
    "\n",
    "server_proc = proc\n",
    "print(\"Server started (stdio). Inspector/Claude should launch it themselves via mcp.json.\")\n"
   ]
  },
  {
   "cell_type": "code",
   "execution_count": null,
   "id": "4484cb9a-6a84-4f05-96e0-2d7176921c2a",
   "metadata": {},
   "outputs": [],
   "source": [
    "try:\n",
    "    server_proc.terminate()\n",
    "    server_proc.wait(timeout=5)\n",
    "    print(\"Server terminated.\")\n",
    "except Exception as e:\n",
    "    print(\"Terminate failed, killing...\", e)\n",
    "    try:\n",
    "        server_proc.kill()\n",
    "    except Exception:\n",
    "        pass\n"
   ]
  },
  {
   "cell_type": "code",
   "execution_count": null,
   "id": "b00f9b3c-5516-4d90-8684-d2c0483421e1",
   "metadata": {},
   "outputs": [],
   "source": [
    "npx @modelcontextprotocol/inspector <command>"
   ]
  },
  {
   "cell_type": "code",
   "execution_count": null,
   "id": "cef756a8-d1ad-4694-bfcf-eee92beecce8",
   "metadata": {},
   "outputs": [],
   "source": []
  }
 ],
 "metadata": {
  "kernelspec": {
   "display_name": "Python (MCP)",
   "language": "python",
   "name": "mcp_env"
  },
  "language_info": {
   "name": ""
  }
 },
 "nbformat": 4,
 "nbformat_minor": 5
}
