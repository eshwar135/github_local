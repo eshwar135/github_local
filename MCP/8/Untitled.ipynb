{
 "cells": [
  {
   "cell_type": "code",
   "execution_count": 1,
   "id": "0dc0a92c-131e-49dd-9320-0c4fe0776080",
   "metadata": {},
   "outputs": [
    {
     "name": "stdout",
     "output_type": "stream",
     "text": [
      "Defaulting to user installation because normal site-packages is not writeable\n",
      "Requirement already satisfied: fastmcp in c:\\users\\18esh\\appdata\\roaming\\python\\python313\\site-packages (2.11.3)\n",
      "Requirement already satisfied: nest_asyncio in c:\\program files\\python313\\lib\\site-packages (1.6.0)\n",
      "Requirement already satisfied: authlib>=1.5.2 in c:\\users\\18esh\\appdata\\roaming\\python\\python313\\site-packages (from fastmcp) (1.6.1)\n",
      "Requirement already satisfied: cyclopts>=3.0.0 in c:\\users\\18esh\\appdata\\roaming\\python\\python313\\site-packages (from fastmcp) (3.22.5)\n",
      "Requirement already satisfied: exceptiongroup>=1.2.2 in c:\\users\\18esh\\appdata\\roaming\\python\\python313\\site-packages (from fastmcp) (1.3.0)\n",
      "Requirement already satisfied: httpx>=0.28.1 in c:\\users\\18esh\\appdata\\roaming\\python\\python313\\site-packages (from fastmcp) (0.28.1)\n",
      "Requirement already satisfied: mcp<2.0.0,>=1.12.4 in c:\\users\\18esh\\appdata\\roaming\\python\\python313\\site-packages (from fastmcp) (1.12.4)\n",
      "Requirement already satisfied: openapi-core>=0.19.5 in c:\\users\\18esh\\appdata\\roaming\\python\\python313\\site-packages (from fastmcp) (0.19.5)\n",
      "Requirement already satisfied: openapi-pydantic>=0.5.1 in c:\\users\\18esh\\appdata\\roaming\\python\\python313\\site-packages (from fastmcp) (0.5.1)\n",
      "Requirement already satisfied: pydantic>=2.11.7 in c:\\users\\18esh\\appdata\\roaming\\python\\python313\\site-packages (from pydantic[email]>=2.11.7->fastmcp) (2.11.7)\n",
      "Requirement already satisfied: pyperclip>=1.9.0 in c:\\users\\18esh\\appdata\\roaming\\python\\python313\\site-packages (from fastmcp) (1.9.0)\n",
      "Requirement already satisfied: python-dotenv>=1.1.0 in c:\\users\\18esh\\appdata\\roaming\\python\\python313\\site-packages (from fastmcp) (1.1.0)\n",
      "Requirement already satisfied: rich>=13.9.4 in c:\\users\\18esh\\appdata\\roaming\\python\\python313\\site-packages (from fastmcp) (14.1.0)\n",
      "Requirement already satisfied: anyio>=4.5 in c:\\users\\18esh\\appdata\\roaming\\python\\python313\\site-packages (from mcp<2.0.0,>=1.12.4->fastmcp) (4.9.0)\n",
      "Requirement already satisfied: httpx-sse>=0.4 in c:\\users\\18esh\\appdata\\roaming\\python\\python313\\site-packages (from mcp<2.0.0,>=1.12.4->fastmcp) (0.4.0)\n",
      "Requirement already satisfied: jsonschema>=4.20.0 in c:\\program files\\python313\\lib\\site-packages (from mcp<2.0.0,>=1.12.4->fastmcp) (4.23.0)\n",
      "Requirement already satisfied: pydantic-settings>=2.5.2 in c:\\users\\18esh\\appdata\\roaming\\python\\python313\\site-packages (from mcp<2.0.0,>=1.12.4->fastmcp) (2.8.1)\n",
      "Requirement already satisfied: python-multipart>=0.0.9 in c:\\users\\18esh\\appdata\\roaming\\python\\python313\\site-packages (from mcp<2.0.0,>=1.12.4->fastmcp) (0.0.20)\n",
      "Requirement already satisfied: pywin32>=310 in c:\\users\\18esh\\appdata\\roaming\\python\\python313\\site-packages (from mcp<2.0.0,>=1.12.4->fastmcp) (311)\n",
      "Requirement already satisfied: sse-starlette>=1.6.1 in c:\\users\\18esh\\appdata\\roaming\\python\\python313\\site-packages (from mcp<2.0.0,>=1.12.4->fastmcp) (3.0.2)\n",
      "Requirement already satisfied: starlette>=0.27 in c:\\users\\18esh\\appdata\\roaming\\python\\python313\\site-packages (from mcp<2.0.0,>=1.12.4->fastmcp) (0.45.3)\n",
      "Requirement already satisfied: uvicorn>=0.23.1 in c:\\users\\18esh\\appdata\\roaming\\python\\python313\\site-packages (from mcp<2.0.0,>=1.12.4->fastmcp) (0.34.0)\n",
      "Requirement already satisfied: annotated-types>=0.6.0 in c:\\users\\18esh\\appdata\\roaming\\python\\python313\\site-packages (from pydantic>=2.11.7->pydantic[email]>=2.11.7->fastmcp) (0.7.0)\n",
      "Requirement already satisfied: pydantic-core==2.33.2 in c:\\users\\18esh\\appdata\\roaming\\python\\python313\\site-packages (from pydantic>=2.11.7->pydantic[email]>=2.11.7->fastmcp) (2.33.2)\n",
      "Requirement already satisfied: typing-extensions>=4.12.2 in c:\\users\\18esh\\appdata\\roaming\\python\\python313\\site-packages (from pydantic>=2.11.7->pydantic[email]>=2.11.7->fastmcp) (4.14.1)\n",
      "Requirement already satisfied: typing-inspection>=0.4.0 in c:\\users\\18esh\\appdata\\roaming\\python\\python313\\site-packages (from pydantic>=2.11.7->pydantic[email]>=2.11.7->fastmcp) (0.4.1)\n",
      "Requirement already satisfied: idna>=2.8 in c:\\users\\18esh\\appdata\\roaming\\python\\python313\\site-packages (from anyio>=4.5->mcp<2.0.0,>=1.12.4->fastmcp) (3.10)\n",
      "Requirement already satisfied: sniffio>=1.1 in c:\\users\\18esh\\appdata\\roaming\\python\\python313\\site-packages (from anyio>=4.5->mcp<2.0.0,>=1.12.4->fastmcp) (1.3.1)\n",
      "Requirement already satisfied: cryptography in c:\\users\\18esh\\appdata\\roaming\\python\\python313\\site-packages (from authlib>=1.5.2->fastmcp) (45.0.6)\n",
      "Requirement already satisfied: attrs>=23.1.0 in c:\\users\\18esh\\appdata\\roaming\\python\\python313\\site-packages (from cyclopts>=3.0.0->fastmcp) (23.2.0)\n",
      "Requirement already satisfied: docstring-parser>=0.15 in c:\\users\\18esh\\appdata\\roaming\\python\\python313\\site-packages (from cyclopts>=3.0.0->fastmcp) (0.17.0)\n",
      "Requirement already satisfied: rich-rst<2.0.0,>=1.3.1 in c:\\users\\18esh\\appdata\\roaming\\python\\python313\\site-packages (from cyclopts>=3.0.0->fastmcp) (1.3.1)\n",
      "Requirement already satisfied: docutils in c:\\users\\18esh\\appdata\\roaming\\python\\python313\\site-packages (from rich-rst<2.0.0,>=1.3.1->cyclopts>=3.0.0->fastmcp) (0.22)\n",
      "Requirement already satisfied: certifi in c:\\users\\18esh\\appdata\\roaming\\python\\python313\\site-packages (from httpx>=0.28.1->fastmcp) (2025.7.14)\n",
      "Requirement already satisfied: httpcore==1.* in c:\\users\\18esh\\appdata\\roaming\\python\\python313\\site-packages (from httpx>=0.28.1->fastmcp) (1.0.9)\n",
      "Requirement already satisfied: h11>=0.16 in c:\\users\\18esh\\appdata\\roaming\\python\\python313\\site-packages (from httpcore==1.*->httpx>=0.28.1->fastmcp) (0.16.0)\n",
      "Requirement already satisfied: jsonschema-specifications>=2023.03.6 in c:\\program files\\python313\\lib\\site-packages (from jsonschema>=4.20.0->mcp<2.0.0,>=1.12.4->fastmcp) (2024.10.1)\n",
      "Requirement already satisfied: referencing>=0.28.4 in c:\\program files\\python313\\lib\\site-packages (from jsonschema>=4.20.0->mcp<2.0.0,>=1.12.4->fastmcp) (0.36.2)\n",
      "Requirement already satisfied: rpds-py>=0.7.1 in c:\\program files\\python313\\lib\\site-packages (from jsonschema>=4.20.0->mcp<2.0.0,>=1.12.4->fastmcp) (0.23.1)\n",
      "Requirement already satisfied: isodate in c:\\users\\18esh\\appdata\\roaming\\python\\python313\\site-packages (from openapi-core>=0.19.5->fastmcp) (0.7.2)\n",
      "Requirement already satisfied: jsonschema-path<0.4.0,>=0.3.1 in c:\\users\\18esh\\appdata\\roaming\\python\\python313\\site-packages (from openapi-core>=0.19.5->fastmcp) (0.3.4)\n",
      "Requirement already satisfied: more-itertools in c:\\users\\18esh\\appdata\\roaming\\python\\python313\\site-packages (from openapi-core>=0.19.5->fastmcp) (10.7.0)\n",
      "Requirement already satisfied: openapi-schema-validator<0.7.0,>=0.6.0 in c:\\users\\18esh\\appdata\\roaming\\python\\python313\\site-packages (from openapi-core>=0.19.5->fastmcp) (0.6.3)\n",
      "Requirement already satisfied: openapi-spec-validator<0.8.0,>=0.7.1 in c:\\users\\18esh\\appdata\\roaming\\python\\python313\\site-packages (from openapi-core>=0.19.5->fastmcp) (0.7.2)\n",
      "Requirement already satisfied: parse in c:\\users\\18esh\\appdata\\roaming\\python\\python313\\site-packages (from openapi-core>=0.19.5->fastmcp) (1.20.2)\n",
      "Requirement already satisfied: werkzeug<3.1.2 in c:\\users\\18esh\\appdata\\roaming\\python\\python313\\site-packages (from openapi-core>=0.19.5->fastmcp) (3.1.1)\n",
      "Requirement already satisfied: PyYAML>=5.1 in c:\\users\\18esh\\appdata\\roaming\\python\\python313\\site-packages (from jsonschema-path<0.4.0,>=0.3.1->openapi-core>=0.19.5->fastmcp) (6.0.2)\n",
      "Requirement already satisfied: pathable<0.5.0,>=0.4.1 in c:\\users\\18esh\\appdata\\roaming\\python\\python313\\site-packages (from jsonschema-path<0.4.0,>=0.3.1->openapi-core>=0.19.5->fastmcp) (0.4.4)\n",
      "Requirement already satisfied: requests<3.0.0,>=2.31.0 in c:\\users\\18esh\\appdata\\roaming\\python\\python313\\site-packages (from jsonschema-path<0.4.0,>=0.3.1->openapi-core>=0.19.5->fastmcp) (2.32.4)\n",
      "Requirement already satisfied: rfc3339-validator in c:\\program files\\python313\\lib\\site-packages (from openapi-schema-validator<0.7.0,>=0.6.0->openapi-core>=0.19.5->fastmcp) (0.1.4)\n",
      "Requirement already satisfied: lazy-object-proxy<2.0.0,>=1.7.1 in c:\\users\\18esh\\appdata\\roaming\\python\\python313\\site-packages (from openapi-spec-validator<0.8.0,>=0.7.1->openapi-core>=0.19.5->fastmcp) (1.11.0)\n",
      "Requirement already satisfied: charset_normalizer<4,>=2 in c:\\users\\18esh\\appdata\\roaming\\python\\python313\\site-packages (from requests<3.0.0,>=2.31.0->jsonschema-path<0.4.0,>=0.3.1->openapi-core>=0.19.5->fastmcp) (3.4.2)\n",
      "Requirement already satisfied: urllib3<3,>=1.21.1 in c:\\users\\18esh\\appdata\\roaming\\python\\python313\\site-packages (from requests<3.0.0,>=2.31.0->jsonschema-path<0.4.0,>=0.3.1->openapi-core>=0.19.5->fastmcp) (2.5.0)\n",
      "Requirement already satisfied: MarkupSafe>=2.1.1 in c:\\program files\\python313\\lib\\site-packages (from werkzeug<3.1.2->openapi-core>=0.19.5->fastmcp) (3.0.2)\n",
      "Requirement already satisfied: email-validator>=2.0.0 in c:\\users\\18esh\\appdata\\roaming\\python\\python313\\site-packages (from pydantic[email]>=2.11.7->fastmcp) (2.2.0)\n",
      "Requirement already satisfied: dnspython>=2.0.0 in c:\\users\\18esh\\appdata\\roaming\\python\\python313\\site-packages (from email-validator>=2.0.0->pydantic[email]>=2.11.7->fastmcp) (2.7.0)\n",
      "Requirement already satisfied: markdown-it-py>=2.2.0 in c:\\users\\18esh\\appdata\\roaming\\python\\python313\\site-packages (from rich>=13.9.4->fastmcp) (4.0.0)\n",
      "Requirement already satisfied: pygments<3.0.0,>=2.13.0 in c:\\users\\18esh\\appdata\\roaming\\python\\python313\\site-packages (from rich>=13.9.4->fastmcp) (2.19.2)\n",
      "Requirement already satisfied: mdurl~=0.1 in c:\\users\\18esh\\appdata\\roaming\\python\\python313\\site-packages (from markdown-it-py>=2.2.0->rich>=13.9.4->fastmcp) (0.1.2)\n",
      "Requirement already satisfied: click>=7.0 in c:\\users\\18esh\\appdata\\roaming\\python\\python313\\site-packages (from uvicorn>=0.23.1->mcp<2.0.0,>=1.12.4->fastmcp) (8.1.8)\n",
      "Requirement already satisfied: colorama in c:\\program files\\python313\\lib\\site-packages (from click>=7.0->uvicorn>=0.23.1->mcp<2.0.0,>=1.12.4->fastmcp) (0.4.6)\n",
      "Requirement already satisfied: cffi>=1.14 in c:\\program files\\python313\\lib\\site-packages (from cryptography->authlib>=1.5.2->fastmcp) (1.17.1)\n",
      "Requirement already satisfied: pycparser in c:\\program files\\python313\\lib\\site-packages (from cffi>=1.14->cryptography->authlib>=1.5.2->fastmcp) (2.22)\n",
      "Requirement already satisfied: six in c:\\program files\\python313\\lib\\site-packages (from rfc3339-validator->openapi-schema-validator<0.7.0,>=0.6.0->openapi-core>=0.19.5->fastmcp) (1.17.0)\n"
     ]
    }
   ],
   "source": [
    "!pip install fastmcp nest_asyncio\n"
   ]
  },
  {
   "cell_type": "code",
   "execution_count": 2,
   "id": "871144bb-3ce8-4bc6-91f1-5f094276b7d2",
   "metadata": {},
   "outputs": [
    {
     "name": "stdout",
     "output_type": "stream",
     "text": [
      "Server started on http://127.0.0.1:8000\n"
     ]
    }
   ],
   "source": [
    "import subprocess\n",
    "import sys\n",
    "\n",
    "server_process = subprocess.Popen([sys.executable, \"server.py\"])\n",
    "print(\"Server started on http://127.0.0.1:8000\")\n"
   ]
  },
  {
   "cell_type": "code",
   "execution_count": 3,
   "id": "cbd5a7b0-aabd-4dc0-930b-ad0fb0ebb9e4",
   "metadata": {},
   "outputs": [
    {
     "ename": "RuntimeError",
     "evalue": "Client failed to connect: All connection attempts failed",
     "output_type": "error",
     "traceback": [
      "\u001b[31m---------------------------------------------------------------------------\u001b[39m",
      "\u001b[31mConnectError\u001b[39m                              Traceback (most recent call last)",
      "\u001b[36mFile \u001b[39m\u001b[32mC:\\Program Files\\Python313\\Lib\\asyncio\\tasks.py:304\u001b[39m, in \u001b[36mTask.__step_run_and_handle_result\u001b[39m\u001b[34m(***failed resolving arguments***)\u001b[39m\n\u001b[32m    301\u001b[39m \u001b[38;5;28;01mif\u001b[39;00m exc \u001b[38;5;129;01mis\u001b[39;00m \u001b[38;5;28;01mNone\u001b[39;00m:\n\u001b[32m    302\u001b[39m     \u001b[38;5;66;03m# We use the `send` method directly, because coroutines\u001b[39;00m\n\u001b[32m    303\u001b[39m     \u001b[38;5;66;03m# don't have `__iter__` and `__next__` methods.\u001b[39;00m\n\u001b[32m--> \u001b[39m\u001b[32m304\u001b[39m     result = \u001b[43mcoro\u001b[49m\u001b[43m.\u001b[49m\u001b[43msend\u001b[49m\u001b[43m(\u001b[49m\u001b[38;5;28;43;01mNone\u001b[39;49;00m\u001b[43m)\u001b[49m\n\u001b[32m    305\u001b[39m \u001b[38;5;28;01melse\u001b[39;00m:\n",
      "\u001b[36mFile \u001b[39m\u001b[32m~\\AppData\\Roaming\\Python\\Python313\\site-packages\\fastmcp\\client\\client.py:467\u001b[39m, in \u001b[36mClient._session_runner\u001b[39m\u001b[34m(self)\u001b[39m\n\u001b[32m    466\u001b[39m \u001b[38;5;28;01masync\u001b[39;00m \u001b[38;5;28;01mwith\u001b[39;00m AsyncExitStack() \u001b[38;5;28;01mas\u001b[39;00m stack:\n\u001b[32m--> \u001b[39m\u001b[32m467\u001b[39m     \u001b[38;5;28;01mawait\u001b[39;00m stack.enter_async_context(\u001b[38;5;28mself\u001b[39m._context_manager())\n\u001b[32m    468\u001b[39m     \u001b[38;5;66;03m# Session/context is now ready\u001b[39;00m\n",
      "\u001b[36mFile \u001b[39m\u001b[32mC:\\Program Files\\Python313\\Lib\\contextlib.py:668\u001b[39m, in \u001b[36mAsyncExitStack.enter_async_context\u001b[39m\u001b[34m(self, cm)\u001b[39m\n\u001b[32m    665\u001b[39m     \u001b[38;5;28;01mraise\u001b[39;00m \u001b[38;5;167;01mTypeError\u001b[39;00m(\u001b[33mf\u001b[39m\u001b[33m\"\u001b[39m\u001b[33m'\u001b[39m\u001b[38;5;132;01m{\u001b[39;00m\u001b[38;5;28mcls\u001b[39m.\u001b[34m__module__\u001b[39m\u001b[38;5;132;01m}\u001b[39;00m\u001b[33m.\u001b[39m\u001b[38;5;132;01m{\u001b[39;00m\u001b[38;5;28mcls\u001b[39m.\u001b[34m__qualname__\u001b[39m\u001b[38;5;132;01m}\u001b[39;00m\u001b[33m'\u001b[39m\u001b[33m object does \u001b[39m\u001b[33m\"\u001b[39m\n\u001b[32m    666\u001b[39m                     \u001b[33mf\u001b[39m\u001b[33m\"\u001b[39m\u001b[33mnot support the asynchronous context manager protocol\u001b[39m\u001b[33m\"\u001b[39m\n\u001b[32m    667\u001b[39m                    ) \u001b[38;5;28;01mfrom\u001b[39;00m\u001b[38;5;250m \u001b[39m\u001b[38;5;28;01mNone\u001b[39;00m\n\u001b[32m--> \u001b[39m\u001b[32m668\u001b[39m result = \u001b[38;5;28;01mawait\u001b[39;00m _enter(cm)\n\u001b[32m    669\u001b[39m \u001b[38;5;28mself\u001b[39m._push_async_cm_exit(cm, _exit)\n",
      "\u001b[36mFile \u001b[39m\u001b[32mC:\\Program Files\\Python313\\Lib\\contextlib.py:214\u001b[39m, in \u001b[36m_AsyncGeneratorContextManager.__aenter__\u001b[39m\u001b[34m(self)\u001b[39m\n\u001b[32m    213\u001b[39m \u001b[38;5;28;01mtry\u001b[39;00m:\n\u001b[32m--> \u001b[39m\u001b[32m214\u001b[39m     \u001b[38;5;28;01mreturn\u001b[39;00m \u001b[38;5;28;01mawait\u001b[39;00m anext(\u001b[38;5;28mself\u001b[39m.gen)\n\u001b[32m    215\u001b[39m \u001b[38;5;28;01mexcept\u001b[39;00m \u001b[38;5;167;01mStopAsyncIteration\u001b[39;00m:\n",
      "\u001b[36mFile \u001b[39m\u001b[32m~\\AppData\\Roaming\\Python\\Python313\\site-packages\\fastmcp\\client\\client.py:341\u001b[39m, in \u001b[36mClient._context_manager\u001b[39m\u001b[34m(self)\u001b[39m\n\u001b[32m    339\u001b[39m \u001b[38;5;129m@asynccontextmanager\u001b[39m\n\u001b[32m    340\u001b[39m \u001b[38;5;28;01masync\u001b[39;00m \u001b[38;5;28;01mdef\u001b[39;00m\u001b[38;5;250m \u001b[39m\u001b[34m_context_manager\u001b[39m(\u001b[38;5;28mself\u001b[39m):\n\u001b[32m--> \u001b[39m\u001b[32m341\u001b[39m     \u001b[38;5;28;01mwith\u001b[39;00m catch(get_catch_handlers()):\n\u001b[32m    342\u001b[39m         \u001b[38;5;28;01masync\u001b[39;00m \u001b[38;5;28;01mwith\u001b[39;00m \u001b[38;5;28mself\u001b[39m.transport.connect_session(\n\u001b[32m    343\u001b[39m             **\u001b[38;5;28mself\u001b[39m._session_kwargs\n\u001b[32m    344\u001b[39m         ) \u001b[38;5;28;01mas\u001b[39;00m session:\n",
      "\u001b[36mFile \u001b[39m\u001b[32m~\\AppData\\Roaming\\Python\\Python313\\site-packages\\exceptiongroup\\_catch.py:39\u001b[39m, in \u001b[36m_Catcher.__exit__\u001b[39m\u001b[34m(self, etype, exc, tb)\u001b[39m\n\u001b[32m     38\u001b[39m \u001b[38;5;28;01mtry\u001b[39;00m:\n\u001b[32m---> \u001b[39m\u001b[32m39\u001b[39m     \u001b[38;5;28;01mraise\u001b[39;00m unhandled \u001b[38;5;28;01mfrom\u001b[39;00m\u001b[38;5;250m \u001b[39m\u001b[34;01mexc\u001b[39;00m\u001b[34;01m.\u001b[39;00m\u001b[34;01m__cause__\u001b[39;00m\n\u001b[32m     40\u001b[39m \u001b[38;5;28;01mexcept\u001b[39;00m BaseExceptionGroup:\n\u001b[32m     41\u001b[39m     \u001b[38;5;66;03m# Change __context__ to __cause__ because Python 3.11 does this\u001b[39;00m\n\u001b[32m     42\u001b[39m     \u001b[38;5;66;03m# too\u001b[39;00m\n",
      "\u001b[36mFile \u001b[39m\u001b[32m~\\AppData\\Roaming\\Python\\Python313\\site-packages\\exceptiongroup\\_catch.py:65\u001b[39m, in \u001b[36m_Catcher.handle_exception\u001b[39m\u001b[34m(self, exc)\u001b[39m\n\u001b[32m     64\u001b[39m     \u001b[38;5;28;01mexcept\u001b[39;00m BaseExceptionGroup:\n\u001b[32m---> \u001b[39m\u001b[32m65\u001b[39m         result = \u001b[43mhandler\u001b[49m\u001b[43m(\u001b[49m\u001b[43mmatched\u001b[49m\u001b[43m)\u001b[49m\n\u001b[32m     66\u001b[39m \u001b[38;5;28;01mexcept\u001b[39;00m BaseExceptionGroup \u001b[38;5;28;01mas\u001b[39;00m new_exc:\n",
      "\u001b[36mFile \u001b[39m\u001b[32m~\\AppData\\Roaming\\Python\\Python313\\site-packages\\fastmcp\\utilities\\exceptions.py:29\u001b[39m, in \u001b[36m_exception_handler\u001b[39m\u001b[34m(group)\u001b[39m\n\u001b[32m     23\u001b[39m     \u001b[38;5;28;01mraise\u001b[39;00m McpError(\n\u001b[32m     24\u001b[39m         error=mcp.types.ErrorData(\n\u001b[32m     25\u001b[39m             code=httpx.codes.REQUEST_TIMEOUT,\n\u001b[32m     26\u001b[39m             message=\u001b[33m\"\u001b[39m\u001b[33mTimed out while waiting for response.\u001b[39m\u001b[33m\"\u001b[39m,\n\u001b[32m     27\u001b[39m         )\n\u001b[32m     28\u001b[39m     )\n\u001b[32m---> \u001b[39m\u001b[32m29\u001b[39m \u001b[38;5;28;01mraise\u001b[39;00m leaf\n",
      "\u001b[36mFile \u001b[39m\u001b[32mC:\\Program Files\\Python313\\Lib\\asyncio\\tasks.py:304\u001b[39m, in \u001b[36mTask.__step_run_and_handle_result\u001b[39m\u001b[34m(***failed resolving arguments***)\u001b[39m\n\u001b[32m    301\u001b[39m \u001b[38;5;28;01mif\u001b[39;00m exc \u001b[38;5;129;01mis\u001b[39;00m \u001b[38;5;28;01mNone\u001b[39;00m:\n\u001b[32m    302\u001b[39m     \u001b[38;5;66;03m# We use the `send` method directly, because coroutines\u001b[39;00m\n\u001b[32m    303\u001b[39m     \u001b[38;5;66;03m# don't have `__iter__` and `__next__` methods.\u001b[39;00m\n\u001b[32m--> \u001b[39m\u001b[32m304\u001b[39m     result = \u001b[43mcoro\u001b[49m\u001b[43m.\u001b[49m\u001b[43msend\u001b[49m\u001b[43m(\u001b[49m\u001b[38;5;28;43;01mNone\u001b[39;49;00m\u001b[43m)\u001b[49m\n\u001b[32m    305\u001b[39m \u001b[38;5;28;01melse\u001b[39;00m:\n",
      "\u001b[36mFile \u001b[39m\u001b[32m~\\AppData\\Roaming\\Python\\Python313\\site-packages\\mcp\\client\\streamable_http.py:405\u001b[39m, in \u001b[36mStreamableHTTPTransport.post_writer.<locals>.handle_request_async\u001b[39m\u001b[34m()\u001b[39m\n\u001b[32m    404\u001b[39m \u001b[38;5;28;01melse\u001b[39;00m:\n\u001b[32m--> \u001b[39m\u001b[32m405\u001b[39m     \u001b[38;5;28;01mawait\u001b[39;00m \u001b[38;5;28mself\u001b[39m._handle_post_request(ctx)\n",
      "\u001b[36mFile \u001b[39m\u001b[32m~\\AppData\\Roaming\\Python\\Python313\\site-packages\\mcp\\client\\streamable_http.py:259\u001b[39m, in \u001b[36mStreamableHTTPTransport._handle_post_request\u001b[39m\u001b[34m(self, ctx)\u001b[39m\n\u001b[32m    257\u001b[39m is_initialization = \u001b[38;5;28mself\u001b[39m._is_initialization_request(message)\n\u001b[32m--> \u001b[39m\u001b[32m259\u001b[39m \u001b[38;5;28;01masync\u001b[39;00m \u001b[38;5;28;01mwith\u001b[39;00m ctx.client.stream(\n\u001b[32m    260\u001b[39m     \u001b[33m\"\u001b[39m\u001b[33mPOST\u001b[39m\u001b[33m\"\u001b[39m,\n\u001b[32m    261\u001b[39m     \u001b[38;5;28mself\u001b[39m.url,\n\u001b[32m    262\u001b[39m     json=message.model_dump(by_alias=\u001b[38;5;28;01mTrue\u001b[39;00m, mode=\u001b[33m\"\u001b[39m\u001b[33mjson\u001b[39m\u001b[33m\"\u001b[39m, exclude_none=\u001b[38;5;28;01mTrue\u001b[39;00m),\n\u001b[32m    263\u001b[39m     headers=headers,\n\u001b[32m    264\u001b[39m ) \u001b[38;5;28;01mas\u001b[39;00m response:\n\u001b[32m    265\u001b[39m     \u001b[38;5;28;01mif\u001b[39;00m response.status_code == \u001b[32m202\u001b[39m:\n",
      "\u001b[36mFile \u001b[39m\u001b[32mC:\\Program Files\\Python313\\Lib\\contextlib.py:214\u001b[39m, in \u001b[36m_AsyncGeneratorContextManager.__aenter__\u001b[39m\u001b[34m(self)\u001b[39m\n\u001b[32m    213\u001b[39m \u001b[38;5;28;01mtry\u001b[39;00m:\n\u001b[32m--> \u001b[39m\u001b[32m214\u001b[39m     \u001b[38;5;28;01mreturn\u001b[39;00m \u001b[38;5;28;01mawait\u001b[39;00m anext(\u001b[38;5;28mself\u001b[39m.gen)\n\u001b[32m    215\u001b[39m \u001b[38;5;28;01mexcept\u001b[39;00m \u001b[38;5;167;01mStopAsyncIteration\u001b[39;00m:\n",
      "\u001b[36mFile \u001b[39m\u001b[32m~\\AppData\\Roaming\\Python\\Python313\\site-packages\\httpx\\_client.py:1583\u001b[39m, in \u001b[36mAsyncClient.stream\u001b[39m\u001b[34m(self, method, url, content, data, files, json, params, headers, cookies, auth, follow_redirects, timeout, extensions)\u001b[39m\n\u001b[32m   1570\u001b[39m request = \u001b[38;5;28mself\u001b[39m.build_request(\n\u001b[32m   1571\u001b[39m     method=method,\n\u001b[32m   1572\u001b[39m     url=url,\n\u001b[32m   (...)\u001b[39m\u001b[32m   1581\u001b[39m     extensions=extensions,\n\u001b[32m   1582\u001b[39m )\n\u001b[32m-> \u001b[39m\u001b[32m1583\u001b[39m response = \u001b[38;5;28;01mawait\u001b[39;00m \u001b[38;5;28mself\u001b[39m.send(\n\u001b[32m   1584\u001b[39m     request=request,\n\u001b[32m   1585\u001b[39m     auth=auth,\n\u001b[32m   1586\u001b[39m     follow_redirects=follow_redirects,\n\u001b[32m   1587\u001b[39m     stream=\u001b[38;5;28;01mTrue\u001b[39;00m,\n\u001b[32m   1588\u001b[39m )\n\u001b[32m   1589\u001b[39m \u001b[38;5;28;01mtry\u001b[39;00m:\n",
      "\u001b[36mFile \u001b[39m\u001b[32m~\\AppData\\Roaming\\Python\\Python313\\site-packages\\httpx\\_client.py:1629\u001b[39m, in \u001b[36mAsyncClient.send\u001b[39m\u001b[34m(self, request, stream, auth, follow_redirects)\u001b[39m\n\u001b[32m   1627\u001b[39m auth = \u001b[38;5;28mself\u001b[39m._build_request_auth(request, auth)\n\u001b[32m-> \u001b[39m\u001b[32m1629\u001b[39m response = \u001b[38;5;28;01mawait\u001b[39;00m \u001b[38;5;28mself\u001b[39m._send_handling_auth(\n\u001b[32m   1630\u001b[39m     request,\n\u001b[32m   1631\u001b[39m     auth=auth,\n\u001b[32m   1632\u001b[39m     follow_redirects=follow_redirects,\n\u001b[32m   1633\u001b[39m     history=[],\n\u001b[32m   1634\u001b[39m )\n\u001b[32m   1635\u001b[39m \u001b[38;5;28;01mtry\u001b[39;00m:\n",
      "\u001b[36mFile \u001b[39m\u001b[32m~\\AppData\\Roaming\\Python\\Python313\\site-packages\\httpx\\_client.py:1657\u001b[39m, in \u001b[36mAsyncClient._send_handling_auth\u001b[39m\u001b[34m(self, request, auth, follow_redirects, history)\u001b[39m\n\u001b[32m   1656\u001b[39m \u001b[38;5;28;01mwhile\u001b[39;00m \u001b[38;5;28;01mTrue\u001b[39;00m:\n\u001b[32m-> \u001b[39m\u001b[32m1657\u001b[39m     response = \u001b[38;5;28;01mawait\u001b[39;00m \u001b[38;5;28mself\u001b[39m._send_handling_redirects(\n\u001b[32m   1658\u001b[39m         request,\n\u001b[32m   1659\u001b[39m         follow_redirects=follow_redirects,\n\u001b[32m   1660\u001b[39m         history=history,\n\u001b[32m   1661\u001b[39m     )\n\u001b[32m   1662\u001b[39m     \u001b[38;5;28;01mtry\u001b[39;00m:\n",
      "\u001b[36mFile \u001b[39m\u001b[32m~\\AppData\\Roaming\\Python\\Python313\\site-packages\\httpx\\_client.py:1694\u001b[39m, in \u001b[36mAsyncClient._send_handling_redirects\u001b[39m\u001b[34m(self, request, follow_redirects, history)\u001b[39m\n\u001b[32m   1692\u001b[39m     \u001b[38;5;28;01mawait\u001b[39;00m hook(request)\n\u001b[32m-> \u001b[39m\u001b[32m1694\u001b[39m response = \u001b[38;5;28;01mawait\u001b[39;00m \u001b[38;5;28mself\u001b[39m._send_single_request(request)\n\u001b[32m   1695\u001b[39m \u001b[38;5;28;01mtry\u001b[39;00m:\n",
      "\u001b[36mFile \u001b[39m\u001b[32m~\\AppData\\Roaming\\Python\\Python313\\site-packages\\httpx\\_client.py:1730\u001b[39m, in \u001b[36mAsyncClient._send_single_request\u001b[39m\u001b[34m(self, request)\u001b[39m\n\u001b[32m   1729\u001b[39m \u001b[38;5;28;01mwith\u001b[39;00m request_context(request=request):\n\u001b[32m-> \u001b[39m\u001b[32m1730\u001b[39m     response = \u001b[38;5;28;01mawait\u001b[39;00m transport.handle_async_request(request)\n\u001b[32m   1732\u001b[39m \u001b[38;5;28;01massert\u001b[39;00m \u001b[38;5;28misinstance\u001b[39m(response.stream, AsyncByteStream)\n",
      "\u001b[36mFile \u001b[39m\u001b[32m~\\AppData\\Roaming\\Python\\Python313\\site-packages\\httpx\\_transports\\default.py:393\u001b[39m, in \u001b[36mAsyncHTTPTransport.handle_async_request\u001b[39m\u001b[34m(self, request)\u001b[39m\n\u001b[32m    381\u001b[39m req = httpcore.Request(\n\u001b[32m    382\u001b[39m     method=request.method,\n\u001b[32m    383\u001b[39m     url=httpcore.URL(\n\u001b[32m   (...)\u001b[39m\u001b[32m    391\u001b[39m     extensions=request.extensions,\n\u001b[32m    392\u001b[39m )\n\u001b[32m--> \u001b[39m\u001b[32m393\u001b[39m \u001b[38;5;28;01mwith\u001b[39;00m map_httpcore_exceptions():\n\u001b[32m    394\u001b[39m     resp = \u001b[38;5;28;01mawait\u001b[39;00m \u001b[38;5;28mself\u001b[39m._pool.handle_async_request(req)\n",
      "\u001b[36mFile \u001b[39m\u001b[32mC:\\Program Files\\Python313\\Lib\\contextlib.py:162\u001b[39m, in \u001b[36m_GeneratorContextManager.__exit__\u001b[39m\u001b[34m(self, typ, value, traceback)\u001b[39m\n\u001b[32m    161\u001b[39m \u001b[38;5;28;01mtry\u001b[39;00m:\n\u001b[32m--> \u001b[39m\u001b[32m162\u001b[39m     \u001b[38;5;28;43mself\u001b[39;49m\u001b[43m.\u001b[49m\u001b[43mgen\u001b[49m\u001b[43m.\u001b[49m\u001b[43mthrow\u001b[49m\u001b[43m(\u001b[49m\u001b[43mvalue\u001b[49m\u001b[43m)\u001b[49m\n\u001b[32m    163\u001b[39m \u001b[38;5;28;01mexcept\u001b[39;00m \u001b[38;5;167;01mStopIteration\u001b[39;00m \u001b[38;5;28;01mas\u001b[39;00m exc:\n\u001b[32m    164\u001b[39m     \u001b[38;5;66;03m# Suppress StopIteration *unless* it's the same exception that\u001b[39;00m\n\u001b[32m    165\u001b[39m     \u001b[38;5;66;03m# was passed to throw().  This prevents a StopIteration\u001b[39;00m\n\u001b[32m    166\u001b[39m     \u001b[38;5;66;03m# raised inside the \"with\" statement from being suppressed.\u001b[39;00m\n",
      "\u001b[36mFile \u001b[39m\u001b[32m~\\AppData\\Roaming\\Python\\Python313\\site-packages\\httpx\\_transports\\default.py:118\u001b[39m, in \u001b[36mmap_httpcore_exceptions\u001b[39m\u001b[34m()\u001b[39m\n\u001b[32m    117\u001b[39m message = \u001b[38;5;28mstr\u001b[39m(exc)\n\u001b[32m--> \u001b[39m\u001b[32m118\u001b[39m \u001b[38;5;28;01mraise\u001b[39;00m mapped_exc(message) \u001b[38;5;28;01mfrom\u001b[39;00m\u001b[38;5;250m \u001b[39m\u001b[34;01mexc\u001b[39;00m\n",
      "\u001b[31mConnectError\u001b[39m: All connection attempts failed",
      "\nThe above exception was the direct cause of the following exception:\n",
      "\u001b[31mRuntimeError\u001b[39m                              Traceback (most recent call last)",
      "\u001b[36mCell\u001b[39m\u001b[36m \u001b[39m\u001b[32mIn[3]\u001b[39m\u001b[32m, line 18\u001b[39m\n\u001b[32m     15\u001b[39m         greeting = \u001b[38;5;28;01mawait\u001b[39;00m client.call_tool(\u001b[33m\"\u001b[39m\u001b[33mgreet\u001b[39m\u001b[33m\"\u001b[39m, {\u001b[33m\"\u001b[39m\u001b[33mname\u001b[39m\u001b[33m\"\u001b[39m: \u001b[33m\"\u001b[39m\u001b[33mAlice\u001b[39m\u001b[33m\"\u001b[39m})\n\u001b[32m     16\u001b[39m         \u001b[38;5;28mprint\u001b[39m(\u001b[33m\"\u001b[39m\u001b[33mGreeting result:\u001b[39m\u001b[33m\"\u001b[39m, greeting)\n\u001b[32m---> \u001b[39m\u001b[32m18\u001b[39m \u001b[38;5;28;01mawait\u001b[39;00m run_client()\n",
      "\u001b[36mCell\u001b[39m\u001b[36m \u001b[39m\u001b[32mIn[3]\u001b[39m\u001b[32m, line 10\u001b[39m, in \u001b[36mrun_client\u001b[39m\u001b[34m()\u001b[39m\n\u001b[32m      8\u001b[39m \u001b[38;5;28;01masync\u001b[39;00m \u001b[38;5;28;01mdef\u001b[39;00m\u001b[38;5;250m \u001b[39m\u001b[34mrun_client\u001b[39m():\n\u001b[32m      9\u001b[39m     transport = StreamableHttpTransport(\u001b[33m\"\u001b[39m\u001b[33mhttp://127.0.0.1:8000/mcp\u001b[39m\u001b[33m\"\u001b[39m)\n\u001b[32m---> \u001b[39m\u001b[32m10\u001b[39m     \u001b[38;5;28;01masync\u001b[39;00m \u001b[38;5;28;01mwith\u001b[39;00m Client(transport=transport) \u001b[38;5;28;01mas\u001b[39;00m client:\n\u001b[32m     11\u001b[39m         \u001b[38;5;28;01mawait\u001b[39;00m client.ping()\n\u001b[32m     12\u001b[39m         \u001b[38;5;28mprint\u001b[39m(\u001b[33m\"\u001b[39m\u001b[33mPing successful!\u001b[39m\u001b[33m\"\u001b[39m)\n",
      "\u001b[36mFile \u001b[39m\u001b[32m~\\AppData\\Roaming\\Python\\Python313\\site-packages\\fastmcp\\client\\client.py:362\u001b[39m, in \u001b[36mClient.__aenter__\u001b[39m\u001b[34m(self)\u001b[39m\n\u001b[32m    361\u001b[39m \u001b[38;5;28;01masync\u001b[39;00m \u001b[38;5;28;01mdef\u001b[39;00m\u001b[38;5;250m \u001b[39m\u001b[34m__aenter__\u001b[39m(\u001b[38;5;28mself\u001b[39m):\n\u001b[32m--> \u001b[39m\u001b[32m362\u001b[39m     \u001b[38;5;28;01mreturn\u001b[39;00m \u001b[38;5;28;01mawait\u001b[39;00m \u001b[38;5;28mself\u001b[39m._connect()\n",
      "\u001b[36mFile \u001b[39m\u001b[32m~\\AppData\\Roaming\\Python\\Python313\\site-packages\\fastmcp\\client\\client.py:406\u001b[39m, in \u001b[36mClient._connect\u001b[39m\u001b[34m(self)\u001b[39m\n\u001b[32m    404\u001b[39m             \u001b[38;5;28;01mif\u001b[39;00m \u001b[38;5;28misinstance\u001b[39m(exception, httpx.HTTPStatusError):\n\u001b[32m    405\u001b[39m                 \u001b[38;5;28;01mraise\u001b[39;00m exception\n\u001b[32m--> \u001b[39m\u001b[32m406\u001b[39m             \u001b[38;5;28;01mraise\u001b[39;00m \u001b[38;5;167;01mRuntimeError\u001b[39;00m(\n\u001b[32m    407\u001b[39m                 \u001b[33mf\u001b[39m\u001b[33m\"\u001b[39m\u001b[33mClient failed to connect: \u001b[39m\u001b[38;5;132;01m{\u001b[39;00mexception\u001b[38;5;132;01m}\u001b[39;00m\u001b[33m\"\u001b[39m\n\u001b[32m    408\u001b[39m             ) \u001b[38;5;28;01mfrom\u001b[39;00m\u001b[38;5;250m \u001b[39m\u001b[34;01mexception\u001b[39;00m\n\u001b[32m    410\u001b[39m     \u001b[38;5;28mself\u001b[39m._session_state.nesting_counter += \u001b[32m1\u001b[39m\n\u001b[32m    411\u001b[39m \u001b[38;5;28;01mreturn\u001b[39;00m \u001b[38;5;28mself\u001b[39m\n",
      "\u001b[31mRuntimeError\u001b[39m: Client failed to connect: All connection attempts failed"
     ]
    }
   ],
   "source": [
    "import nest_asyncio\n",
    "nest_asyncio.apply()\n",
    "\n",
    "import asyncio\n",
    "from fastmcp import Client\n",
    "from fastmcp.client.transports import StreamableHttpTransport\n",
    "\n",
    "async def run_client():\n",
    "    transport = StreamableHttpTransport(\"http://127.0.0.1:8000/mcp\")\n",
    "    async with Client(transport=transport) as client:\n",
    "        await client.ping()\n",
    "        print(\"Ping successful!\")\n",
    "        tools = await client.list_tools()\n",
    "        print(\"Available tools:\", tools)\n",
    "        greeting = await client.call_tool(\"greet\", {\"name\": \"Alice\"})\n",
    "        print(\"Greeting result:\", greeting)\n",
    "\n",
    "await run_client()\n"
   ]
  },
  {
   "cell_type": "code",
   "execution_count": null,
   "id": "1e8a1eb7-6b5f-4f1d-872d-add514b80348",
   "metadata": {},
   "outputs": [],
   "source": []
  }
 ],
 "metadata": {
  "kernelspec": {
   "display_name": "Python 3 (ipykernel)",
   "language": "python",
   "name": "python3"
  },
  "language_info": {
   "codemirror_mode": {
    "name": "ipython",
    "version": 3
   },
   "file_extension": ".py",
   "mimetype": "text/x-python",
   "name": "python",
   "nbconvert_exporter": "python",
   "pygments_lexer": "ipython3",
   "version": "3.13.2"
  }
 },
 "nbformat": 4,
 "nbformat_minor": 5
}
