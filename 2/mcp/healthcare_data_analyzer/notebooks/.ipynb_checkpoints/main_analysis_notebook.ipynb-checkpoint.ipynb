{
 "cells": [
  {
   "cell_type": "code",
   "execution_count": null,
   "id": "25dc2ce1-ae27-44d3-8d48-229f738710c6",
   "metadata": {},
   "outputs": [],
   "source": [
    "import sys\n",
    "import os\n",
    "import warnings\n",
    "warnings.filterwarnings('ignore')\n",
    "\n",
    "project_path = r'D:\\agenic_arhitecture\\mcp\\healthcare_data_analyzer\\agents'\n",
    "if project_path not in sys.path:\n",
    "    sys.path.append(project_path)\n",
    "\n",
    "import pandas as pd\n",
    "import numpy as np\n",
    "import matplotlib.pyplot as plt\n",
    "import seaborn as sns\n",
    "from IPython.display import display, HTML\n",
    "\n",
    "from csv_analyzer_agent import FreeCSVAnalyzer\n",
    "from data_processor import FreeDataProcessor\n",
    "\n",
    "print(\"✅ Modules imported successfully\")\n",
    "\n",
    "analyzer = FreeCSVAnalyzer()\n",
    "processor = FreeDataProcessor()\n",
    "\n",
    "print(\"✅ Analyzer and processor initialized\")\n"
   ]
  }
 ],
 "metadata": {
  "kernelspec": {
   "display_name": "Python 3 (ipykernel)",
   "language": "python",
   "name": "python3"
  },
  "language_info": {
   "codemirror_mode": {
    "name": "ipython",
    "version": 3
   },
   "file_extension": ".py",
   "mimetype": "text/x-python",
   "name": "python",
   "nbconvert_exporter": "python",
   "pygments_lexer": "ipython3",
   "version": "3.13.7"
  }
 },
 "nbformat": 4,
 "nbformat_minor": 5
}
