{
 "cells": [
  {
   "cell_type": "code",
   "execution_count": 2,
   "id": "8011aac3-82cf-4d65-993d-0d477bb96c90",
   "metadata": {},
   "outputs": [],
   "source": [
    "import sys\n",
    "sys.path.append(r\"D:\\agenic_architecture\\1\\agents\")\n"
   ]
  },
  {
   "cell_type": "code",
   "execution_count": 3,
   "id": "77f33192-db4d-48f9-9e69-a11830167ca6",
   "metadata": {},
   "outputs": [
    {
     "ename": "ModuleNotFoundError",
     "evalue": "No module named 'analytics_engine'",
     "output_type": "error",
     "traceback": [
      "\u001b[31m---------------------------------------------------------------------------\u001b[39m",
      "\u001b[31mModuleNotFoundError\u001b[39m                       Traceback (most recent call last)",
      "\u001b[36mCell\u001b[39m\u001b[36m \u001b[39m\u001b[32mIn[3]\u001b[39m\u001b[32m, line 1\u001b[39m\n\u001b[32m----> \u001b[39m\u001b[32m1\u001b[39m \u001b[38;5;28;01mfrom\u001b[39;00m\u001b[38;5;250m \u001b[39m\u001b[34;01manalytics_engine\u001b[39;00m\u001b[38;5;250m \u001b[39m\u001b[38;5;28;01mimport\u001b[39;00m AnalyticsEngine\n",
      "\u001b[31mModuleNotFoundError\u001b[39m: No module named 'analytics_engine'"
     ]
    }
   ],
   "source": [
    "from analytics_engine import AnalyticsEngine\n"
   ]
  },
  {
   "cell_type": "code",
   "execution_count": null,
   "id": "2df34107-5564-4781-b93f-194769e3e500",
   "metadata": {},
   "outputs": [],
   "source": []
  }
 ],
 "metadata": {
  "kernelspec": {
   "display_name": "Python 3 (ipykernel)",
   "language": "python",
   "name": "python3"
  },
  "language_info": {
   "codemirror_mode": {
    "name": "ipython",
    "version": 3
   },
   "file_extension": ".py",
   "mimetype": "text/x-python",
   "name": "python",
   "nbconvert_exporter": "python",
   "pygments_lexer": "ipython3",
   "version": "3.11.0"
  }
 },
 "nbformat": 4,
 "nbformat_minor": 5
}
