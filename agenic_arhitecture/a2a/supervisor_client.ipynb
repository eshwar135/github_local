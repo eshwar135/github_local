{
 "cells": [
  {
   "cell_type": "code",
   "execution_count": 1,
   "id": "60757e98-8ccb-4735-9f85-f72bf117197f",
   "metadata": {},
   "outputs": [
    {
     "name": "stdout",
     "output_type": "stream",
     "text": [
      "Defaulting to user installation because normal site-packages is not writeable\n",
      "Requirement already satisfied: requests in c:\\users\\18esh\\appdata\\roaming\\python\\python313\\site-packages (2.32.4)\n",
      "Requirement already satisfied: charset_normalizer<4,>=2 in c:\\users\\18esh\\appdata\\roaming\\python\\python313\\site-packages (from requests) (3.4.2)\n",
      "Requirement already satisfied: idna<4,>=2.5 in c:\\users\\18esh\\appdata\\roaming\\python\\python313\\site-packages (from requests) (3.10)\n",
      "Requirement already satisfied: urllib3<3,>=1.21.1 in c:\\users\\18esh\\appdata\\roaming\\python\\python313\\site-packages (from requests) (2.5.0)\n",
      "Requirement already satisfied: certifi>=2017.4.17 in c:\\users\\18esh\\appdata\\roaming\\python\\python313\\site-packages (from requests) (2025.7.14)\n",
      "Discovered agent: EchoAgent\n",
      "Agent replied: Echo: What is the meaning of life?\n"
     ]
    }
   ],
   "source": [
    "!pip install requests\n",
    "\n",
    "import requests\n",
    "import uuid\n",
    "\n",
    "agent_url = \"http://127.0.0.1:5001\"\n",
    "\n",
    "response = requests.get(f\"{agent_url}/.well-known/agent.json\")\n",
    "agent_card = response.json()\n",
    "print(\"Discovered agent:\", agent_card[\"name\"])\n",
    "\n",
    "task_id = str(uuid.uuid4())\n",
    "payload = {\n",
    "    \"id\": task_id,\n",
    "    \"message\": {\n",
    "        \"role\": \"user\",\n",
    "        \"parts\": [{\"text\": \"What is the meaning of life?\"}]\n",
    "    }\n",
    "}\n",
    "\n",
    "task_response = requests.post(f\"{agent_url}/tasks/send\", json=payload)\n",
    "result = task_response.json()\n",
    "\n",
    "if result[\"status\"][\"state\"] == \"completed\":\n",
    "    agent_reply = result[\"messages\"][0][\"parts\"][0][\"text\"]\n",
    "    print(\"Agent replied:\", agent_reply)\n",
    "else:\n",
    "    print(\"Task not completed:\", result)\n"
   ]
  },
  {
   "cell_type": "code",
   "execution_count": null,
   "id": "62619a71-bd45-4877-abdd-909eb943b132",
   "metadata": {},
   "outputs": [],
   "source": []
  }
 ],
 "metadata": {
  "kernelspec": {
   "display_name": "Python 3 (ipykernel)",
   "language": "python",
   "name": "python3"
  },
  "language_info": {
   "codemirror_mode": {
    "name": "ipython",
    "version": 3
   },
   "file_extension": ".py",
   "mimetype": "text/x-python",
   "name": "python",
   "nbconvert_exporter": "python",
   "pygments_lexer": "ipython3",
   "version": "3.11.0"
  }
 },
 "nbformat": 4,
 "nbformat_minor": 5
}
