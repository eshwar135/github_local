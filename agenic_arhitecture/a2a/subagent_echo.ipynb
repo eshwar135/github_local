{
 "cells": [
  {
   "cell_type": "code",
   "execution_count": 2,
   "id": "5188c49f-3f5f-4e8f-b33d-b835d9584f6d",
   "metadata": {},
   "outputs": [
    {
     "name": "stdout",
     "output_type": "stream",
     "text": [
      "Defaulting to user installation because normal site-packages is not writeable\n",
      "Requirement already satisfied: fastapi in c:\\users\\18esh\\appdata\\roaming\\python\\python313\\site-packages (0.115.9)\n",
      "Requirement already satisfied: uvicorn in c:\\users\\18esh\\appdata\\roaming\\python\\python313\\site-packages (0.34.0)\n",
      "Requirement already satisfied: starlette<0.46.0,>=0.40.0 in c:\\users\\18esh\\appdata\\roaming\\python\\python313\\site-packages (from fastapi) (0.45.3)\n",
      "Requirement already satisfied: pydantic!=1.8,!=1.8.1,!=2.0.0,!=2.0.1,!=2.1.0,<3.0.0,>=1.7.4 in c:\\users\\18esh\\appdata\\roaming\\python\\python313\\site-packages (from fastapi) (2.11.7)\n",
      "Requirement already satisfied: typing-extensions>=4.8.0 in c:\\users\\18esh\\appdata\\roaming\\python\\python313\\site-packages (from fastapi) (4.14.1)\n",
      "Requirement already satisfied: annotated-types>=0.6.0 in c:\\users\\18esh\\appdata\\roaming\\python\\python313\\site-packages (from pydantic!=1.8,!=1.8.1,!=2.0.0,!=2.0.1,!=2.1.0,<3.0.0,>=1.7.4->fastapi) (0.7.0)\n",
      "Requirement already satisfied: pydantic-core==2.33.2 in c:\\users\\18esh\\appdata\\roaming\\python\\python313\\site-packages (from pydantic!=1.8,!=1.8.1,!=2.0.0,!=2.0.1,!=2.1.0,<3.0.0,>=1.7.4->fastapi) (2.33.2)\n",
      "Requirement already satisfied: typing-inspection>=0.4.0 in c:\\users\\18esh\\appdata\\roaming\\python\\python313\\site-packages (from pydantic!=1.8,!=1.8.1,!=2.0.0,!=2.0.1,!=2.1.0,<3.0.0,>=1.7.4->fastapi) (0.4.1)\n",
      "Requirement already satisfied: anyio<5,>=3.6.2 in c:\\users\\18esh\\appdata\\roaming\\python\\python313\\site-packages (from starlette<0.46.0,>=0.40.0->fastapi) (4.9.0)\n",
      "Requirement already satisfied: idna>=2.8 in c:\\users\\18esh\\appdata\\roaming\\python\\python313\\site-packages (from anyio<5,>=3.6.2->starlette<0.46.0,>=0.40.0->fastapi) (3.10)\n",
      "Requirement already satisfied: sniffio>=1.1 in c:\\users\\18esh\\appdata\\roaming\\python\\python313\\site-packages (from anyio<5,>=3.6.2->starlette<0.46.0,>=0.40.0->fastapi) (1.3.1)\n",
      "Requirement already satisfied: click>=7.0 in c:\\users\\18esh\\appdata\\roaming\\python\\python313\\site-packages (from uvicorn) (8.1.8)\n",
      "Requirement already satisfied: h11>=0.8 in c:\\users\\18esh\\appdata\\roaming\\python\\python313\\site-packages (from uvicorn) (0.16.0)\n",
      "Requirement already satisfied: colorama in c:\\users\\18esh\\appdata\\roaming\\python\\python313\\site-packages (from click>=7.0->uvicorn) (0.4.6)\n",
      "Subagent EchoAgent running on http://127.0.0.1:5001\n"
     ]
    },
    {
     "name": "stderr",
     "output_type": "stream",
     "text": [
      "INFO:     Started server process [16432]\n",
      "INFO:     Waiting for application startup.\n",
      "INFO:     Application startup complete.\n",
      "ERROR:    [Errno 10048] error while attempting to bind on address ('127.0.0.1', 5001): only one usage of each socket address (protocol/network address/port) is normally permitted\n",
      "INFO:     Waiting for application shutdown.\n",
      "INFO:     Application shutdown complete.\n"
     ]
    }
   ],
   "source": [
    "!pip install fastapi uvicorn\n",
    "\n",
    "from fastapi import FastAPI, Request\n",
    "import uvicorn\n",
    "import threading\n",
    "\n",
    "app = FastAPI()\n",
    "\n",
    "@app.get(\"/.well-known/agent.json\")\n",
    "def agent_card():\n",
    "    return {\n",
    "        \"name\": \"EchoAgent\",\n",
    "        \"description\": \"An agent that echoes back messages\",\n",
    "        \"url\": \"http://localhost:5001/\",\n",
    "        \"skills\": [\"echo\"]\n",
    "    }\n",
    "\n",
    "@app.post(\"/tasks/send\")\n",
    "async def send_task(request: Request):\n",
    "    body = await request.json()\n",
    "    message = body.get(\"message\", {}).get(\"parts\", [{}])[0].get(\"text\")\n",
    "    return {\n",
    "        \"id\": body.get(\"id\"),\n",
    "        \"status\": {\"state\": \"completed\"},\n",
    "        \"messages\": [\n",
    "            {\"role\": \"agent\", \"parts\": [{\"text\": f\"Echo: {message}\"}]}\n",
    "        ]\n",
    "    }\n",
    "\n",
    "def run_agent():\n",
    "    uvicorn.run(app, host=\"127.0.0.1\", port=5001)\n",
    "\n",
    "threading.Thread(target=run_agent, daemon=True).start()\n",
    "\n",
    "print(\"Subagent EchoAgent running on http://127.0.0.1:5001\")\n"
   ]
  },
  {
   "cell_type": "code",
   "execution_count": null,
   "id": "80ad1405-2faf-4a6b-bd0e-2898e7ff52f8",
   "metadata": {},
   "outputs": [],
   "source": []
  }
 ],
 "metadata": {
  "kernelspec": {
   "display_name": "Python 3 (ipykernel)",
   "language": "python",
   "name": "python3"
  },
  "language_info": {
   "codemirror_mode": {
    "name": "ipython",
    "version": 3
   },
   "file_extension": ".py",
   "mimetype": "text/x-python",
   "name": "python",
   "nbconvert_exporter": "python",
   "pygments_lexer": "ipython3",
   "version": "3.11.0"
  }
 },
 "nbformat": 4,
 "nbformat_minor": 5
}
