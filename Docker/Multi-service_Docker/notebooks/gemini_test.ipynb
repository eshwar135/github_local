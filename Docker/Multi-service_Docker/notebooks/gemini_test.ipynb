{
 "cells": [
  {
   "cell_type": "code",
   "execution_count": 1,
   "id": "9b087cd9-7aca-44df-aa5d-63a37403fdb4",
   "metadata": {},
   "outputs": [
    {
     "name": "stdout",
     "output_type": "stream",
     "text": [
      "GEMINI_API_KEY present? False\n"
     ]
    },
    {
     "ename": "AttributeError",
     "evalue": "module 'google.generativeai' has no attribute 'generate_text'",
     "output_type": "error",
     "traceback": [
      "\u001b[31m---------------------------------------------------------------------------\u001b[39m",
      "\u001b[31mAttributeError\u001b[39m                            Traceback (most recent call last)",
      "\u001b[36mCell\u001b[39m\u001b[36m \u001b[39m\u001b[32mIn[1]\u001b[39m\u001b[32m, line 12\u001b[39m\n\u001b[32m      9\u001b[39m \u001b[38;5;28;01mimport\u001b[39;00m\u001b[38;5;250m \u001b[39m\u001b[34;01mgoogle\u001b[39;00m\u001b[34;01m.\u001b[39;00m\u001b[34;01mgenerativeai\u001b[39;00m\u001b[38;5;250m \u001b[39m\u001b[38;5;28;01mas\u001b[39;00m\u001b[38;5;250m \u001b[39m\u001b[34;01mgenai\u001b[39;00m\n\u001b[32m     10\u001b[39m genai.configure(api_key=os.getenv(\u001b[33m\"\u001b[39m\u001b[33mGEMINI_API_KEY\u001b[39m\u001b[33m\"\u001b[39m))\n\u001b[32m---> \u001b[39m\u001b[32m12\u001b[39m resp = \u001b[43mgenai\u001b[49m\u001b[43m.\u001b[49m\u001b[43mgenerate_text\u001b[49m(model=\u001b[33m\"\u001b[39m\u001b[33mmodels/text-bison-001\u001b[39m\u001b[33m\"\u001b[39m, \u001b[38;5;28minput\u001b[39m=\u001b[33m\"\u001b[39m\u001b[33mSay hello from Jupyter + Gemini\u001b[39m\u001b[33m\"\u001b[39m)\n\u001b[32m     13\u001b[39m \u001b[38;5;28mprint\u001b[39m(resp)\n",
      "\u001b[31mAttributeError\u001b[39m: module 'google.generativeai' has no attribute 'generate_text'"
     ]
    }
   ],
   "source": [
    "# notebooks/gemini_test.py\n",
    "import os\n",
    "from dotenv import load_dotenv\n",
    "load_dotenv(\"/home/jovyan/.env\")  # Docker-compose mounted env into notebook container\n",
    "\n",
    "print(\"GEMINI_API_KEY present?\", bool(os.getenv(\"GEMINI_API_KEY\")))\n",
    "\n",
    "# example using google.generativeai\n",
    "import google.generativeai as genai\n",
    "genai.configure(api_key=os.getenv(\"GEMINI_API_KEY\"))\n",
    "\n",
    "resp = genai.generate_text(model=\"models/text-bison-001\", input=\"Say hello from Jupyter + Gemini\")\n",
    "print(resp)\n"
   ]
  },
  {
   "cell_type": "code",
   "execution_count": null,
   "id": "35c1309c-f8a8-4b44-8cce-70fda8259d77",
   "metadata": {},
   "outputs": [],
   "source": []
  }
 ],
 "metadata": {
  "kernelspec": {
   "display_name": "Python 3 (ipykernel)",
   "language": "python",
   "name": "python3"
  },
  "language_info": {
   "codemirror_mode": {
    "name": "ipython",
    "version": 3
   },
   "file_extension": ".py",
   "mimetype": "text/x-python",
   "name": "python",
   "nbconvert_exporter": "python",
   "pygments_lexer": "ipython3",
   "version": "3.11.0"
  }
 },
 "nbformat": 4,
 "nbformat_minor": 5
}
